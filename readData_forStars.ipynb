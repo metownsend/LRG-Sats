{
 "cells": [
  {
   "cell_type": "code",
   "execution_count": null,
   "metadata": {},
   "outputs": [],
   "source": [
    "from astropy.io import fits\n",
    "from astropy.table import Table\n",
    "import numpy as np\n",
    "import matplotlib.pylab as plt \n",
    "import matplotlib.lines as mlines\n",
    "from matplotlib.legend import Legend\n",
    "from pythonds.basic.stack import Stack\n",
    "from math import *\n",
    "from sklearn.neighbors import KDTree\n",
    "from lrg_plot_functions import *\n",
    "from lrg_sum_functions import *\n",
    "from cosmo_Calc import *\n",
    "from divideByTwo import *\n",
    "# from read_data import *\n",
    "from nearNeighbors import *\n",
    "from scipy import stats\n",
    "from astropy import stats\n",
    "import healpy as hp\n",
    "from localBKG_and_interlopersHEALPix import *\n",
    "# import healpy as hpy\n",
    "from makeCutoutTableFunc import *\n",
    "from plotHistogramProjections3D import *\n",
    "from read_bricks import *\n",
    "from mpl_toolkits.axes_grid1 import make_axes_locatable\n",
    "import random"
   ]
  },
  {
   "cell_type": "code",
   "execution_count": null,
   "metadata": {},
   "outputs": [],
   "source": [
    "def read_data_new(DECaLS_data):\n",
    "    \n",
    "   # Read in data from DECaLS bricks\n",
    "\n",
    "    # source type\n",
    "    source_type = []\n",
    "    source_type = DECaLS_data.field('type')\n",
    "\n",
    "    # RA\n",
    "    ra = []\n",
    "    ra = DECaLS_data.field('ra')\n",
    "\n",
    "    # Dec\n",
    "    dec = []\n",
    "    dec = DECaLS_data.field('dec')\n",
    "\n",
    "    # ref_cat\n",
    "    ref_cat = []\n",
    "    ref_cat = DECaLS_data.field('ref_cat')\n",
    "    \n",
    "    # gaia g-band mag\n",
    "    gaia_phot_g_mean_mag = []\n",
    "    gaia_phot_g_mean_mag = DECaLS_data.field('gaia_phot_g_mean_mag')\n",
    "\n",
    "    \n",
    "    return source_type, ra, dec, ref_cat, gaia_phot_g_mean_mag\n"
   ]
  }
 ],
 "metadata": {
  "kernelspec": {
   "display_name": "Python 3",
   "language": "python",
   "name": "python3"
  },
  "language_info": {
   "codemirror_mode": {
    "name": "ipython",
    "version": 3
   },
   "file_extension": ".py",
   "mimetype": "text/x-python",
   "name": "python",
   "nbconvert_exporter": "python",
   "pygments_lexer": "ipython3",
   "version": "3.5.5"
  }
 },
 "nbformat": 4,
 "nbformat_minor": 2
}
