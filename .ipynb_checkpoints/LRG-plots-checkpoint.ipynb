{
 "cells": [
  {
   "cell_type": "code",
   "execution_count": 2,
   "metadata": {},
   "outputs": [],
   "source": [
    "from astropy.io import fits\n",
    "from astropy.table import Table\n",
    "import numpy as np\n",
    "import matplotlib.pylab as plt \n",
    "import matplotlib.lines as mlines\n",
    "from matplotlib.legend import Legend\n",
    "from pythonds.basic.stack import Stack\n",
    "from math import *\n",
    "from sklearn.neighbors import KDTree\n",
    "from lrg_plot_functions import *\n",
    "from lrg_sum_functions import *\n",
    "from cosmo_Calc import *\n",
    "from divideByTwo import *\n",
    "# from read_data import *\n",
    "from nearNeighbors import *\n",
    "from scipy import stats\n",
    "from astropy import stats\n",
    "import healpy as hp\n",
    "from localBKG_and_interlopersHEALPix import *\n",
    "# import healpy as hpy\n",
    "from makeCutoutTableFunc import *\n",
    "from plotHistogramProjections3D import *\n",
    "from read_bricks import *\n",
    "from mpl_toolkits.axes_grid1 import make_axes_locatable\n",
    "import random"
   ]
  },
  {
   "cell_type": "code",
   "execution_count": 7,
   "metadata": {},
   "outputs": [
    {
     "name": "stdout",
     "output_type": "stream",
     "text": [
      "(1823,)\n",
      "----\n",
      "(1823,)\n",
      "----\n",
      "(1823,)\n",
      "----\n",
      "(1823,)\n",
      "----\n",
      "(1823,)\n",
      "----\n",
      "(1823,)\n",
      "15.818878\n",
      "21.957382\n",
      "----\n",
      "(1823,)\n",
      "----\n",
      "(1823,)\n"
     ]
    }
   ],
   "source": [
    "# save LRG data arrays\n",
    "\n",
    "data_raLRG = np.load('/Users/mtownsend/anaconda/Data/ra_LRG.npz')\n",
    "raLRG = data_raLRG['ra_LRG']\n",
    "print(raLRG.shape)\n",
    "\n",
    "print('----')\n",
    "\n",
    "data_decLRG = np.load('/Users/mtownsend/anaconda/Data/dec_LRG.npz')\n",
    "decLRG = data_decLRG['dec_LRG']\n",
    "print(decLRG.shape)\n",
    "\n",
    "print('----')\n",
    "\n",
    "data_zLRG = np.load('/Users/mtownsend/anaconda/Data/z_LRG.npz')\n",
    "zLRG = data_zLRG['z_LRG']\n",
    "print(zLRG.shape)\n",
    "\n",
    "print('----')\n",
    "\n",
    "data_gmagLRG = np.load('/Users/mtownsend/anaconda/Data/gmag_LRG.npz')\n",
    "gmagLRG = data_gmagLRG['gmag_LRG']\n",
    "print(gmagLRG.shape)\n",
    "\n",
    "print('----')\n",
    "\n",
    "data_rmagLRG = np.load('/Users/mtownsend/anaconda/Data/rmag_LRG.npz')\n",
    "rmagLRG = data_rmagLRG['rmag_LRG']\n",
    "print(rmagLRG.shape)\n",
    "\n",
    "print('----')\n",
    "\n",
    "data_zmagLRG = np.load('/Users/mtownsend/anaconda/Data/zmag_LRG.npz')\n",
    "zmagLRG = data_zmagLRG['zmag_LRG']\n",
    "print(zmagLRG.shape)\n",
    "print(zmagLRG.min())\n",
    "print(zmagLRG.max())\n",
    "\n",
    "print('----')\n",
    "\n",
    "data_grcolorLRG = np.load('/Users/mtownsend/anaconda/Data/grcolor_LRG.npz')\n",
    "grcolorLRG = data_grcolorLRG['grcolor_LRG']\n",
    "print(grcolorLRG.shape)\n",
    "\n",
    "print('----')\n",
    "\n",
    "data_rzcolorLRG = np.load('/Users/mtownsend/anaconda/Data/rzcolor_LRG.npz')\n",
    "rzcolorLRG = data_rzcolorLRG['rzcolor_LRG']\n",
    "print(rzcolorLRG.shape)\n",
    "\n"
   ]
  },
  {
   "cell_type": "code",
   "execution_count": null,
   "metadata": {},
   "outputs": [],
   "source": []
  }
 ],
 "metadata": {
  "kernelspec": {
   "display_name": "Python 3",
   "language": "python",
   "name": "python3"
  },
  "language_info": {
   "codemirror_mode": {
    "name": "ipython",
    "version": 3
   },
   "file_extension": ".py",
   "mimetype": "text/x-python",
   "name": "python",
   "nbconvert_exporter": "python",
   "pygments_lexer": "ipython3",
   "version": "3.5.5"
  }
 },
 "nbformat": 4,
 "nbformat_minor": 2
}
