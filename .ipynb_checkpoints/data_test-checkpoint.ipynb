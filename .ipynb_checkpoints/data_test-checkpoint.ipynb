{
 "cells": [
  {
   "cell_type": "code",
   "execution_count": 1,
   "metadata": {},
   "outputs": [],
   "source": [
    "from astropy.io import fits\n",
    "from astropy.table import Table\n",
    "import numpy as np\n",
    "from pythonds.basic.stack import Stack\n"
   ]
  },
  {
   "cell_type": "code",
   "execution_count": 68,
   "metadata": {},
   "outputs": [],
   "source": [
    "# Reads in data files for use in readData.py\n",
    "\n",
    "hdulist = fits.open('/Users/mtownsend/anaconda/Data/survey-dr7-specObj-dr14.fits') # this matches SDSS LRGs to DECaLS;\n",
    "                                                                 # ONLY GIVES SOURCES THAT ARE IN SDSS AND DECALS\n",
    "hdulist2 = fits.open('/Users/mtownsend/anaconda/Data/specObj-dr14.fits') # this is SDSS redshifts etc for LRGs\n",
    "hdulist3 = fits.open('/Users/mtownsend/anaconda/Data/sweep-240p005-250p010-dr7.fits') # this is one sweep file of the DECaLS data\n",
    "hdulist4 = fits.open('/Users/mtownsend/anaconda/Data/sweep-240p010-250p015-dr7.fits') # this is one sweep file of the DECaLS data\n",
    "\n",
    "SpecObj_data = hdulist[1].data\n",
    "SDSS_data = hdulist2[1].data\n",
    "DECaLS_data1 = hdulist3[1].data\n",
    "DECaLS_data2 = hdulist4[1].data"
   ]
  },
  {
   "cell_type": "code",
   "execution_count": 69,
   "metadata": {},
   "outputs": [
    {
     "name": "stdout",
     "output_type": "stream",
     "text": [
      "done reading in SDSS\n",
      "['0' '0' '0' ... '0' '0' '0']\n",
      "done finding LRG flags\n",
      "done reading in DECaLS-SDSS matched file\n",
      "done\n"
     ]
    }
   ],
   "source": [
    "# Read in data from SDSS file\n",
    "\n",
    "# Redshift of galaxies according to sdss\n",
    "z = []\n",
    "z = SDSS_data.field('Z')\n",
    "\n",
    "# Unique ID for sources in SDSS\n",
    "specobjid = []\n",
    "specobjid = SDSS_data.field('SPECOBJID')\n",
    "\n",
    "# Class of object\n",
    "gal_class = []\n",
    "gal_class = SDSS_data.field('CLASS')\n",
    "\n",
    "# What survey the data is from\n",
    "survey = []\n",
    "survey = SDSS_data.field('SURVEY')\n",
    "\n",
    "# SPECPRIMARY; set to 1 for primary observation of object, 0 otherwise\n",
    "spec = []\n",
    "spec = SDSS_data.field('SPECPRIMARY')\n",
    "\n",
    "# Bitmask of spectroscopic warning values; need set to 0\n",
    "zwarn_noqso = []\n",
    "zwarn_noqso = SDSS_data.field('ZWARNING_NOQSO')\n",
    "\n",
    "# Spectroscopic classification for certain redshift?\n",
    "class_noqso = []\n",
    "class_noqso = SDSS_data.field('CLASS_NOQSO')\n",
    "\n",
    "# Array for LRG targets\n",
    "targets = []\n",
    "targets = SDSS_data.field('BOSS_TARGET1')\n",
    "\n",
    "# Array for tile number (cut for LOWZ LRGs is tile >= 10324)\n",
    "tile = []\n",
    "tile = SDSS_data.field('TILE')\n",
    "\n",
    "# Array for chunk number (cut for CMASS is chunk != 'boss1' or 'boss2'\n",
    "chunk = []\n",
    "chunk = SDSS_data.field('CHUNK')\n",
    "\n",
    "print('done reading in SDSS')\n",
    "\n",
    "# ----------------------------------------------------------------------\n",
    "\n",
    "# Section of code to find LRG targets\n",
    "\n",
    "def divideBy2(decNumber):\n",
    "\n",
    "    # from pythonds.basic.stack import Stack\n",
    "    # import numpy as np\n",
    "\n",
    "    np.vectorize(decNumber)\n",
    "    remstack = Stack()\n",
    "\n",
    "    if decNumber == 0: return \"0\"\n",
    "\n",
    "    while decNumber > 0:\n",
    "        rem = decNumber % 2\n",
    "        remstack.push(rem)\n",
    "        decNumber = decNumber // 2\n",
    "\n",
    "    binString = \"\"\n",
    "    while not remstack.isEmpty():\n",
    "        binString = binString + str(remstack.pop())\n",
    "\n",
    "    return binString\n",
    "\n",
    "# Function to find LRG targets\n",
    "\n",
    "divideBy2Vec = np.vectorize(divideBy2)\n",
    "\n",
    "\n",
    "a = divideBy2Vec(targets)  # gives binary in string form\n",
    "\n",
    "print(a)\n",
    "\n",
    "b = []\n",
    "\n",
    "for i in range(len(a)):\n",
    "    b.append(list((a[i])))\n",
    "    b[i].reverse()\n",
    "\n",
    "\n",
    "lrg = []\n",
    "\n",
    "# Finds flags for BOSS LOWZ and CMASS sample\n",
    "for i in range(len(b)):\n",
    "    try:\n",
    "        if (b[i][0] == '1'): # or (b[i][1] == '1'):\n",
    "            lrg.append(int(1))\n",
    "        elif (b[i][1] == '1'):\n",
    "            lrg.append(int(2))\n",
    "        else:\n",
    "            lrg.append(int(0))\n",
    "    except IndexError:\n",
    "        pass\n",
    "        lrg.append(int(0))\n",
    "\n",
    "lrg = np.array(lrg)\n",
    "\n",
    "print('done finding LRG flags')\n",
    "\n",
    "# Read in data from SDSS row matched DECaLS file\n",
    "\n",
    "# Object ID from survey file; value -1 for non-matches\n",
    "objid_MATCHED = []\n",
    "objid_MATCHED = SpecObj_data.field('OBJID')\n",
    "\n",
    "# Add brickid\n",
    "brickid_MATCHED = []\n",
    "brickid_MATCHED = SpecObj_data.field('BRICKID')\n",
    "\n",
    "# Add brickname\n",
    "brickname_MATCHED = []\n",
    "brickname_MATCHED = SpecObj_data.field('BRICKNAME')\n",
    "\n",
    "# Only galaxies included\n",
    "gal_type_MATCHED = []\n",
    "gal_type_MATCHED = SpecObj_data.field('TYPE')\n",
    "\n",
    "# RA\n",
    "ra_MATCHED = []\n",
    "ra_MATCHED = SpecObj_data.field('RA')\n",
    "\n",
    "# Dec\n",
    "dec_MATCHED = []\n",
    "dec_MATCHED = SpecObj_data.field('DEC')\n",
    "\n",
    "# flux_g\n",
    "gflux_MATCHED = []\n",
    "gflux_MATCHED = SpecObj_data.field('FLUX_G')\n",
    "\n",
    "# flux_r\n",
    "rflux_MATCHED = []\n",
    "rflux_MATCHED = SpecObj_data.field('FLUX_R')\n",
    "\n",
    "# flux_z\n",
    "zflux_MATCHED = []\n",
    "zflux_MATCHED = SpecObj_data.field('FLUX_Z')\n",
    "\n",
    "# nobs == number of images that contribute to the central pixel\n",
    "# nobs_g\n",
    "gobs_MATCHED = []\n",
    "gobs_MATCHED = SpecObj_data.field('NOBS_G')\n",
    "\n",
    "# nobs_r\n",
    "robs_MATCHED = []\n",
    "robs_MATCHED = SpecObj_data.field('NOBS_R')\n",
    "\n",
    "# nobs_z\n",
    "zobs_MATCHED = []\n",
    "zobs_MATCHED = SpecObj_data.field('NOBS_Z')\n",
    "\n",
    "print('done reading in DECaLS-SDSS matched file')\n",
    "\n",
    "print('done')"
   ]
  },
  {
   "cell_type": "code",
   "execution_count": 86,
   "metadata": {},
   "outputs": [
    {
     "name": "stdout",
     "output_type": "stream",
     "text": [
      "chunk4\n",
      "(4851200,)\n",
      "(4851200,)\n",
      "4851200\n",
      "\n",
      "------\n",
      "1247495\n"
     ]
    }
   ],
   "source": [
    "# array = np.array([1,2,3,4,5])\n",
    "# print(array[np.where((array != 4) | (array != 2))])\n",
    "\n",
    "tile = np.array(tile)\n",
    "\n",
    "print(chunk[0])\n",
    "print(tile.shape)\n",
    "print(lrg.shape)\n",
    "print(len(ra_MATCHED))\n",
    "print('')\n",
    "print('------')\n",
    "\n",
    "print(len(lrg[np.where((lrg != 0) & (tile >= 10324) & (chunk != 'boss1') & (chunk != 'boss2'))]))\n",
    "\n"
   ]
  },
  {
   "cell_type": "code",
   "execution_count": 117,
   "metadata": {
    "scrolled": false
   },
   "outputs": [
    {
     "name": "stdout",
     "output_type": "stream",
     "text": [
      "2012\n"
     ]
    },
    {
     "data": {
      "image/png": "[encoded data removed]",
      "text/plain": [
       "<Figure size 1440x1440 with 1 Axes>"
      ]
     },
     "metadata": {
      "needs_background": "light"
     },
     "output_type": "display_data"
    }
   ],
   "source": [
    "import matplotlib.pylab as plt\n",
    "\n",
    "# plt.figure(figsize=(10,10))\n",
    "# plt.scatter(chunk, tile, s=1)\n",
    "# plt.show()\n",
    "\n",
    "\n",
    "# plt.figure(figsize=(20,20))\n",
    "# plt.title(\"chunk vs tile\", fontsize=20)\n",
    "# plt.xlabel(\"chunk\", fontsize=20)\n",
    "# plt.ylabel('tile', fontsize=20)\n",
    "# plt.scatter(chunk, tile, s=1, color='black')\n",
    "# plt.axvline(x='boss1', color='violet', alpha=0.5)\n",
    "# plt.axvline(x='boss2', color='blue', alpha=0.5)\n",
    "# plt.axhline(y=10324, color='purple', alpha=0.5)\n",
    "# plt.savefig('/Users/mtownsend/Desktop/chunk_v_tile_all.jpg')\n",
    "# plt.show()\n",
    "\n",
    "\n",
    "# plt.figure(figsize=(20,20))\n",
    "# plt.title('chunk vs tile for tile >= 10324', fontsize=20)\n",
    "# plt.xlabel('chunk', fontsize=20)\n",
    "# plt.ylabel('tile', fontsize=20)\n",
    "# plt.scatter(chunk[np.where(tile >= 10324)], tile[np.where(tile >= 10324)], s=1, color='black')\n",
    "# plt.axvline(x='boss1', color='violet', alpha=0.5)\n",
    "# plt.axvline(x='boss2', color='blue', alpha=0.5)\n",
    "# plt.axhline(y=10324, color='purple', alpha=0.5)\n",
    "# plt.savefig('/Users/mtownsend/Desktop/chunk_v_tile_10324.jpg')\n",
    "# plt.show()\n",
    "\n",
    "\n",
    "# plt.figure(figsize=(20,20))\n",
    "# plt.title('chunk vs tile for tile for all LRGs', fontsize=20)\n",
    "# plt.xlabel('chunk', fontsize=20)\n",
    "# plt.ylabel('tile', fontsize=20)\n",
    "# plt.scatter(chunk[np.where(lrg != 0)], tile[np.where(lrg != 0)], s=1, color='black')\n",
    "# plt.axvline(x='boss1', color='violet', alpha=0.5)\n",
    "# plt.axvline(x='boss2', color='blue', alpha=0.5)\n",
    "# plt.axhline(y=10324, color='purple', alpha=0.5)\n",
    "# plt.savefig('/Users/mtownsend/Desktop/chunk_v_tile_allLRG.jpg')\n",
    "# plt.show()\n",
    "\n",
    "LRG = ((lrg != 0) & (gflux_MATCHED > 0.) & (rflux_MATCHED > 0.) & (zflux_MATCHED > 0.) & (gobs_MATCHED >= 2.) & (robs_MATCHED >= 2.) & (zobs_MATCHED >= 2.) & (objid_MATCHED != -1) & ((gal_type_MATCHED == 'SIMP') | (gal_type_MATCHED == \"DEV\") | (gal_type_MATCHED == \"EXP\") | (gal_type_MATCHED == \"REX\")) & (ra_MATCHED >= 241) & (ra_MATCHED <= 246) & (dec_MATCHED >= 6.5) & (dec_MATCHED <= 11.5) & (gal_class == 'GALAXY') & (spec == 1) & (zwarn_noqso == 0) & (class_noqso == 'GALAXY') & ((survey == 'sdss') | (survey == 'boss')))\n",
    "\n",
    "print(len(chunk[LRG]))\n",
    "\n",
    "plt.figure(figsize=(20,20))\n",
    "plt.title('chunk vs tile for tile for LRGs with previoius cuts', fontsize=20)\n",
    "plt.xlabel('chunk', fontsize=20)\n",
    "plt.ylabel('tile', fontsize=20)\n",
    "plt.scatter(chunk[LRG], tile[LRG], s=1, color='black')\n",
    "plt.axvline(x='boss1', color='violet', alpha=0.5)\n",
    "plt.axvline(x='boss2', color='blue', alpha=0.5)\n",
    "plt.axhline(y=10324, color='purple', alpha=0.5)\n",
    "plt.ylim(13000, 14000)\n",
    "# plt.savefig('/Users/mtownsend/Desktop/chunk_v_tile_previous.jpg')\n",
    "plt.show()\n",
    "\n",
    "\n"
   ]
  },
  {
   "cell_type": "code",
   "execution_count": 70,
   "metadata": {},
   "outputs": [
    {
     "name": "stdout",
     "output_type": "stream",
     "text": [
      "1406221\n"
     ]
    }
   ],
   "source": [
    "print(len(lrg[np.where(lrg != 0)]))"
   ]
  },
  {
   "cell_type": "code",
   "execution_count": 71,
   "metadata": {},
   "outputs": [
    {
     "name": "stdout",
     "output_type": "stream",
     "text": [
      "1247495\n"
     ]
    }
   ],
   "source": [
    "print(len(lrg[np.where((lrg != 0) & (tile >= 10324))]))"
   ]
  },
  {
   "cell_type": "code",
   "execution_count": 72,
   "metadata": {},
   "outputs": [
    {
     "name": "stdout",
     "output_type": "stream",
     "text": [
      "1247495\n"
     ]
    }
   ],
   "source": [
    "print(len(lrg[np.where((lrg != 0) & (tile >= 10324) & (chunk != 'boss1'))]))\n"
   ]
  },
  {
   "cell_type": "code",
   "execution_count": 73,
   "metadata": {},
   "outputs": [
    {
     "name": "stdout",
     "output_type": "stream",
     "text": [
      "1247495\n"
     ]
    }
   ],
   "source": [
    "print(len(lrg[np.where((lrg != 0) & (tile >= 10324) & (chunk != 'boss1') & (chunk != 'boss2'))]))\n"
   ]
  },
  {
   "cell_type": "code",
   "execution_count": 74,
   "metadata": {},
   "outputs": [
    {
     "name": "stdout",
     "output_type": "stream",
     "text": [
      "777198\n"
     ]
    }
   ],
   "source": [
    "print(len(lrg[np.where((lrg != 0) & (tile >= 10324) & (chunk != 'boss1') & (chunk != 'boss2') & (gflux_MATCHED > 0.) & (rflux_MATCHED > 0.) & (zflux_MATCHED > 0.))]))\n"
   ]
  },
  {
   "cell_type": "code",
   "execution_count": 75,
   "metadata": {},
   "outputs": [
    {
     "name": "stdout",
     "output_type": "stream",
     "text": [
      "628944\n"
     ]
    }
   ],
   "source": [
    "print(len(lrg[np.where((lrg != 0) & (tile >= 10324) & (chunk != 'boss1') & (chunk != 'boss2') & (gflux_MATCHED > 0.) & (rflux_MATCHED > 0.) & (zflux_MATCHED > 0.) & (gobs_MATCHED >= 2.) & (robs_MATCHED >= 2.) & (zobs_MATCHED >= 2.))]))\n"
   ]
  },
  {
   "cell_type": "code",
   "execution_count": 76,
   "metadata": {},
   "outputs": [
    {
     "name": "stdout",
     "output_type": "stream",
     "text": [
      "628944\n"
     ]
    }
   ],
   "source": [
    "print(len(lrg[np.where((lrg != 0) & (tile >= 10324) & (chunk != 'boss1') & (chunk != 'boss2') & (gflux_MATCHED > 0.) & (rflux_MATCHED > 0.) & (zflux_MATCHED > 0.) & (gobs_MATCHED >= 2.) & (robs_MATCHED >= 2.) & (zobs_MATCHED >= 2.) & (objid_MATCHED != -1))]))\n"
   ]
  },
  {
   "cell_type": "code",
   "execution_count": 77,
   "metadata": {},
   "outputs": [
    {
     "name": "stdout",
     "output_type": "stream",
     "text": [
      "582454\n"
     ]
    }
   ],
   "source": [
    "print(len(lrg[np.where((lrg != 0) & (tile >= 10324) & (chunk != 'boss1') & (chunk != 'boss2') & (gflux_MATCHED > 0.) & (rflux_MATCHED > 0.) & (zflux_MATCHED > 0.) & (gobs_MATCHED >= 2.) & (robs_MATCHED >= 2.) & (zobs_MATCHED >= 2.) & (objid_MATCHED != -1) & ((gal_type_MATCHED == 'SIMP') | (gal_type_MATCHED == \"DEV\") | (gal_type_MATCHED == \"EXP\") | (gal_type_MATCHED == \"REX\")))]))\n"
   ]
  },
  {
   "cell_type": "code",
   "execution_count": 78,
   "metadata": {},
   "outputs": [
    {
     "name": "stdout",
     "output_type": "stream",
     "text": [
      "2268\n"
     ]
    }
   ],
   "source": [
    "print(len(lrg[np.where((lrg != 0) & (tile >= 10324) & (chunk != 'boss1') & (chunk != 'boss2') & (gflux_MATCHED > 0.) & (rflux_MATCHED > 0.) & (zflux_MATCHED > 0.) & (gobs_MATCHED >= 2.) & (robs_MATCHED >= 2.) & (zobs_MATCHED >= 2.) & (objid_MATCHED != -1) & ((gal_type_MATCHED == 'SIMP') | (gal_type_MATCHED == \"DEV\") | (gal_type_MATCHED == \"EXP\") | (gal_type_MATCHED == \"REX\")) & (ra_MATCHED >= 241) & (ra_MATCHED <= 246) & (dec_MATCHED >= 6.5) & (dec_MATCHED <= 11.5))]))\n"
   ]
  },
  {
   "cell_type": "code",
   "execution_count": 79,
   "metadata": {},
   "outputs": [
    {
     "name": "stdout",
     "output_type": "stream",
     "text": [
      "2217\n"
     ]
    }
   ],
   "source": [
    "print(len(lrg[np.where((lrg != 0) & (tile >= 10324) & (chunk != 'boss1') & (chunk != 'boss2') & (gflux_MATCHED > 0.) & (rflux_MATCHED > 0.) & (zflux_MATCHED > 0.) & (gobs_MATCHED >= 2.) & (robs_MATCHED >= 2.) & (zobs_MATCHED >= 2.) & (objid_MATCHED != -1) & ((gal_type_MATCHED == 'SIMP') | (gal_type_MATCHED == \"DEV\") | (gal_type_MATCHED == \"EXP\") | (gal_type_MATCHED == \"REX\")) & (ra_MATCHED >= 241) & (ra_MATCHED <= 246) & (dec_MATCHED >= 6.5) & (dec_MATCHED <= 11.5) & (gal_class == 'GALAXY'))]))\n"
   ]
  },
  {
   "cell_type": "code",
   "execution_count": 80,
   "metadata": {},
   "outputs": [
    {
     "name": "stdout",
     "output_type": "stream",
     "text": [
      "2023\n"
     ]
    }
   ],
   "source": [
    "print(len(lrg[np.where((lrg != 0) & (tile >= 10324) & (chunk != 'boss1') & (chunk != 'boss2') & (gflux_MATCHED > 0.) & (rflux_MATCHED > 0.) & (zflux_MATCHED > 0.) & (gobs_MATCHED >= 2.) & (robs_MATCHED >= 2.) & (zobs_MATCHED >= 2.) & (objid_MATCHED != -1) & ((gal_type_MATCHED == 'SIMP') | (gal_type_MATCHED == \"DEV\") | (gal_type_MATCHED == \"EXP\") | (gal_type_MATCHED == \"REX\")) & (ra_MATCHED >= 241) & (ra_MATCHED <= 246) & (dec_MATCHED >= 6.5) & (dec_MATCHED <= 11.5) & (gal_class == 'GALAXY') & (spec == 1))]))\n"
   ]
  },
  {
   "cell_type": "code",
   "execution_count": 81,
   "metadata": {},
   "outputs": [
    {
     "name": "stdout",
     "output_type": "stream",
     "text": [
      "2012\n"
     ]
    }
   ],
   "source": [
    "print(len(lrg[np.where((lrg != 0) & (tile >= 10324) & (chunk != 'boss1') & (chunk != 'boss2') & (gflux_MATCHED > 0.) & (rflux_MATCHED > 0.) & (zflux_MATCHED > 0.) & (gobs_MATCHED >= 2.) & (robs_MATCHED >= 2.) & (zobs_MATCHED >= 2.) & (objid_MATCHED != -1) & ((gal_type_MATCHED == 'SIMP') | (gal_type_MATCHED == \"DEV\") | (gal_type_MATCHED == \"EXP\") | (gal_type_MATCHED == \"REX\")) & (ra_MATCHED >= 241) & (ra_MATCHED <= 246) & (dec_MATCHED >= 6.5) & (dec_MATCHED <= 11.5) & (gal_class == 'GALAXY') & (spec == 1) & (zwarn_noqso == 0))])) \n",
    "                    "
   ]
  },
  {
   "cell_type": "code",
   "execution_count": 82,
   "metadata": {},
   "outputs": [
    {
     "name": "stdout",
     "output_type": "stream",
     "text": [
      "2012\n"
     ]
    }
   ],
   "source": [
    "print(len(lrg[np.where((lrg != 0) & (tile >= 10324) & (chunk != 'boss1') & (chunk != 'boss2') & (gflux_MATCHED > 0.) & (rflux_MATCHED > 0.) & (zflux_MATCHED > 0.) & (gobs_MATCHED >= 2.) & (robs_MATCHED >= 2.) & (zobs_MATCHED >= 2.) & (objid_MATCHED != -1) & ((gal_type_MATCHED == 'SIMP') | (gal_type_MATCHED == \"DEV\") | (gal_type_MATCHED == \"EXP\") | (gal_type_MATCHED == \"REX\")) & (ra_MATCHED >= 241) & (ra_MATCHED <= 246) & (dec_MATCHED >= 6.5) & (dec_MATCHED <= 11.5) & (gal_class == 'GALAXY') & (spec == 1) & (zwarn_noqso == 0) & (class_noqso == 'GALAXY'))]))\n"
   ]
  },
  {
   "cell_type": "code",
   "execution_count": 85,
   "metadata": {},
   "outputs": [
    {
     "name": "stdout",
     "output_type": "stream",
     "text": [
      "2012\n"
     ]
    }
   ],
   "source": [
    "print(len(lrg[np.where((lrg != 0) & (tile >= 10324) & (chunk != 'boss1') & (chunk != 'boss2') & (gflux_MATCHED > 0.) & (rflux_MATCHED > 0.) & (zflux_MATCHED > 0.) & (gobs_MATCHED >= 2.) & (robs_MATCHED >= 2.) & (zobs_MATCHED >= 2.) & (objid_MATCHED != -1) & ((gal_type_MATCHED == 'SIMP') | (gal_type_MATCHED == \"DEV\") | (gal_type_MATCHED == \"EXP\") | (gal_type_MATCHED == \"REX\")) & (ra_MATCHED >= 241) & (ra_MATCHED <= 246) & (dec_MATCHED >= 6.5) & (dec_MATCHED <= 11.5) & (gal_class == 'GALAXY') & (spec == 1) & (zwarn_noqso == 0) & (class_noqso == 'GALAXY') & ((survey == 'sdss') | (survey == 'boss')))]))\n"
   ]
  },
  {
   "cell_type": "code",
   "execution_count": null,
   "metadata": {},
   "outputs": [],
   "source": []
  }
 ],
 "metadata": {
  "kernelspec": {
   "display_name": "Python 3",
   "language": "python",
   "name": "python3"
  },
  "language_info": {
   "codemirror_mode": {
    "name": "ipython",
    "version": 3
   },
   "file_extension": ".py",
   "mimetype": "text/x-python",
   "name": "python",
   "nbconvert_exporter": "python",
   "pygments_lexer": "ipython3",
   "version": "3.5.5"
  }
 },
 "nbformat": 4,
 "nbformat_minor": 2
}
