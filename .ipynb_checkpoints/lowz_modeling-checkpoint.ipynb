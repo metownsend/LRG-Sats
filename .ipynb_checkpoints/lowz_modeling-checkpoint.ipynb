{
 "cells": [
  {
   "cell_type": "code",
   "execution_count": 1,
   "metadata": {},
   "outputs": [],
   "source": [
    "from astropy.io import fits\n",
    "from astropy.table import Table\n",
    "import numpy as np\n",
    "import matplotlib.pylab as plt \n",
    "import matplotlib.lines as mlines\n",
    "from matplotlib.legend import Legend\n",
    "from pythonds.basic.stack import Stack\n",
    "from math import *\n",
    "from sklearn.neighbors import KDTree\n",
    "from lrg_plot_functions import *\n",
    "from lrg_sum_functions import *\n",
    "from cosmo_Calc import *\n",
    "from divideByTwo import *\n",
    "from read_data import *\n",
    "from nearNeighbors import *\n",
    "from scipy import stats\n",
    "from astropy import stats\n",
    "import healpy as hp\n",
    "from localBKG_and_interlopersHEALPix import *\n",
    "# import healpy as hpy\n",
    "from makeCutoutTableFunc import *\n",
    "from plotHistogramProjections3D import *\n",
    "from read_bricks import *\n",
    "from mpl_toolkits.axes_grid1 import make_axes_locatable\n",
    "import random"
   ]
  },
  {
   "cell_type": "code",
   "execution_count": 2,
   "metadata": {},
   "outputs": [],
   "source": [
    "# read in data\n",
    "\n",
    "data_ra = np.load('/Users/mtownsend/Documents/LRG_Data/ra_total.npz')\n",
    "ra_total = data_ra['ra']\n",
    "# print(ra_total.shape)\n",
    "\n",
    "# print('----')\n",
    "\n",
    "data_dec = np.load('/Users/mtownsend/Documents/LRG_Data/dec_total.npz')\n",
    "dec_total = data_dec['dec']\n",
    "# print(dec_total.shape)\n",
    "\n",
    "# print('----')\n",
    "\n",
    "data_gmag = np.load('/Users/mtownsend/Documents/LRG_Data/gmag_total.npz')\n",
    "gmag_total = data_gmag['gmag']\n",
    "# print(gmag_total.shape)\n",
    "\n",
    "# print('----')\n",
    "\n",
    "data_rmag = np.load('/Users/mtownsend/Documents/LRG_Data/rmag_total.npz')\n",
    "rmag_total = data_rmag['rmag']\n",
    "# print(rmag_total.shape)\n",
    "\n",
    "# print('----')\n",
    "\n",
    "data_zmag = np.load('/Users/mtownsend/Documents/LRG_Data/zmag_total.npz')\n",
    "zmag_total = data_zmag['zmag']\n",
    "# print(zmag_total.shape)\n",
    "\n",
    "# print('----')\n",
    "\n",
    "data_grcolor = np.load('/Users/mtownsend/Documents/LRG_Data/grcolor_total.npz')\n",
    "grcolor_total = data_grcolor['grcolor']\n",
    "# print(grcolor_total.shape)\n",
    "\n",
    "# print('----')\n",
    "\n",
    "data_rzcolor = np.load('/Users/mtownsend/Documents/LRG_Data/rzcolor_total.npz')\n",
    "rzcolor_total = data_rzcolor['rzcolor']\n",
    "# print(rzcolor_total.shape)\n"
   ]
  },
  {
   "cell_type": "code",
   "execution_count": 3,
   "metadata": {},
   "outputs": [
    {
     "name": "stdout",
     "output_type": "stream",
     "text": [
      "[ 65197 426408 117669 ... 159522 449206  94330]\n",
      "[234297 291919 433679 ...  83417 246046 428425]\n",
      "[256190 464126 182923 ... 376404 131772 299287]\n",
      "[154348  83296  43124 ...  70194   4939 470802]\n",
      "[218182 500265 239433 ... 241240 144182 167813]\n"
     ]
    }
   ],
   "source": [
    "# read in indices assigned as random pointings\n",
    "\n",
    "data_index_lowz = np.load('/Users/mtownsend/Documents/LRG_Data/index_lowz.npz')\n",
    "index_lowz = data_index_lowz['index_lowz']\n",
    "print(index_lowz)\n",
    "\n",
    "data_index_midz1 = np.load('/Users/mtownsend/Documents/LRG_Data/index_midz1.npz')\n",
    "index_midz1 = data_index_midz1['index_midz1']\n",
    "print(index_midz1)\n",
    "\n",
    "data_index_midz2 = np.load('/Users/mtownsend/Documents/LRG_Data/index_midz2.npz')\n",
    "index_midz2 = data_index_midz2['index_midz2']\n",
    "print(index_midz2)\n",
    "\n",
    "data_index_midz3 = np.load('/Users/mtownsend/Documents/LRG_Data/index_midz3.npz')\n",
    "index_midz3 = data_index_midz3['index_midz3']\n",
    "print(index_midz3)\n",
    "\n",
    "data_index_highz = np.load('/Users/mtownsend/Documents/LRG_Data/index_highz.npz')\n",
    "index_highz = data_index_highz['index_highz']\n",
    "print(index_highz)"
   ]
  },
  {
   "cell_type": "code",
   "execution_count": 4,
   "metadata": {},
   "outputs": [],
   "source": [
    "# create arrays with random pointings and background\n",
    "\n",
    "# make a random data set that I will treat as LRGs\n",
    "random_raLRG = ra_total[index_lowz]\n",
    "random_decLRG = dec_total[index_lowz]\n",
    "random_gmagLRG = gmag_total[index_lowz]\n",
    "random_rmagLRG = rmag_total[index_lowz]\n",
    "random_zmagLRG = zmag_total[index_lowz]\n",
    "random_grcolorLRG = grcolor_total[index_lowz]\n",
    "random_rzcolorLRG = rzcolor_total[index_lowz]\n",
    "\n",
    "# eliminate \"LRGs\" from background catalog\n",
    "random_raBKG = np.delete(ra_total, index_lowz)\n",
    "random_decBKG = np.delete(dec_total, index_lowz)\n",
    "random_gmagBKG = np.delete(gmag_total, index_lowz)\n",
    "random_rmagBKG = np.delete(rmag_total, index_lowz)\n",
    "random_zmagBKG = np.delete(zmag_total, index_lowz)\n",
    "random_grcolorBKG = np.delete(grcolor_total, index_lowz)\n",
    "random_rzcolorBKG = np.delete(rzcolor_total, index_lowz)\n",
    "\n",
    "# print(len(random_raLRG))\n",
    "# print(len(random_raBKG))\n",
    "# print(len(ra_total))\n",
    "# print(len(random_raLRG) + len(random_raBKG))\n",
    "\n",
    "ra_tot = np.concatenate([random_raLRG, random_raBKG])\n",
    "dec_tot = np.concatenate([random_decLRG, random_decBKG])\n",
    "gmag_tot = np.concatenate([random_gmagLRG, random_gmagBKG])\n",
    "rmag_tot = np.concatenate([random_rmagLRG, random_rmagBKG])\n",
    "zmag_tot = np.concatenate([random_zmagLRG, random_zmagBKG])\n",
    "rzcolor_tot = np.concatenate([random_rzcolorLRG, random_rzcolorBKG])\n",
    "grcolor_tot = np.concatenate([random_grcolorLRG, random_grcolorBKG])\n",
    "\n",
    "# print(len(ra_tot))\n",
    "# print(len(dec_tot))\n",
    "# print(len(gmag_tot))\n",
    "# print(len(rmag_tot))\n",
    "# print(len(zmag_tot))\n",
    "# print(len(rzcolor_tot))\n",
    "# print(len(rzcolor_tot))"
   ]
  },
  {
   "cell_type": "code",
   "execution_count": 5,
   "metadata": {},
   "outputs": [],
   "source": [
    "# each random pointing is assiged a redshift from the real distribution of LRG redshifts\n",
    "\n",
    "data_random_z_low = np.load('/Users/mtownsend/Documents/LRG_Data/random_z_low.npz')\n",
    "random_z_low = data_random_z_low['random_z_low']"
   ]
  },
  {
   "cell_type": "markdown",
   "metadata": {},
   "source": [
    "## Run analysis to find null result"
   ]
  },
  {
   "cell_type": "code",
   "execution_count": 6,
   "metadata": {},
   "outputs": [
    {
     "name": "stdout",
     "output_type": "stream",
     "text": [
      "end cosmoCalc\n"
     ]
    }
   ],
   "source": [
    "DTT_Gyr, age_Gyr, zage_Gyr, DCMR_Mpc, DCMR_Gyr, DA_Mpc, DA_Gyr, kpc_DA, DL_Mpc, DL_Gyr, V_Gpc = cosmoCalcfunc(random_z_low)\n",
    "\n",
    "print(\"end cosmoCalc\")\n"
   ]
  },
  {
   "cell_type": "code",
   "execution_count": 7,
   "metadata": {},
   "outputs": [
    {
     "name": "stdout",
     "output_type": "stream",
     "text": [
      "<class 'numpy.ndarray'>\n"
     ]
    }
   ],
   "source": [
    "rz_edges = np.array([-1.8027077, -1.5527076721191406, -1.3027076721191406, -1.0527076721191406, -0.8027076721191406, -0.5527076721191406, -0.3027076721191406, -0.052707672119140625, 0.19729232788085938, 0.4472923278808594, 0.6972923278808594, 0.9472923278808594, 1.1972923278808594, 1.4472923278808594, 1.6972923278808594, 1.9472923278808594, 2.1972923278808594, 2.4472923278808594, 2.6972923278808594, 2.9472923278808594, 3.1972923278808594, 3.4472923278808594, 3.6972923278808594, 3.9472923278808594, 4.197292327880859, 4.447292327880859, 4.697292327880859, 4.947292327880859, 5.197292327880859, 5.447292327880859, 5.697292327880859, 5.947292327880859, 6.197292327880859, 6.447292327880859, 6.697292327880859, 6.947292327880859, 7.197292327880859, 7.447292327880859, 7.697292327880859, 7.947292327880859, 8.19729232788086, 8.44729232788086, 8.69729232788086, 8.94729232788086, 9.19729232788086, 9.44729232788086, 9.69729232788086, 9.94729232788086, 10.19729232788086, 10.44729232788086])\n",
    "gr_edges = np.array([-6.5846786, -6.234678649902344, -5.8846786499023445, -5.534678649902345, -5.184678649902345, -4.8346786499023455, -4.484678649902346, -4.134678649902346, -3.784678649902346, -3.434678649902346, -3.084678649902346, -2.734678649902346, -2.384678649902346, -2.0346786499023457, -1.6846786499023456, -1.3346786499023455, -0.9846786499023455, -0.6346786499023456, -0.2846786499023456, 0.06532135009765438, 0.41532135009765436, 0.7653213500976543, 1.1153213500976542, 1.4653213500976543, 1.8153213500976544, 2.1653213500976545, 2.5153213500976546, 2.8653213500976547, 3.2153213500976547, 3.565321350097655, 3.915321350097655, 4.265321350097655, 4.615321350097655, 4.965321350097654, 5.315321350097654, 5.665321350097654, 6.015321350097653, 6.365321350097653, 6.7153213500976525, 7.065321350097652, 7.415321350097652, 7.7653213500976515, 8.115321350097652, 8.465321350097652, 8.815321350097651, 9.165321350097651, 9.51532135009765, 9.86532135009765, 10.21532135009765, 10.56532135009765])\n",
    "\n",
    "zmaginit = 13.\n",
    "zmagfin = 23.\n",
    "interval = 0.2\n",
    "zmag_num = (zmagfin-zmaginit)/interval\n",
    "zmag_edges, step = np.linspace(zmaginit, zmagfin, num=int(zmag_num), retstep=True)\n",
    "print(type(zmag_edges))\n",
    "\n",
    "\n",
    "H1, nouse_edges = np.histogramdd((rzcolor_tot, grcolor_tot, zmag_tot), bins=(rz_edges, gr_edges, zmag_edges), density=False)\n"
   ]
  },
  {
   "cell_type": "code",
   "execution_count": 8,
   "metadata": {},
   "outputs": [
    {
     "data": {
      "image/png": "[encoded data removed]",
      "text/plain": [
       "<Figure size 417.6x460.8 with 2 Axes>"
      ]
     },
     "metadata": {
      "needs_background": "light"
     },
     "output_type": "display_data"
    },
    {
     "name": "stdout",
     "output_type": "stream",
     "text": [
      "length phi:  519348\n"
     ]
    }
   ],
   "source": [
    "# Make HEALPix map using just RA/Dec; end up with a density plot\n",
    "\n",
    "nside = 1024\n",
    "npixel = hp.nside2npix(nside)\n",
    "\n",
    "# Convert ra/dec into theta/phi\n",
    "theta = []\n",
    "phi = []\n",
    "\n",
    "for i in range(len(ra_tot)):\n",
    "    theta.append(np.radians(90. - dec_tot[i]))\n",
    "    phi.append(np.radians(ra_tot[i]))\n",
    "    \n",
    "m = hp.ang2pix(nside, theta, phi)\n",
    "map_ = np.bincount(m, minlength=npixel)\n",
    "hp.gnomview(map_, xsize=225, rot=(-116.5, 9), flip='geo', cmap='viridis', notext=True, title=\"\")\n",
    "# plt.rcParams.update({'font.size':20})\n",
    "# plt.savefig('/Users/mtownsend/Desktop/survey-density.jpg')\n",
    "# plt.savefig('/Users/mtownsend/Desktop/MeetingPlots/HEALPix-survey-density-v2.pdf')\n",
    "plt.show()\n",
    "\n",
    "print('length phi: ', len(phi))\n",
    "\n",
    "# Convert angles theta and phi to pixel numbers\n",
    "\n",
    "pixnums = hp.ang2pix(nside, theta, phi, nest=True)"
   ]
  },
  {
   "cell_type": "code",
   "execution_count": 9,
   "metadata": {},
   "outputs": [
    {
     "name": "stdout",
     "output_type": "stream",
     "text": [
      "end nearNeighbor\n"
     ]
    }
   ],
   "source": [
    "distance = 0.5 # must be in Mpc\n",
    "\n",
    "# distance_kpc, near, gal_tree, dist, index, nn1 = nearNeighbor(distance, kpc_DA, random_raLRG, random_decLRG, random_raBKG, random_decBKG, random_zmagLRG, random_zmagBKG, random_rzcolorLRG, random_rzcolorBKG, random_grcolorLRG, random_grcolorBKG, nouse_edges)\n",
    "distance_kpc, near, gal_tree, dist, index, nn1 = nearNeighbor(distance, kpc_DA, random_raLRG, random_decLRG, random_raBKG, random_decBKG, random_zmagLRG, random_zmagBKG, random_rzcolorLRG, random_rzcolorBKG, random_grcolorLRG, random_grcolorBKG, nouse_edges)\n",
    "\n",
    "print('end nearNeighbor')\n"
   ]
  },
  {
   "cell_type": "code",
   "execution_count": 10,
   "metadata": {},
   "outputs": [],
   "source": [
    "# save near array\n",
    "\n",
    "np.savez('/Users/mtownsend/Documents/LRG_Data/null_near_low.npz', near=near)\n",
    "# data_model8 = np.load('/Users/mtownsend/Documents/LRG_Data/low_Nsat_model8_25.npz')\n",
    "# low_Nsat25_model8 = data_model8['low_Nsat25_model8']\n",
    "\n",
    "# save indices of near neighbors\n",
    "\n",
    "np.savez('/Users/mtownsend/Documents/LRG_Data/near_index_null_low.npz', index=index)\n",
    "null_near_index = np.load('/Users/mtownsend/Documents/LRG_Data/near_index_null_low.npz')\n",
    "near_index = null_near_index['index']"
   ]
  },
  {
   "cell_type": "code",
   "execution_count": 11,
   "metadata": {},
   "outputs": [
    {
     "name": "stdout",
     "output_type": "stream",
     "text": [
      "end bkg\n"
     ]
    }
   ],
   "source": [
    "inner_dist = 0.4 # in deg\n",
    "outer_dist = 0.5 # in deg\n",
    "\n",
    "Nbkg, indices, omega, localBKG = localBKG_and_interlopersHEALPix(nside, inner_dist, outer_dist, random_raLRG, random_decLRG, pixnums, zmag_tot, rzcolor_tot, grcolor_tot, nouse_edges, distance_kpc, kpc_DA)\n",
    "\n",
    "omega = np.array(omega)\n",
    "\n",
    "print(\"end bkg\")\n"
   ]
  },
  {
   "cell_type": "code",
   "execution_count": 12,
   "metadata": {},
   "outputs": [],
   "source": [
    "# save near array\n",
    "\n",
    "np.savez('/Users/mtownsend/Documents/LRG_Data/null_bkg_low.npz', Nbkg=Nbkg)\n",
    "# data_model8 = np.load('/Users/mtownsend/Documents/LRG_Data/low_Nsat_model8_25.npz')\n",
    "# low_Nsat25_model8 = data_model8['low_Nsat25_model8']\n"
   ]
  },
  {
   "cell_type": "code",
   "execution_count": 13,
   "metadata": {},
   "outputs": [
    {
     "name": "stdout",
     "output_type": "stream",
     "text": [
      "end Nsat\n"
     ]
    }
   ],
   "source": [
    "# calculate Nsat, and Nsat in bins of redshift\n",
    "\n",
    "Nsat = np.array(near) - np.array(Nbkg)\n",
    "\n",
    "# near in bins of redshift\n",
    "\n",
    "near_arr = np.asarray(near)\n",
    "\n",
    "near25 = near_arr[np.where((random_z_low >= 0.2) & (random_z_low < 0.25))]\n",
    "near03 = near_arr[np.where((random_z_low >= 0.25) & (random_z_low < 0.3))]\n",
    "\n",
    "\n",
    "# Nbkg in bins of redshift\n",
    "\n",
    "Nbkg_arr = np.asarray(Nbkg)\n",
    "\n",
    "Nbkg25 = Nbkg_arr[np.where((random_z_low >= 0.2) & (random_z_low < 0.25))]\n",
    "Nbkg03 = Nbkg_arr[np.where((random_z_low >= 0.25) & (random_z_low < 0.3))]\n",
    "\n",
    "\n",
    "# Nsat in bins of redshift\n",
    "\n",
    "Nsat25 = near25 - Nbkg25\n",
    "Nsat03 = near03 - Nbkg03\n",
    "\n",
    "print('end Nsat')\n"
   ]
  },
  {
   "cell_type": "markdown",
   "metadata": {},
   "source": [
    "## Add models to near neighbors null result and calculate Nsat again"
   ]
  },
  {
   "cell_type": "code",
   "execution_count": 15,
   "metadata": {},
   "outputs": [
    {
     "name": "stdout",
     "output_type": "stream",
     "text": [
      "(2, 49, 49)\n"
     ]
    }
   ],
   "source": [
    "# read in mask and initialize function needed to add satellites to null result\n",
    "\n",
    "data_zmag = np.load('/Users/mtownsend/Documents/LRG_Data/lowz_medzmag-2matrices.npz')\n",
    "medzmag = data_zmag['medzmag_low']\n",
    "print(medzmag.shape)\n",
    "medzmag0 = medzmag[0]\n",
    "medzmag1 = medzmag[1]\n",
    "\n",
    "\n",
    "def adding_sats(medzmag, index, rzcolor_total, grcolor_total, zmag_total, rz_edges, gr_edges, lam):\n",
    "    \n",
    "    # index == index of sources found to be 500 kpc from LRG pointing\n",
    "    # medzmag == array of zmags that correspond to luminosity limits for each cell of r-z and g-r color\n",
    "    # rzcolor_total, grcolor_total, zmag_total == 1D arrays with colors and magnitude of all sources\n",
    "    # rz_edges, gr_edges == edges of r-z vs g-r color space\n",
    "    # lam == mean of poisson distribution from which the function draws the number of sources to be added\n",
    "    \n",
    "    import numpy as np\n",
    "    \n",
    "    rz = rzcolor_total[index]\n",
    "    gr = grcolor_total[index]\n",
    "    zmag = zmag_total[index]\n",
    "\n",
    "    candidate_index = []\n",
    "\n",
    "    # This loop finds the galaxies in color-color cells that meet the critera of median_zmag in those cells\n",
    "    for i in range(len(rz_edges) - 1):\n",
    "        for j in range(len(gr_edges) - 1):\n",
    "            for m in range(len(rz)):\n",
    "                if ((rz[m] >= rz_edges[i]) & (rz[m] <= rz_edges[i + 1]) & (gr[m] >= gr_edges[j]) & (gr[m] <= gr_edges[j + 1]) & (zmag[m] <= medzmag[i][j])):\n",
    "                    candidate_index.append(m)\n",
    "#     print('candidate index: ', candidate_index)\n",
    "    # draw number of from gaussian\n",
    "#      N = np.random.normal(loc=1., scale=1., size=1)\n",
    "    N = np.random.poisson(lam=lam, size=1)\n",
    "#     print(N)\n",
    "    num = round(float(N))\n",
    "#     print(num)\n",
    "#     a = np.random.choice(candidate_index, size=int(num), replace=True)\n",
    "    if (len(candidate_index) > 0.):\n",
    "        a = np.random.choice(candidate_index, size=int(num), replace=True)\n",
    "#         print(len(a))\n",
    "        new_rz = np.concatenate((rz,rz[a]))\n",
    "        new_gr = np.concatenate((gr,gr[a]))\n",
    "        new_zmag = np.concatenate((zmag,zmag[a]))\n",
    "    else:\n",
    "        new_rz = rz\n",
    "        new_gr = gr\n",
    "        new_zmag = zmag\n",
    "    \n",
    "    return new_rz, new_gr, new_zmag, candidate_index"
   ]
  },
  {
   "cell_type": "code",
   "execution_count": 16,
   "metadata": {},
   "outputs": [
    {
     "name": "stdout",
     "output_type": "stream",
     "text": [
      "2611\n",
      "2389\n"
     ]
    }
   ],
   "source": [
    "# bin near indices by redshift\n",
    "\n",
    "low_nearindex25 = near_index[np.where((random_z_low >= 0.2) & (random_z_low < 0.25))]\n",
    "low_nearindex03 = near_index[np.where((random_z_low >= 0.25) & (random_z_low < 0.3))]\n",
    "\n",
    "print(len(low_nearindex25))\n",
    "print(len(low_nearindex03))\n"
   ]
  },
  {
   "cell_type": "code",
   "execution_count": 17,
   "metadata": {},
   "outputs": [
    {
     "name": "stdout",
     "output_type": "stream",
     "text": [
      "end 25\n",
      "end 03\n"
     ]
    }
   ],
   "source": [
    "# loop through random pointings to get models\n",
    "\n",
    "new_rz25 = []\n",
    "new_gr25 = []\n",
    "new_zmag25 = []\n",
    "new_index25 = []\n",
    "\n",
    "for i in range(len(low_nearindex25)):\n",
    "    temp_rz25, temp_gr25, temp_zmag25, temp_index25 = adding_sats(medzmag0, low_nearindex25[i], rzcolor_tot, grcolor_tot, zmag_tot, rz_edges, gr_edges, 8.)\n",
    "#     print(i)\n",
    "    new_rz25.append(temp_rz25)\n",
    "    new_gr25.append(temp_gr25)\n",
    "    new_zmag25.append(temp_zmag25)\n",
    "    new_index25.append(temp_index25)\n",
    "    \n",
    "print('end 25')\n",
    "    \n",
    "\n",
    "new_rz03 = []\n",
    "new_gr03 = []\n",
    "new_zmag03 = []\n",
    "new_index03 = []\n",
    "\n",
    "for i in range(len(low_nearindex03)):\n",
    "    temp_rz03, temp_gr03, temp_zmag03, temp_index03 = adding_sats(medzmag1, low_nearindex03[i], rzcolor_tot, grcolor_tot, zmag_tot, rz_edges, gr_edges, 8.)\n",
    "#     print(i)\n",
    "    new_rz03.append(temp_rz03)\n",
    "    new_gr03.append(temp_gr03)\n",
    "    new_zmag03.append(temp_zmag03)\n",
    "    new_index03.append(temp_index03)\n",
    "\n",
    "print('end 03')\n"
   ]
  },
  {
   "cell_type": "code",
   "execution_count": 18,
   "metadata": {},
   "outputs": [],
   "source": [
    "# save new colors and magnitudes\n",
    "\n",
    "np.savez('/Users/mtownsend/Documents/LRG_Data/low_grcolor_model8.npz', new_gr25=new_gr25, new_gr03=new_gr03)\n",
    "# data_model8 = np.load('/Users/mtownsend/Documents/LRG_Data/low_Nsat_model8_25.npz')\n",
    "# low_Nsat25_model8 = data_model8['low_Nsat25_model8']\n",
    "np.savez('/Users/mtownsend/Documents/LRG_Data/low_rzcolor_model8.npz', new_rz25=new_rz25, new_rz03=new_rz03)\n",
    "\n",
    "np.savez('/Users/mtownsend/Documents/LRG_Data/low_zmag_model8.npz', new_zmag25=new_zmag25, new_zmag03=new_zmag03)\n"
   ]
  },
  {
   "cell_type": "code",
   "execution_count": 19,
   "metadata": {},
   "outputs": [
    {
     "name": "stdout",
     "output_type": "stream",
     "text": [
      "end 25\n",
      "end 03\n"
     ]
    }
   ],
   "source": [
    "# create new near neighbors arrays for each random pointing\n",
    "\n",
    "# create new 3D histograms with new_rz, new_gr, and new_zmag\n",
    "near25_model8 = []\n",
    "for i in range(len(new_rz25)):\n",
    "    if len(new_rz25[i]) == 0:\n",
    "        hist3d = np.zeros((len(rz_edges) - 1, len(gr_edges) - 1, len(zmag_edges - 1)))\n",
    "        near25_model8.append(hist3d)\n",
    "    else:\n",
    "        hist3d, edges_nouse = np.histogramdd((new_rz25[i], new_gr25[i], new_zmag25[i]), bins=(rz_edges, gr_edges, zmag_edges), density=False)\n",
    "        near25_model8.append(hist3d)\n",
    "        \n",
    "print('end 25')\n",
    "\n",
    "\n",
    "near03_model8 = []\n",
    "for i in range(len(new_rz03)):\n",
    "    if len(new_rz03[i]) == 0:\n",
    "        hist3d = np.zeros((len(rz_edges) - 1, len(gr_edges) - 1, len(zmag_edges - 1)))\n",
    "        near03_model8.append(hist3d)\n",
    "    else:\n",
    "        hist3d, edges_nouse = np.histogramdd((new_rz03[i], new_gr03[i], new_zmag03[i]), bins=(rz_edges, gr_edges, zmag_edges), density=False)\n",
    "        near03_model8.append(hist3d)\n",
    "        \n",
    "print('end 03')"
   ]
  },
  {
   "cell_type": "code",
   "execution_count": 20,
   "metadata": {},
   "outputs": [
    {
     "name": "stdout",
     "output_type": "stream",
     "text": [
      "(2611, 49, 49, 49)\n",
      "(2389, 49, 49, 49)\n"
     ]
    }
   ],
   "source": [
    "# save low bin model 8 near neighbor array\n",
    "\n",
    "np.savez('/Users/mtownsend/Documents/LRG_Data/low_near_model8.npz', near25_model8=near25_model8, near03_model8=near03_model8)\n",
    "# data_model8 = np.load('/Users/mtownsend/Documents/LRG_Data/low_Nsat_model8_25.npz')\n",
    "# low_Nsat25_model8 = data_model8['low_Nsat25_model8']\n",
    "\n",
    "\n",
    "print(np.asarray(near25_model8).shape)\n",
    "print(np.asarray(near03_model8).shape)\n",
    "\n"
   ]
  },
  {
   "cell_type": "code",
   "execution_count": 21,
   "metadata": {},
   "outputs": [
    {
     "name": "stdout",
     "output_type": "stream",
     "text": [
      "(2611, 49, 49, 49)\n",
      "(2389, 49, 49, 49)\n"
     ]
    }
   ],
   "source": [
    "# put Nbkg into redshift bins\n",
    "\n",
    "Nbkg_arr = np.asarray(Nbkg)\n",
    "\n",
    "low_Nbkg25 = Nbkg_arr[np.where((random_z_low >= 0.2) & (random_z_low < 0.25))]\n",
    "low_Nbkg03 = Nbkg_arr[np.where((random_z_low >= 0.25) & (random_z_low < 0.3))]\n",
    "\n",
    "\n",
    "print(low_Nbkg25.shape)\n",
    "print(low_Nbkg03.shape)\n"
   ]
  },
  {
   "cell_type": "code",
   "execution_count": 22,
   "metadata": {},
   "outputs": [
    {
     "name": "stdout",
     "output_type": "stream",
     "text": [
      "(2611, 49, 49, 49)\n",
      "(2389, 49, 49, 49)\n"
     ]
    }
   ],
   "source": [
    "# calculate Nsat for model \n",
    "\n",
    "low_Nsat25 = np.array(near25_model8) - low_Nbkg25\n",
    "low_Nsat03 = np.array(near03_model8) - low_Nbkg03\n",
    "\n",
    "print(low_Nsat25.shape)\n",
    "print(low_Nsat03.shape)\n"
   ]
  },
  {
   "cell_type": "markdown",
   "metadata": {},
   "source": [
    "## Plot and compare null Nsat with model Nsat"
   ]
  },
  {
   "cell_type": "code",
   "execution_count": 25,
   "metadata": {},
   "outputs": [
    {
     "name": "stdout",
     "output_type": "stream",
     "text": [
      "(2, 49, 49, 49)\n"
     ]
    }
   ],
   "source": [
    "# mask Nsat and model Nsat\n",
    "\n",
    "data_smatrix03 = np.load('/Users/mtownsend/Desktop/lowz_smatrix-2matrices.npz')\n",
    "smatrix03 = data_smatrix03['smatrix_low']\n",
    "print(smatrix03.shape)\n",
    "\n",
    "masked_model8_Nsat25 = low_Nsat25 * smatrix03[0]\n",
    "masked_og_Nsat25 = Nsat25 * smatrix03[0]\n",
    "\n",
    "masked_model8_Nsat03 = low_Nsat03 * smatrix03[1]\n",
    "masked_og_Nsat03 = Nsat03 * smatrix03[1]"
   ]
  },
  {
   "cell_type": "code",
   "execution_count": 26,
   "metadata": {},
   "outputs": [
    {
     "name": "stdout",
     "output_type": "stream",
     "text": [
      "mean number of near neighbors is 0.12655590086667862\n",
      "mean number of near neighbors is 4.377800634685139\n",
      "median number of near neighbors is -0.06559341408163971\n",
      "median number of near neighbors is 4.454873282765146\n"
     ]
    },
    {
     "data": {
      "image/png": "[encoded data removed]",
      "text/plain": [
       "<Figure size 1080x1080 with 2 Axes>"
      ]
     },
     "metadata": {
      "needs_background": "light"
     },
     "output_type": "display_data"
    }
   ],
   "source": [
    "# plot Nsat25 and model Nsat25\n",
    "\n",
    "og_sum25 = []\n",
    "model8_sum25 = []\n",
    "# Sum up number of near neighbors for every LRG\n",
    "for i in range(len(masked_og_Nsat25)):\n",
    "    og_sum25.append(np.sum(masked_og_Nsat25[i]))\n",
    "    model8_sum25.append(np.sum(masked_model8_Nsat25[i]))\n",
    "\n",
    "og_mean25 = np.mean(og_sum25)\n",
    "print(\"mean number of near neighbors is\", og_mean25)\n",
    "\n",
    "model8_mean25 = np.mean(model8_sum25)\n",
    "print(\"mean number of near neighbors is\", model8_mean25)\n",
    "\n",
    "og_median25 = np.median(og_sum25)\n",
    "print(\"median number of near neighbors is\", og_median25)\n",
    "\n",
    "model8_median25 = np.median(model8_sum25)\n",
    "print(\"median number of near neighbors is\", model8_median25)\n",
    "\n",
    "# mediannear = np.median(sumnear)\n",
    "# print(\"median number of near neighbors is\", mediannear)\n",
    "\n",
    "# sdnear = np.std(sumnear)\n",
    "# print(\"standard deviation of near neighbor is\", sdnear)\n",
    "\n",
    "# sterrNear = stats.sem(sumnear)\n",
    "# print(\"standard error is\", sterrNear)\n",
    "\n",
    "# plt.hist(og_near, bins=100)\n",
    "\n",
    "fig, (ax1, ax2) = plt.subplots(2, 1, figsize=(15,15)) #, sharex=True)\n",
    "fig.suptitle('Nsat Histograms for log(lum)=9.55 and 0.2 < z < 0.25 (mask)', fontsize=15)\n",
    "fig.subplots_adjust(top=0.93)\n",
    "ax1.hist(og_sum25, bins=50)\n",
    "ax1.set_title('Original Nsat Histogram (mask)', fontsize=14)\n",
    "ax1.set_xlabel(r'$Number$ $of$ $Satellites$', fontsize=13)\n",
    "ax1.set_ylabel(r'$counts$', fontsize=13)\n",
    "ax1.axvline(x=og_mean25, color='r')\n",
    "ax1.axvline(x=og_median25, color='black')\n",
    "ax1.text(0.6, 0.7, 'mean = {0:.4g}'.format(og_mean25), horizontalalignment='left', verticalalignment='center', transform=ax1.transAxes, fontsize=13, color='r')\n",
    "ax1.text(0.6, 0.6, 'median = {0:.4g}'.format(og_median25), horizontalalignment='left', verticalalignment='center', transform=ax1.transAxes, fontsize=13)\n",
    "\n",
    "ax2.hist(model8_sum25, bins=50)\n",
    "ax2.set_title('Model 8 Nsat Histogram (mask)', fontsize=14)\n",
    "ax2.set_xlabel(r'$Number$ $of$ $Satellites$', fontsize=13)\n",
    "ax2.set_ylabel(r'$counts$', fontsize=15)\n",
    "ax2.axvline(x=model8_mean25, color='r')\n",
    "ax2.axvline(x=model8_median25, color='black')\n",
    "ax2.text(0.6, 0.7, 'mean = {0:.4g}'.format(model8_mean25), horizontalalignment='left', verticalalignment='center', transform=ax2.transAxes, fontsize=13, color='r')\n",
    "ax2.text(0.6, 0.6, 'median = {0:.4g}'.format(model8_median25), horizontalalignment='left', verticalalignment='center', transform=ax2.transAxes, fontsize=13)\n",
    "\n",
    "# plt.savefig('/Users/mtownsend/Desktop/MeetingPlots/04Dec2020/low_Nsat_model8_comparison25-masked.pdf')\n",
    "\n",
    "plt.show()"
   ]
  },
  {
   "cell_type": "code",
   "execution_count": null,
   "metadata": {},
   "outputs": [],
   "source": []
  }
 ],
 "metadata": {
  "kernelspec": {
   "display_name": "Python 3",
   "language": "python",
   "name": "python3"
  },
  "language_info": {
   "codemirror_mode": {
    "name": "ipython",
    "version": 3
   },
   "file_extension": ".py",
   "mimetype": "text/x-python",
   "name": "python",
   "nbconvert_exporter": "python",
   "pygments_lexer": "ipython3",
   "version": "3.5.5"
  }
 },
 "nbformat": 4,
 "nbformat_minor": 2
}
