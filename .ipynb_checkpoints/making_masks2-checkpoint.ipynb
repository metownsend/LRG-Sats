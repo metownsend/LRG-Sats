{
 "cells": [
  {
   "cell_type": "code",
   "execution_count": 1,
   "metadata": {},
   "outputs": [],
   "source": [
    "from astropy.io import fits\n",
    "from astropy.table import Table\n",
    "import numpy as np\n",
    "import matplotlib.pylab as plt \n",
    "import matplotlib.lines as mlines\n",
    "from matplotlib.legend import Legend\n",
    "from pythonds.basic.stack import Stack\n",
    "from math import *\n",
    "from sklearn.neighbors import KDTree\n",
    "from lrg_plot_functions import *\n",
    "from lrg_sum_functions import *\n",
    "from cosmo_Calc import *\n",
    "from divideByTwo import *\n",
    "from read_data import *\n",
    "from nearNeighbors import *\n",
    "from scipy import stats\n",
    "from astropy import stats\n",
    "import healpy as hp\n",
    "from localBKG_and_interlopersHEALPix import *\n",
    "# import healpy as hpy\n",
    "from makeCutoutTableFunc import *\n",
    "from plotHistogramProjections3D import *\n",
    "from read_bricks import *\n",
    "from mpl_toolkits.axes_grid1 import make_axes_locatable\n"
   ]
  },
  {
   "cell_type": "code",
   "execution_count": 2,
   "metadata": {},
   "outputs": [
    {
     "name": "stdout",
     "output_type": "stream",
     "text": [
      "done reading in DECaLS bricks\n",
      "done reading in DECaLS bricks\n",
      "end readdata\n"
     ]
    }
   ],
   "source": [
    "# Reads in data files for use in readData.py\n",
    "\n",
    "hdu_sweep1 = fits.open('/Users/mtownsend/anaconda/Data/sweep-140p000-150p005-UVISTA1.fits') # this is one sweep file of the DECaLS data\n",
    "hdu_sweep2 = fits.open('/Users/mtownsend/anaconda/Data/sweep-150p000-160p005-UVISTA2.fits') # this is one sweep file of the DECaLS data\n",
    "\n",
    "UVISTA1_data = hdu_sweep1[1].data\n",
    "UVISTA2_data = hdu_sweep2[1].data\n",
    "\n",
    "ra_LS1, dec_LS1, gflux_LS1, rflux_LS1, zflux_LS1, w1flux_LS1, w2flux_LS1, w3flux_LS1, w4flux_LS1, gflux_ivar_LS1, rflux_ivar_LS1, zflux_ivar_LS1, w1flux_ivar_LS1, w2flux_ivar_LS1, w3flux_ivar_LS1, w4flux_ivar_LS1, mw_transmission_g_LS1, mw_transmission_r_LS1, mw_transmission_z_LS1, mw_transmission_w1_LS1, mw_transmission_w2_LS1, mw_transmission_w3_LS1, mw_transmission_w4_LS1 = readBricks(UVISTA1_data)\n",
    "ra_LS2, dec_LS2, gflux_LS2, rflux_LS2, zflux_LS2, w1flux_LS2, w2flux_LS2, w3flux_LS2, w4flux_LS2, gflux_ivar_LS2, rflux_ivar_LS2, zflux_ivar_LS2, w1flux_ivar_LS2, w2flux_ivar_LS2, w3flux_ivar_LS2, w4flux_ivar_LS2, mw_transmission_g_LS2, mw_transmission_r_LS2, mw_transmission_z_LS2, mw_transmission_w1_LS2, mw_transmission_w2_LS2, mw_transmission_w3_LS2, mw_transmission_w4_LS2 = readBricks(UVISTA2_data)\n",
    "\n",
    "print(\"end readdata\")\n",
    "\n",
    "# IMPORTANT NOTE: LRG data is the same for each."
   ]
  },
  {
   "cell_type": "code",
   "execution_count": 3,
   "metadata": {},
   "outputs": [
    {
     "data": {
      "image/png": "[encoded data removed]",
      "text/plain": [
       "<Figure size 432x288 with 1 Axes>"
      ]
     },
     "metadata": {
      "needs_background": "light"
     },
     "output_type": "display_data"
    },
    {
     "name": "stdout",
     "output_type": "stream",
     "text": [
      "166641\n"
     ]
    }
   ],
   "source": [
    "# read in UV data\n",
    "\n",
    "data_UV = open('/Users/mtownsend/eazy-photoz/inputs/OUTPUT/UVISTA_master_v4.1/UVISTA_final_v4.1.153-155.rf', 'r')\n",
    "lines_UV = data_UV.readlines()[11:]\n",
    "\n",
    "z = []\n",
    "for line in lines_UV:\n",
    "    p = line.split()\n",
    "    z.append(float(p[1]))\n",
    "\n",
    "z = np.array(z)\n",
    "\n",
    "from astropy.io import ascii\n",
    "data_cat = odata_cat = ascii.read(\"/Users/mtownsend/eazy-photoz/inputs/UVISTA_master_v4.1.cat\")  \n",
    "\n",
    "ra = data_cat['ra']\n",
    "dec = data_cat['dec']\n",
    "# z_spec = data_cat['z_spec']\n",
    "use = data_cat['USE']\n",
    "star = data_cat['star']\n",
    "contamination = data_cat['contamination']\n",
    "nan_contam = data_cat['nan_contam']\n",
    "# z = data_cat['z_spec']\n",
    "\n",
    "cut = np.where((use == 1.) & (star == 0.) & (contamination == 0.) & (nan_contam < 3.)) # & (Uflux > 0.) & (Vflux > 0.) & (zflux > 0.)) # & (zp > 0.))\n",
    "\n",
    "ra_UV = ra[cut]\n",
    "dec_UV = dec[cut]\n",
    "z_peak = z[cut]\n",
    "\n",
    "plt.scatter(ra_UV,dec_UV)\n",
    "plt.show()\n",
    "\n",
    "print(len(z_peak))\n"
   ]
  },
  {
   "cell_type": "code",
   "execution_count": 4,
   "metadata": {},
   "outputs": [
    {
     "name": "stdout",
     "output_type": "stream",
     "text": [
      "69987\n"
     ]
    }
   ],
   "source": [
    "gmag_LS1 = 22.5 - 2.5 * np.log10(gflux_LS1/mw_transmission_g_LS1)\n",
    "gmag_LS2 = 22.5 - 2.5 * np.log10(gflux_LS2/mw_transmission_g_LS2)\n",
    "rmag_LS1 = 22.5 - 2.5 * np.log10(rflux_LS1/mw_transmission_r_LS1)\n",
    "rmag_LS2 = 22.5 - 2.5 * np.log10(rflux_LS2/mw_transmission_r_LS2)\n",
    "zmag_LS1 = 22.5 - 2.5 * np.log10(zflux_LS1/mw_transmission_z_LS1)\n",
    "zmag_LS2 = 22.5 - 2.5 * np.log10(zflux_LS2/mw_transmission_z_LS2)\n",
    "\n",
    "ra_LS = np.concatenate([ra_LS1, ra_LS2])\n",
    "dec_LS = np.concatenate([dec_LS1, dec_LS2])\n",
    "gmag_LS = np.concatenate([gmag_LS1, gmag_LS2])\n",
    "rmag_LS = np.concatenate([rmag_LS1, rmag_LS2])\n",
    "zmag_LS = np.concatenate([zmag_LS1, zmag_LS2]) \n",
    "\n",
    "\n",
    "# match sources in UVista and LS catalogs\n",
    "\n",
    "from astropy.coordinates import SkyCoord, match_coordinates_sky                                   \n",
    "from astropy import units as u       \n",
    "\n",
    "UVISTA_cat  = SkyCoord(ra=ra_UV*u.degree, dec=dec_UV*u.degree)\n",
    "\n",
    "my_cat = SkyCoord(ra=ra_LS*u.degree, dec=dec_LS*u.degree) \n",
    "\n",
    "idx_UVISTA, sep2d_UVISTA, dist3d_UVISTA = match_coordinates_sky(UVISTA_cat, my_cat, nthneighbor=1)\n",
    "\n",
    "sep2d_UVISTA_deg = sep2d_UVISTA.deg\n",
    "\n",
    "sep_idx_UVISTA = idx_UVISTA[np.where(sep2d_UVISTA_deg <= 0.0003)]\n",
    "\n",
    "print(len(sep_idx_UVISTA))"
   ]
  },
  {
   "cell_type": "code",
   "execution_count": 5,
   "metadata": {},
   "outputs": [
    {
     "name": "stdout",
     "output_type": "stream",
     "text": [
      "69987\n",
      "69987\n"
     ]
    },
    {
     "name": "stderr",
     "output_type": "stream",
     "text": [
      "/Users/mtownsend/anaconda/envs/astroconda/lib/python3.5/site-packages/ipykernel_launcher.py:23: RuntimeWarning: invalid value encountered in log10\n"
     ]
    }
   ],
   "source": [
    "# calculate rest frame g-band luminosity\n",
    "\n",
    "data_UV = open('/Users/mtownsend/eazy-photoz/inputs/OUTPUT/UV_LS_OUTPUT/UV_LS_main_output.294.rf', 'r')\n",
    "lines_UV = data_UV.readlines()[10:]\n",
    "\n",
    "distmod = []\n",
    "gflux = []\n",
    "redshift = []\n",
    "for line in lines_UV:\n",
    "    p = line.split()\n",
    "    redshift.append(float(p[1]))\n",
    "    distmod.append(float(p[2]))\n",
    "    gflux.append(float(p[5]))\n",
    "\n",
    "DM = np.array(distmod)\n",
    "Gflux = np.array(gflux)\n",
    "zspec = np.array(redshift)\n",
    "\n",
    "# K correction\n",
    "K_correct = -2.5*np.log10((1. + zspec)**-1.)\n",
    "\n",
    "# Absolute magnitude\n",
    "gMag = -2.5*np.log10(Gflux) + 25. - DM - K_correct\n",
    "\n",
    "# Calculate rest frame zmag\n",
    "\n",
    "Msun_z = 4.50\n",
    "Msun_g = 5.05\n",
    "gLum = 10.**((gMag-Msun_g)/(-2.5))\n",
    "\n",
    "log_gLum = np.log10(gLum)\n",
    "\n",
    "print(len(log_gLum))\n",
    "print(len(zspec))\n",
    "\n",
    "# calculate (g-r) and (r-z) colors\n",
    "    \n",
    "grcolor_UVLS_nocut = gmag_LS[sep_idx_UVISTA] - rmag_LS[sep_idx_UVISTA]\n",
    "rzcolor_UVLS_nocut = rmag_LS[sep_idx_UVISTA] - zmag_LS[sep_idx_UVISTA]\n",
    "zmag_UVLS_nocut = zmag_LS[sep_idx_UVISTA]\n",
    "\n",
    "grcolor_UVLS = grcolor_UVLS_nocut[np.where((zmag_UVLS_nocut <= 22.36) & (np.isnan(log_gLum) == False))]\n",
    "rzcolor_UVLS = rzcolor_UVLS_nocut[np.where((zmag_UVLS_nocut <= 22.36) & (np.isnan(log_gLum) == False))]\n",
    "zmag_UVLS = zmag_UVLS_nocut[np.where((zmag_UVLS_nocut <= 22.36) & (np.isnan(log_gLum) == False))]\n",
    "\n",
    "zspec_UVLS = zspec[np.where((zmag_UVLS_nocut <= 22.36) & (np.isnan(log_gLum) == False))]\n",
    "\n",
    "log_gLum_cut = log_gLum[np.where((zmag_UVLS_nocut <= 22.36) & (np.isnan(log_gLum) == False))]"
   ]
  },
  {
   "cell_type": "code",
   "execution_count": 30,
   "metadata": {},
   "outputs": [],
   "source": [
    "#### TO BE EDITED ####\n",
    "\n",
    "# def making_masks(H1, lum_limit, x, y, z, lum, xedges, yedges, zedges):\n",
    "def making_masks(H2D, H3D, lum_limit, x, y, z, lum, xedges, yedges, zedges):\n",
    "    \n",
    "    # lum_limit == luminosity threshold\n",
    "    # x,y,z == arrays involved in the 3D histogram\n",
    "    # lum = luminosity array; same size as x (or y or z)\n",
    "    # xedges,yedges,zedges = boundaries to search for x,y,z\n",
    "    \n",
    "    import numpy as np\n",
    "    \n",
    "    temp = []\n",
    "    medzmag = np.zeros_like(H2D, dtype=float)\n",
    "#     indexlist = np.zeros((2,2,2),dtype=list)\n",
    "\n",
    "    for i in range(len(xedges)-1):\n",
    "        for j in range(len(yedges)-1):\n",
    "            for m in range(len(x)):\n",
    "                if ((x[m] >= xedges[i]) & (x[m] <= xedges[i+1]) & (y[m] >= yedges[j]) & (y[m] <= yedges[j+1])):\n",
    "#                     print(m)\n",
    "#                     print(lum[m])\n",
    "#                     print(\"---\")\n",
    "                    if (abs(lum[m]-lum_limit) < 0.5):\n",
    "                        temp.append(z[m])\n",
    "#                         print(temp)\n",
    "#                         print(lum[m]\n",
    "                        if (len(temp) > 0.):\n",
    "                            medzmag[i][j] = np.median(list(temp))\n",
    "                        else:\n",
    "                            medzmag[i][j] = -999.\n",
    "                else:\n",
    "                    medzmag[i][j] = -999.\n",
    "#         print(temp)\n",
    "        temp = []\n",
    "#         print(temp)       \n",
    "    test_array = medzmag\n",
    "    print(test_array)\n",
    "\n",
    "    mask_array = np.empty_like(H3D)\n",
    "    for i in range(len(xedges)-1):\n",
    "        for j in range(len(yedges)-1):\n",
    "            print(test_array[i][j])\n",
    "            for k in range(len(zedges)-1):\n",
    "                if (zedges[k+1] <= test_array[i][j]):\n",
    "                    mask_array[i][j][k] = 1\n",
    "                else:\n",
    "                    mask_array[i][j][k] = 0\n",
    "\n",
    "    return mask_array\n",
    "\n"
   ]
  },
  {
   "cell_type": "code",
   "execution_count": 32,
   "metadata": {},
   "outputs": [
    {
     "name": "stdout",
     "output_type": "stream",
     "text": [
      "[[-999.           21.61158371 -999.        ]\n",
      " [-999.         -999.         -999.        ]\n",
      " [-999.         -999.         -999.        ]]\n",
      "-999.0\n",
      "21.611583709716797\n",
      "-999.0\n",
      "-999.0\n",
      "-999.0\n",
      "-999.0\n",
      "-999.0\n",
      "-999.0\n",
      "-999.0\n",
      "[[[0. 0. 0.]\n",
      "  [1. 1. 0.]\n",
      "  [0. 0. 0.]]\n",
      "\n",
      " [[0. 0. 0.]\n",
      "  [0. 0. 0.]\n",
      "  [0. 0. 0.]]\n",
      "\n",
      " [[0. 0. 0.]\n",
      "  [0. 0. 0.]\n",
      "  [0. 0. 0.]]]\n"
     ]
    }
   ],
   "source": [
    "rzcolor = rzcolor_UVLS[0:29]\n",
    "# print(rzcolor)\n",
    "# print('----')\n",
    "grcolor = grcolor_UVLS[0:29]\n",
    "# print(grcolor)\n",
    "# print('----')\n",
    "zmag = zmag_UVLS[0:29]\n",
    "# print(zmag)\n",
    "# print('----')\n",
    "lum = log_gLum_cut[0:29]\n",
    "# print(lum)\n",
    "# print('----')\n",
    "\n",
    "\n",
    "Htest3D, edges = np.histogramdd((rzcolor, zmag, grcolor), bins=(3,3,3), density=False)\n",
    "Htest2D, rz_edges, gr_edges = np.histogram2d(rzcolor, grcolor, bins=(3,3), density=False)\n",
    "\n",
    "# print(Htest3D)\n",
    "\n",
    "# print(edges[0])\n",
    "# print(edges[1])\n",
    "# print(edges[2])\n",
    "# print('---')\n",
    "# print(rz_edges)\n",
    "# print(gr_edges)\n",
    "\n",
    "\n",
    "mask_array = making_masks(Htest2D, Htest3D, 10., rzcolor, grcolor, zmag, lum, rz_edges, gr_edges, edges[1]) #, edges[2])\n",
    "\n",
    "# print(mask_array.shape)\n",
    "print(mask_array)\n",
    "# print(mask_array[0][0])\n",
    "\n",
    "# medzmag = np.zeros_like(Htest2D, dtype=float)\n",
    "# for i in range(len(xedges)-1):\n",
    "#         for j in range(len(yedges)-1): \n",
    "#             index = np.where((rzcolor >= xedges[i]) & (rzcolor <= xedges[i+1]) & (grcolor >= yedges[j]) & (grcolor <= yedges[j+1]))\n",
    "# #             print(np.where((rzcolor >= xedges[i]) & (rzcolor <= xedges[i+1]) & (grcolor >= yedges[j]) & (grcolor <= yedges[j+1])))\n",
    "#             print(zmag[index])\n",
    "#             print(\"----\")\n",
    "#             for k in range(len(index)):\n",
    "#                 if (abs(lum[index[k]]-10) < 1.):\n",
    "#                     temp.append(lum[m])\n",
    "#                     print(temp)\n",
    "# #                         print(lum[m])\n",
    "#                     if (len(temp) > 0.):\n",
    "#                         medzmag[i][j] = np.median(list(temp))\n",
    "#                     else:\n",
    "#                         medzmag[i][j] = 0.\n",
    "            \n",
    "# print(medzmag)\n"
   ]
  },
  {
   "cell_type": "code",
   "execution_count": null,
   "metadata": {},
   "outputs": [],
   "source": [
    "Hstar, nouse_edges = np.histogramdd((rzcolor_UVLS, zmag_UVLS, grcolor_UVLS), bins=(rz_edges, zmag_edges, gr_edges), density=False)\n",
    "\n",
    "masks = []\n",
    "for i in range(len(zrange)-1):\n",
    "    x = rzcolor_UVLS[np.where((zspec_UVLS > zrange[i]) & (zspec_UVLS <= zrange[i+1]))]\n",
    "    y = zmag_UVLS[np.where((zspec_UVLS > zrange[i]) & (zspec_UVLS <= zrange[i+1]))]\n",
    "    z = grcolor_UVLS[np.where((zspec_UVLS > zrange[i]) & (zspec_UVLS <= zrange[i+1]))]\n",
    "    lum = log_gLum_cut[np.where((zspec_UVLS > zrange[i]) & (zspec_UVLS <= zrange[i+1]))]\n",
    "    mask_array = making_masks(Hstar, 9.32, x, y, z, lum, rz_edges, zmag_edges, gr_edges)\n",
    "    masks.append(mask_array)\n",
    "    print(i)"
   ]
  }
 ],
 "metadata": {
  "kernelspec": {
   "display_name": "Python 3",
   "language": "python",
   "name": "python3"
  },
  "language_info": {
   "codemirror_mode": {
    "name": "ipython",
    "version": 3
   },
   "file_extension": ".py",
   "mimetype": "text/x-python",
   "name": "python",
   "nbconvert_exporter": "python",
   "pygments_lexer": "ipython3",
   "version": "3.5.5"
  }
 },
 "nbformat": 4,
 "nbformat_minor": 2
}
