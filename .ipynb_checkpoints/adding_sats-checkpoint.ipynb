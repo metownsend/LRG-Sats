{
 "cells": [
  {
   "cell_type": "code",
   "execution_count": 2,
   "metadata": {},
   "outputs": [],
   "source": [
    "from astropy.io import fits\n",
    "from astropy.table import Table\n",
    "import numpy as np\n",
    "import matplotlib.pylab as plt \n",
    "import matplotlib.lines as mlines\n",
    "from matplotlib.legend import Legend\n",
    "from pythonds.basic.stack import Stack\n",
    "from math import *\n",
    "from sklearn.neighbors import KDTree\n",
    "from lrg_plot_functions import *\n",
    "from lrg_sum_functions import *\n",
    "from cosmo_Calc import *\n",
    "from divideByTwo import *\n",
    "from read_data import *\n",
    "from nearNeighbors import *\n",
    "from scipy import stats\n",
    "from astropy import stats\n",
    "import healpy as hp\n",
    "from localBKG_and_interlopersHEALPix import *\n",
    "# import healpy as hpy\n",
    "from makeCutoutTableFunc import *\n",
    "from plotHistogramProjections3D import *\n",
    "from read_bricks import *\n",
    "from mpl_toolkits.axes_grid1 import make_axes_locatable\n",
    "import random"
   ]
  },
  {
   "cell_type": "code",
   "execution_count": 22,
   "metadata": {},
   "outputs": [
    {
     "name": "stdout",
     "output_type": "stream",
     "text": [
      "(1823,)\n",
      "----\n",
      "(1823,)\n",
      "----\n",
      "(1823,)\n",
      "----\n",
      "(1823,)\n",
      "----\n",
      "(1823,)\n",
      "----\n",
      "(1823,)\n",
      "----\n",
      "(1823,)\n",
      "----\n",
      "(1823,)\n"
     ]
    }
   ],
   "source": [
    "# save LRG data arrays\n",
    "\n",
    "# np.savez('/Users/mtownsend/Documents/LRG_Data/ra_LRG.npz', ra_LRG=ra_LRG)\n",
    "# print(ra_LRG.shape)\n",
    "data_raLRG = np.load('/Users/mtownsend/Documents/LRG_Data/ra_LRG.npz')\n",
    "raLRG = data_raLRG['ra_LRG']\n",
    "print(raLRG.shape)\n",
    "\n",
    "print('----')\n",
    "\n",
    "# np.savez('/Users/mtownsend/Documents/LRG_Data/dec_LRG.npz', dec_LRG=dec_LRG)\n",
    "# print(dec_LRG.shape)\n",
    "data_decLRG = np.load('/Users/mtownsend/Documents/LRG_Data/dec_LRG.npz')\n",
    "decLRG = data_decLRG['dec_LRG']\n",
    "print(decLRG.shape)\n",
    "\n",
    "print('----')\n",
    "\n",
    "# np.savez('/Users/mtownsend/Documents/LRG_Data/z_LRG.npz', z_LRG=z_LRG)\n",
    "# print(z_LRG.shape)\n",
    "data_zLRG = np.load('/Users/mtownsend/Documents/LRG_Data/z_LRG.npz')\n",
    "zLRG = data_zLRG['z_LRG']\n",
    "print(zLRG.shape)\n",
    "\n",
    "print('----')\n",
    "\n",
    "# np.savez('/Users/mtownsend/Documents/LRG_Data/gmag_LRG.npz', gmag_LRG=gmag_LRG)\n",
    "# print(gmag_LRG.shape)\n",
    "data_gmagLRG = np.load('/Users/mtownsend/Documents/LRG_Data/gmag_LRG.npz')\n",
    "gmagLRG = data_gmagLRG['gmag_LRG']\n",
    "print(gmagLRG.shape)\n",
    "\n",
    "print('----')\n",
    "\n",
    "# np.savez('/Users/mtownsend/Documents/LRG_Data/rmag_LRG.npz', rmag_LRG=rmag_LRG)\n",
    "# print(rmag_LRG.shape)\n",
    "data_rmagLRG = np.load('/Users/mtownsend/Documents/LRG_Data/rmag_LRG.npz')\n",
    "rmagLRG = data_rmagLRG['rmag_LRG']\n",
    "print(rmagLRG.shape)\n",
    "\n",
    "print('----')\n",
    "\n",
    "# np.savez('/Users/mtownsend/Documents/LRG_Data/zmag_LRG.npz', zmag_LRG=zmag_LRG)\n",
    "# print(zmag_LRG.shape)\n",
    "data_zmagLRG = np.load('/Users/mtownsend/Documents/LRG_Data/zmag_LRG.npz')\n",
    "zmagLRG = data_zmagLRG['zmag_LRG']\n",
    "print(zmagLRG.shape)\n",
    "\n",
    "print('----')\n",
    "\n",
    "# np.savez('/Users/mtownsend/Documents/LRG_Data/grcolor_LRG.npz', grcolor_LRG=grcolor_LRG)\n",
    "# print(grcolor_LRG.shape)\n",
    "data_grcolorLRG = np.load('/Users/mtownsend/Documents/LRG_Data/grcolor_LRG.npz')\n",
    "grcolorLRG = data_grcolorLRG['grcolor_LRG']\n",
    "print(grcolorLRG.shape)\n",
    "\n",
    "print('----')\n",
    "\n",
    "# np.savez('/Users/mtownsend/Documents/LRG_Data/rzcolor_LRG.npz', rzcolor_LRG=rzcolor_LRG)\n",
    "# print(rzcolor_LRG.shape)\n",
    "data_rzcolorLRG = np.load('/Users/mtownsend/Documents/LRG_Data/rzcolor_LRG.npz')\n",
    "rzcolorLRG = data_rzcolorLRG['rzcolor_LRG']\n",
    "print(rzcolorLRG.shape)\n"
   ]
  },
  {
   "cell_type": "code",
   "execution_count": 23,
   "metadata": {},
   "outputs": [
    {
     "name": "stdout",
     "output_type": "stream",
     "text": [
      "(517525,)\n",
      "----\n",
      "(517525,)\n",
      "----\n",
      "(517525,)\n",
      "----\n",
      "(517525,)\n",
      "----\n",
      "(517525,)\n",
      "----\n",
      "(517525,)\n",
      "----\n",
      "(517525,)\n"
     ]
    }
   ],
   "source": [
    "# save BKG data arrays\n",
    "\n",
    "# np.savez('/Users/mtownsend/Documents/LRG_Data/ra_BKG.npz', ra_BKG=ra_BKG)\n",
    "# print(ra_BKG.shape)\n",
    "data_raBKG = np.load('/Users/mtownsend/Documents/LRG_Data/ra_BKG.npz')\n",
    "raBKG = data_raBKG['ra_BKG']\n",
    "print(raBKG.shape)\n",
    "\n",
    "print('----')\n",
    "\n",
    "# np.savez('/Users/mtownsend/Documents/LRG_Data/dec_BKG.npz', dec_BKG=dec_BKG)\n",
    "# print(dec_BKG.shape)\n",
    "data_decBKG = np.load('/Users/mtownsend/Documents/LRG_Data/dec_BKG.npz')\n",
    "decBKG = data_decBKG['dec_BKG']\n",
    "print(decBKG.shape)\n",
    "\n",
    "print('----')\n",
    "\n",
    "# np.savez('/Users/mtownsend/Documents/LRG_Data/gmag_BKG.npz', gmag_BKG=gmag_BKG)\n",
    "# print(gmag_BKG.shape)\n",
    "data_gmagBKG = np.load('/Users/mtownsend/Documents/LRG_Data/gmag_BKG.npz')\n",
    "gmagBKG = data_gmagBKG['gmag_BKG']\n",
    "print(gmagBKG.shape)\n",
    "\n",
    "print('----')\n",
    "\n",
    "# np.savez('/Users/mtownsend/Documents/LRG_Data/rmag_BKG.npz', rmag_BKG=rmag_BKG)\n",
    "# print(rmag_BKG.shape)\n",
    "data_rmagBKG = np.load('/Users/mtownsend/Documents/LRG_Data/rmag_BKG.npz')\n",
    "rmagBKG = data_rmagBKG['rmag_BKG']\n",
    "print(rmagBKG.shape)\n",
    "\n",
    "print('----')\n",
    "\n",
    "# np.savez('/Users/mtownsend/Documents/LRG_Data/zmag_BKG.npz', zmag_BKG=zmag_BKG)\n",
    "# print(zmag_BKG.shape)\n",
    "data_zmagBKG = np.load('/Users/mtownsend/Documents/LRG_Data/zmag_BKG.npz')\n",
    "zmagBKG = data_zmagBKG['zmag_BKG']\n",
    "print(zmagBKG.shape)\n",
    "\n",
    "print('----')\n",
    "\n",
    "# np.savez('/Users/mtownsend/Documents/LRG_Data/grcolor_BKG.npz', grcolor_BKG=grcolor_BKG)\n",
    "# print(grcolor_BKG.shape)\n",
    "data_grcolorBKG = np.load('/Users/mtownsend/Documents/LRG_Data/grcolor_BKG.npz')\n",
    "grcolorBKG = data_grcolorBKG['grcolor_BKG']\n",
    "print(grcolorBKG.shape)\n",
    "\n",
    "print('----')\n",
    "\n",
    "# np.savez('/Users/mtownsend/Documents/LRG_Data/rzcolor_BKG.npz', rzcolor_BKG=rzcolor_BKG)\n",
    "# print(rzcolor_BKG.shape)\n",
    "data_rzcolorBKG = np.load('/Users/mtownsend/Documents/LRG_Data/rzcolor_BKG.npz')\n",
    "rzcolorBKG = data_rzcolorBKG['rzcolor_BKG']\n",
    "print(rzcolorBKG.shape)"
   ]
  },
  {
   "cell_type": "code",
   "execution_count": 24,
   "metadata": {},
   "outputs": [
    {
     "name": "stdout",
     "output_type": "stream",
     "text": [
      "(519348,)\n",
      "----\n",
      "(519348,)\n",
      "----\n",
      "(519348,)\n",
      "----\n",
      "(519348,)\n",
      "----\n",
      "(519348,)\n",
      "----\n",
      "(519348,)\n",
      "----\n",
      "(519348,)\n",
      "[0.75320435 1.3548889  1.1859646  0.8234596  0.9435139  1.1689548\n",
      " 0.8595371  0.9884472  1.2700977  1.3163471 ]\n",
      "0.75320435\n",
      "1.1689548\n"
     ]
    }
   ],
   "source": [
    "# save combined LRG and BKG lists\n",
    "\n",
    "# np.savez('/Users/mtownsend/Documents/LRG_Data/ra_total.npz', ra=ra)\n",
    "# print(ra.shape)\n",
    "data_ra = np.load('/Users/mtownsend/Documents/LRG_Data/ra_total.npz')\n",
    "ra_total = data_ra['ra']\n",
    "print(ra_total.shape)\n",
    "\n",
    "print('----')\n",
    "\n",
    "# np.savez('/Users/mtownsend/Documents/LRG_Data/dec_total.npz', dec=dec)\n",
    "# print(dec.shape)\n",
    "data_dec = np.load('/Users/mtownsend/Documents/LRG_Data/dec_total.npz')\n",
    "dec_total = data_dec['dec']\n",
    "print(dec_total.shape)\n",
    "\n",
    "print('----')\n",
    "\n",
    "# np.savez('/Users/mtownsend/Documents/LRG_Data/gmag_total.npz', gmag=gmag)\n",
    "# print(gmag.shape)\n",
    "data_gmag = np.load('/Users/mtownsend/Documents/LRG_Data/gmag_total.npz')\n",
    "gmag_total = data_gmag['gmag']\n",
    "print(gmag_total.shape)\n",
    "\n",
    "print('----')\n",
    "\n",
    "# np.savez('/Users/mtownsend/Documents/LRG_Data/rmag_total.npz', rmag=rmag)\n",
    "# print(rmag.shape)\n",
    "data_rmag = np.load('/Users/mtownsend/Documents/LRG_Data/rmag_total.npz')\n",
    "rmag_total = data_rmag['rmag']\n",
    "print(rmag_total.shape)\n",
    "\n",
    "print('----')\n",
    "\n",
    "# np.savez('/Users/mtownsend/Documents/LRG_Data/zmag_total.npz', zmag=zmag)\n",
    "# print(zmag.shape)\n",
    "data_zmag = np.load('/Users/mtownsend/Documents/LRG_Data/zmag_total.npz')\n",
    "zmag_total = data_zmag['zmag']\n",
    "print(zmag_total.shape)\n",
    "\n",
    "print('----')\n",
    "\n",
    "# np.savez('/Users/mtownsend/Documents/LRG_Data/grcolor_total.npz', grcolor=grcolor)\n",
    "# print(grcolor.shape)\n",
    "data_grcolor = np.load('/Users/mtownsend/Documents/LRG_Data/grcolor_total.npz')\n",
    "grcolor_total = data_grcolor['grcolor']\n",
    "print(grcolor_total.shape)\n",
    "\n",
    "print('----')\n",
    "\n",
    "# np.savez('/Users/mtownsend/Documents/LRG_Data/rzcolor_total.npz', rzcolor=rzcolor)\n",
    "# print(rzcolor.shape)\n",
    "data_rzcolor = np.load('/Users/mtownsend/Documents/LRG_Data/rzcolor_total.npz')\n",
    "rzcolor_total = data_rzcolor['rzcolor']\n",
    "print(rzcolor_total.shape)\n",
    "\n",
    "print(rzcolor_total[0:10])\n",
    "print(rzcolor_total[0])\n",
    "print(rzcolor_total[5])"
   ]
  },
  {
   "cell_type": "code",
   "execution_count": 25,
   "metadata": {},
   "outputs": [
    {
     "name": "stdout",
     "output_type": "stream",
     "text": [
      "[285350 425505 279833 ...  65350  68200  30977]\n",
      "519191\n",
      "[207051 397706 339031 ...   2426 394878 345638]\n",
      "519149\n",
      "[424177 516268 237656 ... 149718 201518 449165]\n",
      "519299\n"
     ]
    }
   ],
   "source": [
    "data_index_lowz = np.load('/Users/mtownsend/Documents/LRG_Data/index_lowz.npz')\n",
    "index_lowz = data_index_lowz['index_lowz']\n",
    "print(index_lowz)\n",
    "print(index_lowz.max())\n",
    "\n",
    "data_index_midz = np.load('/Users/mtownsend/Documents/LRG_Data/index_midz.npz')\n",
    "index_midz = data_index_midz['index_midz']\n",
    "print(index_midz)\n",
    "print(index_midz.max())\n",
    "\n",
    "data_index_high = np.load('/Users/mtownsend/Documents/LRG_Data/index_highz.npz')\n",
    "index_high = data_index_high['index_high']\n",
    "print(index_high)\n",
    "print(index_high.max())"
   ]
  },
  {
   "cell_type": "code",
   "execution_count": 26,
   "metadata": {},
   "outputs": [
    {
     "name": "stdout",
     "output_type": "stream",
     "text": [
      "5000\n",
      "514348\n",
      "519348\n",
      "519348\n",
      "519348\n",
      "519348\n"
     ]
    }
   ],
   "source": [
    "# make a random data set that I will treat as LRGs\n",
    "random_raLRG = ra_total[index_lowz]\n",
    "random_decLRG = dec_total[index_lowz]\n",
    "random_gmagLRG = gmag_total[index_lowz]\n",
    "random_rmagLRG = rmag_total[index_lowz]\n",
    "random_zmagLRG = zmag_total[index_lowz]\n",
    "random_grcolorLRG = grcolor_total[index_lowz]\n",
    "random_rzcolorLRG = rzcolor_total[index_lowz]\n",
    "\n",
    "# eliminate \"LRGs\" from background catalog\n",
    "random_raBKG = np.delete(ra_total, index_lowz)\n",
    "random_decBKG = np.delete(dec_total, index_lowz)\n",
    "random_gmagBKG = np.delete(gmag_total, index_lowz)\n",
    "random_rmagBKG = np.delete(rmag_total, index_lowz)\n",
    "random_zmagBKG = np.delete(zmag_total, index_lowz)\n",
    "random_grcolorBKG = np.delete(grcolor_total, index_lowz)\n",
    "random_rzcolorBKG = np.delete(rzcolor_total, index_lowz)\n",
    "\n",
    "print(len(random_raLRG))\n",
    "print(len(random_raBKG))\n",
    "print(len(ra_total))\n",
    "print(len(random_raLRG) + len(random_raBKG))\n",
    "\n",
    "ra_tot = np.concatenate([random_raLRG, random_raBKG])\n",
    "dec_tot = np.concatenate([random_decLRG, random_decBKG])\n",
    "gmag_tot = np.concatenate([random_gmagLRG, random_gmagBKG])\n",
    "rmag_tot = np.concatenate([random_rmagLRG, random_rmagBKG])\n",
    "zmag_tot = np.concatenate([random_zmagLRG, random_zmagBKG])\n",
    "rzcolor_tot = np.concatenate([random_rzcolorLRG, random_rzcolorBKG])\n",
    "grcolor_tot = np.concatenate([random_grcolorLRG, random_grcolorBKG])\n",
    "\n",
    "print(len(ra_tot))\n",
    "print(len(dec_tot))\n"
   ]
  },
  {
   "cell_type": "code",
   "execution_count": 27,
   "metadata": {},
   "outputs": [
    {
     "name": "stdout",
     "output_type": "stream",
     "text": [
      "<class 'numpy.ndarray'>\n"
     ]
    }
   ],
   "source": [
    "# read in data\n",
    "\n",
    "rz_edges = np.array([-1.8027077, -1.5527076721191406, -1.3027076721191406, -1.0527076721191406, -0.8027076721191406, -0.5527076721191406, -0.3027076721191406, -0.052707672119140625, 0.19729232788085938, 0.4472923278808594, 0.6972923278808594, 0.9472923278808594, 1.1972923278808594, 1.4472923278808594, 1.6972923278808594, 1.9472923278808594, 2.1972923278808594, 2.4472923278808594, 2.6972923278808594, 2.9472923278808594, 3.1972923278808594, 3.4472923278808594, 3.6972923278808594, 3.9472923278808594, 4.197292327880859, 4.447292327880859, 4.697292327880859, 4.947292327880859, 5.197292327880859, 5.447292327880859, 5.697292327880859, 5.947292327880859, 6.197292327880859, 6.447292327880859, 6.697292327880859, 6.947292327880859, 7.197292327880859, 7.447292327880859, 7.697292327880859, 7.947292327880859, 8.19729232788086, 8.44729232788086, 8.69729232788086, 8.94729232788086, 9.19729232788086, 9.44729232788086, 9.69729232788086, 9.94729232788086, 10.19729232788086, 10.44729232788086])\n",
    "gr_edges = np.array([-6.5846786, -6.234678649902344, -5.8846786499023445, -5.534678649902345, -5.184678649902345, -4.8346786499023455, -4.484678649902346, -4.134678649902346, -3.784678649902346, -3.434678649902346, -3.084678649902346, -2.734678649902346, -2.384678649902346, -2.0346786499023457, -1.6846786499023456, -1.3346786499023455, -0.9846786499023455, -0.6346786499023456, -0.2846786499023456, 0.06532135009765438, 0.41532135009765436, 0.7653213500976543, 1.1153213500976542, 1.4653213500976543, 1.8153213500976544, 2.1653213500976545, 2.5153213500976546, 2.8653213500976547, 3.2153213500976547, 3.565321350097655, 3.915321350097655, 4.265321350097655, 4.615321350097655, 4.965321350097654, 5.315321350097654, 5.665321350097654, 6.015321350097653, 6.365321350097653, 6.7153213500976525, 7.065321350097652, 7.415321350097652, 7.7653213500976515, 8.115321350097652, 8.465321350097652, 8.815321350097651, 9.165321350097651, 9.51532135009765, 9.86532135009765, 10.21532135009765, 10.56532135009765])\n",
    "\n",
    "zmaginit = 13.\n",
    "zmagfin = 23.\n",
    "interval = 0.2\n",
    "zmag_num = (zmagfin-zmaginit)/interval\n",
    "zmag_edges, step = np.linspace(zmaginit, zmagfin, num=int(zmag_num), retstep=True)\n",
    "print(type(zmag_edges))\n",
    "\n",
    "\n",
    "H1, nouse_edges = np.histogramdd((rzcolor_tot, grcolor_tot, zmag_tot), bins=(rz_edges, gr_edges, zmag_edges), density=False)\n"
   ]
  },
  {
   "cell_type": "code",
   "execution_count": 28,
   "metadata": {},
   "outputs": [
    {
     "name": "stdout",
     "output_type": "stream",
     "text": [
      "50\n",
      "517467\n",
      "[489164, 489189, 489116, 489123, 489233, 489222, 489286, 489288, 489232, 489203, 489071, 489069, 489103, 489124, 489106, 489107, 489119, 489108, 489231, 489223, 489158, 489211, 489228, 489167, 517456, 489177, 489260, 489212, 517467, 489118, 489274, 489275, 489136, 489250, 489137, 489257, 489209, 489287, 489294, 489301, 489317, 489305, 489344, 489337, 489300, 489345, 489310, 489334, 489343, 489325]\n"
     ]
    }
   ],
   "source": [
    "null_near_index = np.load('/Users/mtownsend/Documents/LRG_data/low_near_index_null.npz')\n",
    "near_index_total = null_near_index['near_index_total']\n",
    "low_near_index35 = null_near_index['low_nearindex35']\n",
    "# high_near_index05 = null_near_index['high_nearindex05']\n",
    "# high_near_index65 = null_near_index['high_nearindex65']\n",
    "# print(near_index_total.shape)\n",
    "# print(low_near_index35.shape)\n",
    "\n",
    "print(len(low_near_index35[15]))\n",
    "print(np.asarray(low_near_index35[15]).max())\n",
    "print(low_near_index35[15])\n",
    "# print(low_near_index35[1])\n",
    "# print(low_near_index35[2])\n",
    "# print(low_near_index35[3])\n",
    "# print(low_near_index35[4])"
   ]
  },
  {
   "cell_type": "code",
   "execution_count": 29,
   "metadata": {},
   "outputs": [
    {
     "name": "stdout",
     "output_type": "stream",
     "text": [
      "(1, 49, 49)\n",
      "(49, 49)\n"
     ]
    }
   ],
   "source": [
    "data_zmag = np.load('/Users/mtownsend/Desktop/lowz_medzmag-1matrices-v2.npz')\n",
    "medzmag = data_zmag['medzmag']\n",
    "print(medzmag.shape)\n",
    "medzmag0 = medzmag[0]\n",
    "print(medzmag0.shape)"
   ]
  },
  {
   "cell_type": "code",
   "execution_count": 35,
   "metadata": {},
   "outputs": [],
   "source": [
    "# testing algorithm to insert satellites into near arrays\n",
    "\n",
    "def adding_sats(medzmag, index, rzcolor_total, grcolor_total, zmag_total, rz_edges, gr_edges, lam):\n",
    "    \n",
    "    # index == index of sources found to be 500 kpc from LRG pointing\n",
    "    # medzmag == array of zmags that correspond to luminosity limits for each cell of r-z and g-r color\n",
    "    # rzcolor_total, grcolor_total, zmag_total == 1D arrays with colors and magnitude of all sources\n",
    "    # rz_edges, gr_edges == edges of r-z vs g-r color space\n",
    "    # lam == mean of poisson distribution from which the function draws the number of sources to be added\n",
    "    \n",
    "    import numpy as np\n",
    "    \n",
    "#     print('loop begins')\n",
    "    \n",
    "    rz = rzcolor_total[index]\n",
    "    gr = grcolor_total[index]\n",
    "    zmag = zmag_total[index]\n",
    "    \n",
    "#     print('length rz = ' , len(rz))\n",
    "\n",
    "    candidate_index = []\n",
    "    alt_candidate_index = []\n",
    "    temp_rz = []\n",
    "    temp_gr = []\n",
    "    temp_zmag = []\n",
    "\n",
    "    # This loop finds the galaxies in color-color cells that meet the critera of median_zmag in those cells\n",
    "    for i in range(len(rz_edges) - 1):\n",
    "        for j in range(len(gr_edges) - 1):\n",
    "            for m in range(len(rz)):\n",
    "                if ((rz[m] >= rz_edges[i]) & (rz[m] <= rz_edges[i + 1]) & (gr[m] >= gr_edges[j]) & (gr[m] <= gr_edges[j + 1]) & (zmag[m] <= medzmag[i][j])):\n",
    "                    candidate_index.append(m)\n",
    "                    \n",
    "    if (len(candidate_index) == 0.):\n",
    "        for i in range(len(rz_edges) - 1):\n",
    "            for j in range(len(gr_edges) - 1):\n",
    "                for m in range(len(rz)):\n",
    "                    if ((rz[m] >= rz_edges[i]) & (rz[m] <= rz_edges[i + 1]) & (gr[m] >= gr_edges[j]) & (gr[m] <= gr_edges[j + 1]) & (medzmag[i][j] > -999)):\n",
    "                        alt_candidate_index.append(m)\n",
    "                        temp_rz.append(rz[m])\n",
    "                        temp_gr.append(gr[m])\n",
    "                        temp_zmag.append(medzmag[i][j])\n",
    "                \n",
    "    N = np.random.poisson(lam=lam, size=1)\n",
    "#     print(N)\n",
    "    num = round(float(N))\n",
    "#     print('num = ', num)\n",
    "    if (len(candidate_index) > 0.):\n",
    "#         print(candidate_index)\n",
    "        a = np.random.choice(candidate_index, size=int(num), replace=True)\n",
    "#         print('a = ', a)\n",
    "        new_rz = np.concatenate((rz,rz[a]))\n",
    "        new_gr = np.concatenate((gr,gr[a]))\n",
    "        new_zmag = np.concatenate((zmag,zmag[a]))\n",
    "    else:\n",
    "#         print(len(alt_candidate_index))\n",
    "        rz_temp = np.asarray(temp_rz)\n",
    "        gr_temp = np.asarray(temp_gr)\n",
    "        zmag_temp = np.asarray(temp_zmag)\n",
    "        b = np.random.choice(range(len(alt_candidate_index)), size=int(num), replace=True)\n",
    "#         print('b = ', b)\n",
    "        new_rz = np.concatenate((rz,rz_temp[b]))\n",
    "        new_gr = np.concatenate((gr,gr_temp[b]))\n",
    "        new_zmag = np.concatenate((zmag,zmag_temp[b]))\n",
    "        \n",
    "#     print('length new_rz = ', len(new_rz))\n",
    "#     print()\n",
    "    \n",
    "    return new_rz, new_gr, new_zmag, candidate_index, alt_candidate_index\n",
    "    \n",
    "    "
   ]
  },
  {
   "cell_type": "code",
   "execution_count": 40,
   "metadata": {},
   "outputs": [
    {
     "name": "stdout",
     "output_type": "stream",
     "text": [
      "finished\n"
     ]
    }
   ],
   "source": [
    "test_index = low_near_index35[0:20]\n",
    "# print(len(test_index))\n",
    "\n",
    "new_rz1 = []\n",
    "new_gr1 = []\n",
    "new_zmag1 = []\n",
    "new_index1 = []\n",
    "new_alt_index1 = []\n",
    "\n",
    "new_rz2 = []\n",
    "new_gr2 = []\n",
    "new_zmag2 = []\n",
    "new_index2 = []\n",
    "new_alt_index2 = []\n",
    "\n",
    "new_rz3 = []\n",
    "new_gr3 = []\n",
    "new_zmag3 = []\n",
    "new_index3 = []\n",
    "new_alt_index3 = []\n",
    "\n",
    "new_rz4 = []\n",
    "new_gr4 = []\n",
    "new_zmag4 = []\n",
    "new_index4 = []\n",
    "new_alt_index4 = []\n",
    "\n",
    "new_rz5 = []\n",
    "new_gr5 = []\n",
    "new_zmag5 = []\n",
    "new_index5 = []\n",
    "new_alt_index5 = []\n",
    "\n",
    "new_rz6 = []\n",
    "new_gr6 = []\n",
    "new_zmag6 = []\n",
    "new_index6 = []\n",
    "new_alt_index6 = []\n",
    "\n",
    "new_rz7 = []\n",
    "new_gr7 = []\n",
    "new_zmag7 = []\n",
    "new_index7 = []\n",
    "new_alt_index7 = []\n",
    "\n",
    "# new_rz8 = []\n",
    "# new_gr8 = []\n",
    "# new_zmag8 = []\n",
    "# new_index8 = []\n",
    "# new_alt_index8 = []\n",
    "\n",
    "for i in range(len(low_near_index35)):\n",
    "    temp_rz1, temp_gr1, temp_zmag1, temp_index1, temp_alt_index1 = adding_sats(medzmag0, low_near_index35[i], rzcolor_tot, grcolor_tot, zmag_tot, rz_edges, gr_edges, 1.)\n",
    "    temp_rz2, temp_gr2, temp_zmag2, temp_index2, temp_alt_index2 = adding_sats(medzmag0, low_near_index35[i], rzcolor_tot, grcolor_tot, zmag_tot, rz_edges, gr_edges, 2.)\n",
    "    temp_rz3, temp_gr3, temp_zmag3, temp_index3, temp_alt_index3 = adding_sats(medzmag0, low_near_index35[i], rzcolor_tot, grcolor_tot, zmag_tot, rz_edges, gr_edges, 3.)\n",
    "    temp_rz4, temp_gr4, temp_zmag4, temp_index4, temp_alt_index4 = adding_sats(medzmag0, low_near_index35[i], rzcolor_tot, grcolor_tot, zmag_tot, rz_edges, gr_edges, 4.)\n",
    "    temp_rz5, temp_gr5, temp_zmag5, temp_index5, temp_alt_index5 = adding_sats(medzmag0, low_near_index35[i], rzcolor_tot, grcolor_tot, zmag_tot, rz_edges, gr_edges, 5.)\n",
    "    temp_rz6, temp_gr6, temp_zmag6, temp_index6, temp_alt_index6 = adding_sats(medzmag0, low_near_index35[i], rzcolor_tot, grcolor_tot, zmag_tot, rz_edges, gr_edges, 6.)\n",
    "    temp_rz7, temp_gr7, temp_zmag7, temp_index7, temp_alt_index7 = adding_sats(medzmag0, low_near_index35[i], rzcolor_tot, grcolor_tot, zmag_tot, rz_edges, gr_edges, 7.)\n",
    "#     temp_rz8, temp_g8, temp_zmag8, temp_index8, temp_alt_index8 = adding_sats(medzmag0, low_near_index35[i], rzcolor_tot, grcolor_tot, zmag_tot, rz_edges, gr_edges, 8.)\n",
    "#     print(i)\n",
    "    new_rz1.append(temp_rz1)\n",
    "    new_rz2.append(temp_rz2)\n",
    "    new_rz3.append(temp_rz3)\n",
    "    new_rz4.append(temp_rz4)\n",
    "    new_rz5.append(temp_rz5)\n",
    "    new_rz6.append(temp_rz6)\n",
    "    new_rz7.append(temp_rz7)\n",
    "#     new_rz8.append(temp_rz8)\n",
    "    new_gr1.append(temp_gr1)\n",
    "    new_gr2.append(temp_gr2)\n",
    "    new_gr3.append(temp_gr3)\n",
    "    new_gr4.append(temp_gr4)\n",
    "    new_gr5.append(temp_gr5)\n",
    "    new_gr6.append(temp_gr6)\n",
    "    new_gr7.append(temp_gr7)\n",
    "#     new_gr8.append(temp_gr8)\n",
    "    new_zmag1.append(temp_zmag1)\n",
    "    new_zmag2.append(temp_zmag2)\n",
    "    new_zmag3.append(temp_zmag3)\n",
    "    new_zmag4.append(temp_zmag4)\n",
    "    new_zmag5.append(temp_zmag5)\n",
    "    new_zmag6.append(temp_zmag6)\n",
    "    new_zmag7.append(temp_zmag7)\n",
    "#     new_zmag8.append(temp_zmag8)\n",
    "    new_index1.append(temp_index1)\n",
    "    new_index2.append(temp_index2)\n",
    "    new_index3.append(temp_index3)\n",
    "    new_index4.append(temp_index4)\n",
    "    new_index5.append(temp_index5)\n",
    "    new_index6.append(temp_index6)\n",
    "    new_index7.append(temp_index7)\n",
    "#     new_index8.append(temp_index8)\n",
    "    new_alt_index1.append(temp_alt_index1)\n",
    "    new_alt_index2.append(temp_alt_index2)\n",
    "    new_alt_index3.append(temp_alt_index3)\n",
    "    new_alt_index4.append(temp_alt_index4)\n",
    "    new_alt_index5.append(temp_alt_index5)\n",
    "    new_alt_index6.append(temp_alt_index6)\n",
    "    new_alt_index7.append(temp_alt_index7)\n",
    "#     new_alt_index8.append(temp_alt_index8)\n",
    "\n",
    "print('finished')\n"
   ]
  },
  {
   "cell_type": "code",
   "execution_count": 3,
   "metadata": {},
   "outputs": [
    {
     "name": "stdout",
     "output_type": "stream",
     "text": [
      "5000\n",
      "5000\n",
      "5000\n",
      "5000\n",
      "5000\n",
      "5000\n",
      "5000\n",
      "5000\n",
      "5000\n",
      "5000\n",
      "5000\n",
      "5000\n",
      "5000\n",
      "5000\n",
      "5000\n",
      "5000\n",
      "5000\n",
      "5000\n",
      "5000\n",
      "5000\n",
      "5000\n",
      "5000\n",
      "5000\n",
      "5000\n"
     ]
    }
   ],
   "source": [
    "# save model output\n",
    "\n",
    "# np.savez('/Users/mtownsend/Documents/LRG_Data/low_model1_output.npz', new_rz1=new_rz1, new_gr1=new_gr1, new_zmag1=new_zmag1, new_index1=new_index1, new_alt_index1=new_alt_index1)\n",
    "data_model1 = np.load('/Users/mtownsend/Documents/LRG_Data/low_model1_output.npz')\n",
    "rzNew1 = data_model1['new_rz1']\n",
    "grNew1 = data_model1['new_gr1']\n",
    "zmagNew1 = data_model1['new_zmag1']\n",
    "\n",
    "print(len(rzNew1))\n",
    "print(len(grNew1))\n",
    "print(len(zmagNew1))\n",
    "\n",
    "# np.savez('/Users/mtownsend/Documents/LRG_Data/low_model2_output.npz', new_rz2=new_rz2, new_gr2=new_gr2, new_zmag2=new_zmag2, new_index2=new_index2, new_alt_index2=new_alt_index2)\n",
    "data_model2 = np.load('/Users/mtownsend/Documents/LRG_Data/low_model2_output.npz')\n",
    "rzNew2 = data_model2['new_rz2']\n",
    "grNew2 = data_model2['new_gr2']\n",
    "zmagNew2 = data_model2['new_zmag2']\n",
    "\n",
    "print(len(rzNew2))\n",
    "print(len(grNew2))\n",
    "print(len(zmagNew2))\n",
    "\n",
    "# np.savez('/Users/mtownsend/Documents/LRG_Data/low_model3_output.npz', new_rz3=new_rz3, new_gr3=new_gr3, new_zmag3=new_zmag3, new_index3=new_index3, new_alt_index3=new_alt_index3)\n",
    "data_model3 = np.load('/Users/mtownsend/Documents/LRG_Data/low_model3_output.npz')\n",
    "rzNew3 = data_model3['new_rz3']\n",
    "grNew3 = data_model3['new_gr3']\n",
    "zmagNew3 = data_model3['new_zmag3']\n",
    "\n",
    "print(len(rzNew3))\n",
    "print(len(grNew3))\n",
    "print(len(zmagNew3))\n",
    "\n",
    "# np.savez('/Users/mtownsend/Documents/LRG_Data/low_model4_output.npz', new_rz4=new_rz4, new_gr4=new_gr4, new_zmag4=new_zmag4, new_index4=new_index4, new_alt_index4=new_alt_index4)\n",
    "data_model4 = np.load('/Users/mtownsend/Documents/LRG_Data/low_model4_output.npz')\n",
    "rzNew4 = data_model4['new_rz4']\n",
    "grNew4 = data_model4['new_gr4']\n",
    "zmagNew4 = data_model4['new_zmag4']\n",
    "\n",
    "print(len(rzNew4))\n",
    "print(len(grNew4))\n",
    "print(len(zmagNew4))\n",
    "\n",
    "# np.savez('/Users/mtownsend/Documents/LRG_Data/low_model5_output.npz', new_rz5=new_rz5, new_gr5=new_gr5, new_zmag5=new_zmag5, new_index5=new_index5, new_alt_index5=new_alt_index5)\n",
    "data_model5 = np.load('/Users/mtownsend/Documents/LRG_Data/low_model5_output.npz')\n",
    "rzNew5 = data_model5['new_rz5']\n",
    "grNew5 = data_model5['new_gr5']\n",
    "zmagNew5 = data_model5['new_zmag5']\n",
    "\n",
    "print(len(rzNew5))\n",
    "print(len(grNew5))\n",
    "print(len(zmagNew5))\n",
    "\n",
    "# np.savez('/Users/mtownsend/Documents/LRG_Data/low_model6_output.npz', new_rz6=new_rz6, new_gr6=new_gr6, new_zmag6=new_zmag6, new_index6=new_index6, new_alt_index6=new_alt_index6)\n",
    "data_model6 = np.load('/Users/mtownsend/Documents/LRG_Data/low_model6_output.npz')\n",
    "rzNew6 = data_model6['new_rz6']\n",
    "grNew6 = data_model6['new_gr6']\n",
    "zmagNew6 = data_model6['new_zmag6']\n",
    "\n",
    "print(len(rzNew6))\n",
    "print(len(grNew6))\n",
    "print(len(zmagNew6))\n",
    "\n",
    "# np.savez('/Users/mtownsend/Documents/LRG_Data/low_model7_output.npz', new_rz7=new_rz7, new_gr7=new_gr7, new_zmag7=new_zmag7, new_index7=new_index7, new_alt_index7=new_alt_index7)\n",
    "data_model7 = np.load('/Users/mtownsend/Documents/LRG_Data/low_model7_output.npz')\n",
    "rzNew7 = data_model7['new_rz7']\n",
    "grNew7 = data_model7['new_gr7']\n",
    "zmagNew7 = data_model7['new_zmag7']\n",
    "\n",
    "print(len(rzNew7))\n",
    "print(len(grNew7))\n",
    "print(len(zmagNew7))\n",
    "\n",
    "# np.savez('/Users/mtownsend/Documents/LRG_Data/low_model8_output.npz', new_rz=new_rz, new_gr=new_gr, new_zmag=new_zmag, new_index=new_index, new_alt_index=new_alt_index)\n",
    "data_model8 = np.load('/Users/mtownsend/Documents/LRG_Data/low_model8_output.npz')\n",
    "rzNew8 = data_model8['new_rz']\n",
    "grNew8 = data_model8['new_gr']\n",
    "zmagNew8 = data_model8['new_zmag']\n",
    "\n",
    "print(len(rzNew8))\n",
    "print(len(grNew8))\n",
    "print(len(zmagNew8))\n"
   ]
  },
  {
   "cell_type": "code",
   "execution_count": 54,
   "metadata": {},
   "outputs": [
    {
     "name": "stdout",
     "output_type": "stream",
     "text": [
      "5000\n",
      "(5000, 49, 49, 49)\n"
     ]
    }
   ],
   "source": [
    "# print(len(new_rz))\n",
    "\n",
    "# create new 3D histograms with new_rz, new_gr, and new_zmag\n",
    "test_model = []\n",
    "for i in range(len(rzNew7)):\n",
    "    if len(rzNew7[i]) == 0:\n",
    "        hist3d = np.zeros((len(rz_edges) - 1, len(gr_edges) - 1, len(zmag_edges - 1)))\n",
    "        # hist2d = np.zeros((len(xedges) - 1, len(yedges) - 1))\n",
    "        test_model.append(hist3d)\n",
    "    else:\n",
    "\n",
    "        # hist2d, x_notuse, y_notuse = np.histogram2d(mag[index1[i]], color[index1[i]], bins=(xedges, yedges), normed=False)\n",
    "        # hist3d, edges_nouse = np.histogramdd((color1[index[i]], mag[index[i]], color2[index[i]]), bins=(edges[0], edges[1], edges[2]),\n",
    "        #                                             density=False)\n",
    "        hist3d, edges_nouse = np.histogramdd((rzNew7[i], grNew7[i], zmagNew7[i]), bins=(rz_edges, gr_edges, zmag_edges), density=False)\n",
    "        test_model.append(hist3d)\n",
    "        \n",
    "print(len(test_model))\n",
    "print(np.asarray(test_model).shape)\n",
    "        "
   ]
  },
  {
   "cell_type": "code",
   "execution_count": 4,
   "metadata": {},
   "outputs": [
    {
     "name": "stdout",
     "output_type": "stream",
     "text": [
      "(5000, 49, 49, 49)\n",
      "(5000, 49, 49, 49)\n",
      "(5000, 49, 49, 49)\n",
      "(5000, 49, 49, 49)\n",
      "(5000, 49, 49, 49)\n",
      "(5000, 49, 49, 49)\n",
      "(5000, 49, 49, 49)\n",
      "(5000, 49, 49, 49)\n"
     ]
    }
   ],
   "source": [
    "# save test models\n",
    "\n",
    "# np.savez('/Users/mtownsend/Documents/LRG_Data/low_model1_near35.npz', test_model1=test_model)\n",
    "data_model = np.load('/Users/mtownsend/Documents/LRG_Data/low_model1_near35.npz')\n",
    "model1 = data_model['test_model1']\n",
    "\n",
    "print(np.asarray(model1).shape)\n",
    "\n",
    "# np.savez('/Users/mtownsend/Documents/LRG_Data/low_model2_near35.npz', test_model2=test_model)\n",
    "data2 = np.load('/Users/mtownsend/Documents/LRG_Data/low_model2_near35.npz')\n",
    "model2 = data2['test_model2']\n",
    "\n",
    "print(np.asarray(model2).shape)\n",
    "\n",
    "# np.savez('/Users/mtownsend/Documents/LRG_Data/low_model3_near35.npz', test_model3=test_model)\n",
    "data3 = np.load('/Users/mtownsend/Documents/LRG_Data/low_model3_near35.npz')\n",
    "model3 = data3['test_model3']\n",
    "\n",
    "print(np.asarray(model3).shape)\n",
    "\n",
    "# np.savez('/Users/mtownsend/Documents/LRG_Data/low_model4_near35.npz', test_model4=test_model)\n",
    "data4 = np.load('/Users/mtownsend/Documents/LRG_Data/low_model4_near35.npz')\n",
    "model4 = data4['test_model4']\n",
    "\n",
    "print(np.asarray(model4).shape)\n",
    "\n",
    "# np.savez('/Users/mtownsend/Documents/LRG_Data/low_model5_near35.npz', test_model5=test_model)\n",
    "data5 = np.load('/Users/mtownsend/Documents/LRG_Data/low_model5_near35.npz')\n",
    "model5 = data5['test_model5']\n",
    "\n",
    "print(np.asarray(model5).shape)\n",
    "\n",
    "# np.savez('/Users/mtownsend/Documents/LRG_Data/low_model6_near35.npz', test_model6=test_model)\n",
    "data6 = np.load('/Users/mtownsend/Documents/LRG_Data/low_model6_near35.npz')\n",
    "model6 = data6['test_model6']\n",
    "\n",
    "print(np.asarray(model6).shape)\n",
    "\n",
    "# np.savez('/Users/mtownsend/Documents/LRG_Data/low_model7_near35.npz', test_model7=test_model)\n",
    "data7 = np.load('/Users/mtownsend/Documents/LRG_Data/low_model7_near35.npz')\n",
    "model7 = data7['test_model7']\n",
    "\n",
    "print(np.asarray(model7).shape)\n",
    "\n",
    "# np.savez('/Users/mtownsend/Documents/LRG_Data/low_model8_near35.npz', test_model8=test_model)\n",
    "data8 = np.load('/Users/mtownsend/Documents/LRG_Data/low_model8_near35.npz')\n",
    "model8 = data8['test_model8']\n",
    "\n",
    "print(np.asarray(model8).shape)"
   ]
  },
  {
   "cell_type": "code",
   "execution_count": 57,
   "metadata": {},
   "outputs": [],
   "source": [
    "# print(new_rz[1])\n",
    "# print(\"\")\n",
    "# print(new_zmag[1])\n",
    "# print(\"\")\n",
    "# print(len(new_index[1]))\n",
    "# print(len(new_alt_index[1]))"
   ]
  },
  {
   "cell_type": "code",
   "execution_count": 5,
   "metadata": {},
   "outputs": [
    {
     "name": "stdout",
     "output_type": "stream",
     "text": [
      "(5000, 49, 49, 49)\n"
     ]
    }
   ],
   "source": [
    "# read in relevant Nbkg\n",
    "\n",
    "null_Nbkg = np.load('/Users/mtownsend/Documents/LRG_Data/low_Nbkg_null.npz')\n",
    "Nbkg_total = null_Nbkg['Nbkg_total']\n",
    "low_Nbkg35 = null_Nbkg['low_Nbkg35']\n",
    "\n",
    "print(low_Nbkg35.shape)"
   ]
  },
  {
   "cell_type": "code",
   "execution_count": 6,
   "metadata": {},
   "outputs": [],
   "source": [
    "# calculate Nsat for test model\n",
    "\n",
    "low_Nsat35_mod1 = np.array(model1) - np.array(low_Nbkg35)\n",
    "low_Nsat35_mod2 = np.array(model2) - np.array(low_Nbkg35)\n",
    "low_Nsat35_mod3 = np.array(model3) - np.array(low_Nbkg35)\n",
    "low_Nsat35_mod4 = np.array(model4) - np.array(low_Nbkg35)\n",
    "low_Nsat35_mod5 = np.array(model5) - np.array(low_Nbkg35)\n",
    "low_Nsat35_mod6 = np.array(model6) - np.array(low_Nbkg35)\n",
    "low_Nsat35_mod7 = np.array(model7) - np.array(low_Nbkg35)\n",
    "low_Nsat35_mod8 = np.array(model8) - np.array(low_Nbkg35)\n"
   ]
  },
  {
   "cell_type": "code",
   "execution_count": 7,
   "metadata": {},
   "outputs": [
    {
     "name": "stdout",
     "output_type": "stream",
     "text": [
      "(49, 49, 49)\n"
     ]
    }
   ],
   "source": [
    "# read in selection matrices\n",
    "\n",
    "# read in selection matrices\n",
    "\n",
    "# lowz\n",
    "smatrix_low = np.load('/Users/mtownsend/Desktop/lowz_smatrix-1matrices-v2.npz')\n",
    "low_smatrix = smatrix_low['smatrix']\n",
    "smatrix_low35 = low_smatrix[0]\n",
    "print(smatrix_low35.shape)\n",
    "\n",
    "# print()\n",
    "# print()\n",
    "\n",
    "# # midz\n",
    "# smatrix_mid = np.load('/Users/mtownsend/Desktop/midz_smatrix-2matrices-v2.npz')\n",
    "# mid_smatrix = smatrix_mid['smatrix']\n",
    "# smatrix_mid35 = mid_smatrix[0]\n",
    "# smatrix_mid05 = mid_smatrix[1]\n",
    "# print(smatrix_mid35.shape)\n",
    "# print(smatrix_mid05.shape)\n",
    "\n",
    "# print()\n",
    "# print()\n",
    "\n",
    "# # highz\n",
    "# smatrix_high = np.load('/Users/mtownsend/Desktop/highz_smatrix-3matrices-v2.npz')\n",
    "# high_smatrix = smatrix_high['smatrix']\n",
    "# smatrix_high35 = high_smatrix[0]\n",
    "# smatrix_high05 = high_smatrix[1]\n",
    "# smatrix_high65 = high_smatrix[2]\n",
    "# print(smatrix_high35.shape)\n",
    "# print(smatrix_high05.shape)\n",
    "# print(smatrix_high65.shape)"
   ]
  },
  {
   "cell_type": "code",
   "execution_count": 8,
   "metadata": {},
   "outputs": [
    {
     "name": "stdout",
     "output_type": "stream",
     "text": [
      "(5000, 49, 49, 49)\n",
      "(5000, 49, 49, 49)\n",
      "(5000, 49, 49, 49)\n",
      "(5000, 49, 49, 49)\n",
      "(5000, 49, 49, 49)\n",
      "(5000, 49, 49, 49)\n",
      "(5000, 49, 49, 49)\n",
      "(5000, 49, 49, 49)\n"
     ]
    }
   ],
   "source": [
    "# apply masks\n",
    "\n",
    "# lowz\n",
    "masked_Nsat_low35_mod1 = []\n",
    "for i in range(len(low_Nsat35_mod1)):\n",
    "    masked_Nsat_low35_mod1.append(low_Nsat35_mod1[i] * smatrix_low35)\n",
    "\n",
    "print(np.asarray(masked_Nsat_low35_mod1).shape)\n",
    "\n",
    "masked_Nsat_low35_mod2 = []\n",
    "for i in range(len(low_Nsat35_mod2)):\n",
    "    masked_Nsat_low35_mod2.append(low_Nsat35_mod2[i] * smatrix_low35)\n",
    "\n",
    "print(np.asarray(masked_Nsat_low35_mod2).shape)\n",
    "\n",
    "masked_Nsat_low35_mod3 = []\n",
    "for i in range(len(low_Nsat35_mod3)):\n",
    "    masked_Nsat_low35_mod3.append(low_Nsat35_mod3[i] * smatrix_low35)\n",
    "\n",
    "print(np.asarray(masked_Nsat_low35_mod3).shape)\n",
    "\n",
    "masked_Nsat_low35_mod4 = []\n",
    "for i in range(len(low_Nsat35_mod4)):\n",
    "    masked_Nsat_low35_mod4.append(low_Nsat35_mod4[i] * smatrix_low35)\n",
    "\n",
    "print(np.asarray(masked_Nsat_low35_mod4).shape)\n",
    "\n",
    "masked_Nsat_low35_mod5 = []\n",
    "for i in range(len(low_Nsat35_mod5)):\n",
    "    masked_Nsat_low35_mod5.append(low_Nsat35_mod5[i] * smatrix_low35)\n",
    "\n",
    "print(np.asarray(masked_Nsat_low35_mod5).shape)\n",
    "\n",
    "masked_Nsat_low35_mod6 = []\n",
    "for i in range(len(low_Nsat35_mod6)):\n",
    "    masked_Nsat_low35_mod6.append(low_Nsat35_mod6[i] * smatrix_low35)\n",
    "\n",
    "print(np.asarray(masked_Nsat_low35_mod6).shape)\n",
    "\n",
    "masked_Nsat_low35_mod7 = []\n",
    "for i in range(len(low_Nsat35_mod7)):\n",
    "    masked_Nsat_low35_mod7.append(low_Nsat35_mod7[i] * smatrix_low35)\n",
    "\n",
    "print(np.asarray(masked_Nsat_low35_mod7).shape)\n",
    "\n",
    "masked_Nsat_low35_mod8 = []\n",
    "for i in range(len(low_Nsat35_mod8)):\n",
    "    masked_Nsat_low35_mod8.append(low_Nsat35_mod8[i] * smatrix_low35)\n",
    "\n",
    "print(np.asarray(masked_Nsat_low35_mod8).shape)\n",
    "\n",
    "# # midz\n",
    "# masked_Nsat_mid35 = []\n",
    "# for i in range(len(Nsat_mid35)):\n",
    "#     masked_Nsat_mid35.append(Nsat_mid35[i] * smatrix_mid35)\n",
    "    \n",
    "# print(np.asarray(masked_Nsat_mid35).shape)\n",
    "    \n",
    "# masked_Nsat_mid05 = []\n",
    "# for i in range(len(Nsat_mid05)):\n",
    "#     masked_Nsat_mid05.append(Nsat_mid05[i] * smatrix_mid05)\n",
    "    \n",
    "# print(np.asarray(masked_Nsat_mid05).shape)\n",
    "\n",
    "\n",
    "# # highz\n",
    "# masked_Nsat_high35 = []\n",
    "# for i in range(len(Nsat_high35)):\n",
    "#     masked_Nsat_high35.append(Nsat_high35[i] * smatrix_high35)\n",
    "    \n",
    "# print(np.asarray(masked_Nsat_high35).shape)\n",
    "    \n",
    "# masked_Nsat_high05 = []\n",
    "# for i in range(len(Nsat_high05)):\n",
    "#     masked_Nsat_high05.append(Nsat_high05[i] * smatrix_high05)\n",
    "    \n",
    "# print(np.asarray(masked_Nsat_high05).shape)\n",
    "    \n",
    "# masked_Nsat_high65 = []\n",
    "# for i in range(len(Nsat_high65)):\n",
    "#     masked_Nsat_high65.append(Nsat_high65[i] * smatrix_high65)\n",
    "    \n",
    "# print(np.asarray(masked_Nsat_high65).shape)\n",
    "    "
   ]
  },
  {
   "cell_type": "code",
   "execution_count": 9,
   "metadata": {},
   "outputs": [
    {
     "name": "stdout",
     "output_type": "stream",
     "text": [
      "(5000, 49, 49, 49)\n",
      "(5000, 49, 49, 49)\n",
      "(5000, 49, 49, 49)\n",
      "(5000, 49, 49, 49)\n",
      "(5000, 49, 49, 49)\n",
      "(5000, 49, 49, 49)\n",
      "(5000, 49, 49, 49)\n",
      "(5000, 49, 49, 49)\n"
     ]
    }
   ],
   "source": [
    "# save masked model Nsat\n",
    "\n",
    "# np.savez('/Users/mtownsend/Documents/LRG_Data/low_model1_Nsat35-masked.npz', masked_Nsat_low35_mod1=masked_Nsat_low35_mod1)\n",
    "data1 = np.load('/Users/mtownsend/Documents/LRG_Data/low_model1_Nsat35-masked.npz')\n",
    "masked_Nsat1 = data1['masked_Nsat_low35_mod1']\n",
    "\n",
    "print(masked_Nsat1.shape)\n",
    "\n",
    "# np.savez('/Users/mtownsend/Documents/LRG_Data/low_model2_Nsat35-masked.npz', masked_Nsat_low35_mod2=masked_Nsat_low35_mod2)\n",
    "data2 = np.load('/Users/mtownsend/Documents/LRG_Data/low_model2_Nsat35-masked.npz')\n",
    "masked_Nsat2 = data2['masked_Nsat_low35_mod2']\n",
    "\n",
    "print(masked_Nsat2.shape)\n",
    "\n",
    "# np.savez('/Users/mtownsend/Documents/LRG_Data/low_model3_Nsat35-masked.npz', masked_Nsat_low35_mod3=masked_Nsat_low35_mod3)\n",
    "data3 = np.load('/Users/mtownsend/Documents/LRG_Data/low_model3_Nsat35-masked.npz')\n",
    "masked_Nsat3 = data3['masked_Nsat_low35_mod3']\n",
    "\n",
    "print(masked_Nsat3.shape)\n",
    "\n",
    "# np.savez('/Users/mtownsend/Documents/LRG_Data/low_model4_Nsat35-masked.npz', masked_Nsat_low35_mod4=masked_Nsat_low35_mod4)\n",
    "data4 = np.load('/Users/mtownsend/Documents/LRG_Data/low_model4_Nsat35-masked.npz')\n",
    "masked_Nsat4 = data4['masked_Nsat_low35_mod4']\n",
    "\n",
    "print(masked_Nsat4.shape)\n",
    "\n",
    "# np.savez('/Users/mtownsend/Documents/LRG_Data/low_model5_Nsat35-masked.npz', masked_Nsat_low35_mod5=masked_Nsat_low35_mod5)\n",
    "data5 = np.load('/Users/mtownsend/Documents/LRG_Data/low_model5_Nsat35-masked.npz')\n",
    "masked_Nsat5 = data5['masked_Nsat_low35_mod5']\n",
    "\n",
    "print(masked_Nsat5.shape)\n",
    "\n",
    "# np.savez('/Users/mtownsend/Documents/LRG_Data/low_model6_Nsat35-masked.npz', masked_Nsat_low35_mod6=masked_Nsat_low35_mod6)\n",
    "data6 = np.load('/Users/mtownsend/Documents/LRG_Data/low_model6_Nsat35-masked.npz')\n",
    "masked_Nsat6 = data6['masked_Nsat_low35_mod6']\n",
    "\n",
    "print(masked_Nsat6.shape)\n",
    "\n",
    "# np.savez('/Users/mtownsend/Documents/LRG_Data/low_model7_Nsat35-masked.npz', masked_Nsat_low35_mod7=masked_Nsat_low35_mod7)\n",
    "data7 = np.load('/Users/mtownsend/Documents/LRG_Data/low_model7_Nsat35-masked.npz')\n",
    "masked_Nsat7 = data7['masked_Nsat_low35_mod7']\n",
    "\n",
    "print(masked_Nsat7.shape)\n",
    "\n",
    "# np.savez('/Users/mtownsend/Documents/LRG_Data/low_model8_Nsat35-masked.npz', masked_Nsat_low35_mod8=masked_Nsat_low35_mod8)\n",
    "data8 = np.load('/Users/mtownsend/Documents/LRG_Data/low_model8_Nsat35-masked.npz')\n",
    "masked_Nsat8 = data8['masked_Nsat_low35_mod8']\n",
    "\n",
    "print(masked_Nsat8.shape)\n"
   ]
  },
  {
   "cell_type": "code",
   "execution_count": 62,
   "metadata": {},
   "outputs": [
    {
     "name": "stdout",
     "output_type": "stream",
     "text": [
      "mean number of satellites is 1.1355523302377362\n",
      "median number of satellites is 0.8556927857134502\n"
     ]
    },
    {
     "data": {
      "image/png": "[encoded data removed]",
      "text/plain": [
       "<Figure size 1080x720 with 1 Axes>"
      ]
     },
     "metadata": {
      "needs_background": "light"
     },
     "output_type": "display_data"
    }
   ],
   "source": [
    "# sum each Nsat and plot histogram\n",
    "\n",
    "low_sum35_mod1 = []\n",
    "# Sum up number of near neighbors for every LRG\n",
    "for i in range(len(masked_Nsat_low35_mod1)):\n",
    "    low_sum35_mod1.append(np.sum(masked_Nsat_low35_mod1[i]))\n",
    "    \n",
    "low_mean35_mod1 = np.mean(low_sum35_mod1)\n",
    "print(\"mean number of satellites is\", low_mean35_mod1)\n",
    "\n",
    "low_median35_mod1 = np.median(low_sum35_mod1)\n",
    "print(\"median number of satellites is\", low_median35_mod1)\n",
    "\n",
    "fig, ax1 = plt.subplots(1, 1, figsize=(15,10))\n",
    "fig.suptitle('Nsat Histograms for log(lum)=9.7 and 0.2 < z < 0.35 (masked model 1 result)', fontsize=15)\n",
    "fig.subplots_adjust(top=0.93)\n",
    "ax1.hist(low_sum35_mod1, bins=100)\n",
    "# ax1.set_title('Original Null Nsat Histogram (mask)', fontsize=14)\n",
    "ax1.set_xlabel(r'$Number$ $of$ $Satellites$', fontsize=14)\n",
    "ax1.set_ylabel(r'$counts$', fontsize=13)\n",
    "ax1.axvline(x=low_mean35_mod1, color='r')\n",
    "ax1.axvline(x=low_median35_mod1, color='black')\n",
    "ax1.text(0.6, 0.7, 'mean = {0:.4g}'.format(low_mean35_mod1), horizontalalignment='left', verticalalignment='center', transform=ax1.transAxes, fontsize=13, color='r')\n",
    "ax1.text(0.6, 0.6, 'median = {0:.4g}'.format(low_median35_mod1), horizontalalignment='left', verticalalignment='center', transform=ax1.transAxes, fontsize=13)\n",
    "\n",
    "# plt.savefig('/Users/mtownsend/Desktop/MeetingPlots/04Dec2020/original_low_null25_result.pdf')\n",
    "\n",
    "plt.show()\n"
   ]
  },
  {
   "cell_type": "code",
   "execution_count": 65,
   "metadata": {},
   "outputs": [
    {
     "name": "stdout",
     "output_type": "stream",
     "text": [
      "mean number of satellites is 1.8551523302377362\n",
      "median number of satellites is 1.7021433619156192\n"
     ]
    },
    {
     "data": {
      "image/png": "[encoded data removed]",
      "text/plain": [
       "<Figure size 1080x720 with 1 Axes>"
      ]
     },
     "metadata": {
      "needs_background": "light"
     },
     "output_type": "display_data"
    }
   ],
   "source": [
    "# sum each Nsat and plot histogram\n",
    "\n",
    "low_sum35_mod2 = []\n",
    "# Sum up number of near neighbors for every LRG\n",
    "for i in range(len(masked_Nsat_low35_mod2)):\n",
    "    low_sum35_mod2.append(np.sum(masked_Nsat_low35_mod2[i]))\n",
    "    \n",
    "low_mean35_mod2 = np.mean(low_sum35_mod2)\n",
    "print(\"mean number of satellites is\", low_mean35_mod2)\n",
    "\n",
    "low_median35_mod2 = np.median(low_sum35_mod2)\n",
    "print(\"median number of satellites is\", low_median35_mod2)\n",
    "\n",
    "fig, ax1 = plt.subplots(1, 1, figsize=(15,10))\n",
    "fig.suptitle('Nsat Histograms for log(lum)=9.7 and 0.2 < z < 0.35 (masked model 2 result)', fontsize=15)\n",
    "fig.subplots_adjust(top=0.93)\n",
    "ax1.hist(low_sum35_mod2, bins=100)\n",
    "# ax1.set_title('Original Null Nsat Histogram (mask)', fontsize=14)\n",
    "ax1.set_xlabel(r'$Number$ $of$ $Satellites$', fontsize=14)\n",
    "ax1.set_ylabel(r'$counts$', fontsize=13)\n",
    "ax1.axvline(x=low_mean35_mod2, color='r')\n",
    "ax1.axvline(x=low_median35_mod2, color='black')\n",
    "ax1.text(0.6, 0.7, 'mean = {0:.4g}'.format(low_mean35_mod2), horizontalalignment='left', verticalalignment='center', transform=ax1.transAxes, fontsize=13, color='r')\n",
    "ax1.text(0.6, 0.6, 'median = {0:.4g}'.format(low_median35_mod2), horizontalalignment='left', verticalalignment='center', transform=ax1.transAxes, fontsize=13)\n",
    "\n",
    "# plt.savefig('/Users/mtownsend/Desktop/MeetingPlots/04Dec2020/original_low_null25_result.pdf')\n",
    "\n",
    "plt.show()\n"
   ]
  },
  {
   "cell_type": "code",
   "execution_count": 66,
   "metadata": {},
   "outputs": [
    {
     "name": "stdout",
     "output_type": "stream",
     "text": [
      "mean number of satellites is 2.619352330237736\n",
      "median number of satellites is 2.609993262498569\n"
     ]
    },
    {
     "data": {
      "image/png": "[encoded data removed]",
      "text/plain": [
       "<Figure size 1080x720 with 1 Axes>"
      ]
     },
     "metadata": {
      "needs_background": "light"
     },
     "output_type": "display_data"
    }
   ],
   "source": [
    "# sum each Nsat and plot histogram\n",
    "\n",
    "low_sum35_mod3 = []\n",
    "# Sum up number of near neighbors for every LRG\n",
    "for i in range(len(masked_Nsat_low35_mod3)):\n",
    "    low_sum35_mod3.append(np.sum(masked_Nsat_low35_mod3[i]))\n",
    "    \n",
    "low_mean35_mod3 = np.mean(low_sum35_mod3)\n",
    "print(\"mean number of satellites is\", low_mean35_mod3)\n",
    "\n",
    "low_median35_mod3 = np.median(low_sum35_mod3)\n",
    "print(\"median number of satellites is\", low_median35_mod3)\n",
    "\n",
    "fig, ax1 = plt.subplots(1, 1, figsize=(15,10))\n",
    "fig.suptitle('Nsat Histograms for log(lum)=9.7 and 0.2 < z < 0.35 (masked model 3 result)', fontsize=15)\n",
    "fig.subplots_adjust(top=0.93)\n",
    "ax1.hist(low_sum35_mod3, bins=100)\n",
    "# ax1.set_title('Original Null Nsat Histogram (mask)', fontsize=14)\n",
    "ax1.set_xlabel(r'$Number$ $of$ $Satellites$', fontsize=14)\n",
    "ax1.set_ylabel(r'$counts$', fontsize=13)\n",
    "ax1.axvline(x=low_mean35_mod3, color='r')\n",
    "ax1.axvline(x=low_median35_mod3, color='black')\n",
    "ax1.text(0.6, 0.7, 'mean = {0:.4g}'.format(low_mean35_mod3), horizontalalignment='left', verticalalignment='center', transform=ax1.transAxes, fontsize=13, color='r')\n",
    "ax1.text(0.6, 0.6, 'median = {0:.4g}'.format(low_median35_mod3), horizontalalignment='left', verticalalignment='center', transform=ax1.transAxes, fontsize=13)\n",
    "\n",
    "# plt.savefig('/Users/mtownsend/Desktop/MeetingPlots/04Dec2020/original_low_null25_result.pdf')\n",
    "\n",
    "plt.show()\n"
   ]
  },
  {
   "cell_type": "code",
   "execution_count": 67,
   "metadata": {},
   "outputs": [
    {
     "name": "stdout",
     "output_type": "stream",
     "text": [
      "mean number of satellites is 3.3251523302377364\n",
      "median number of satellites is 3.448376880179848\n"
     ]
    },
    {
     "data": {
      "image/png": "[encoded data removed]",
      "text/plain": [
       "<Figure size 1080x720 with 1 Axes>"
      ]
     },
     "metadata": {
      "needs_background": "light"
     },
     "output_type": "display_data"
    }
   ],
   "source": [
    "# sum each Nsat and plot histogram\n",
    "\n",
    "low_sum35_mod4 = []\n",
    "# Sum up number of near neighbors for every LRG\n",
    "for i in range(len(masked_Nsat_low35_mod4)):\n",
    "    low_sum35_mod4.append(np.sum(masked_Nsat_low35_mod4[i]))\n",
    "    \n",
    "low_mean35_mod4 = np.mean(low_sum35_mod4)\n",
    "print(\"mean number of satellites is\", low_mean35_mod4)\n",
    "\n",
    "low_median35_mod4 = np.median(low_sum35_mod4)\n",
    "print(\"median number of satellites is\", low_median35_mod4)\n",
    "\n",
    "fig, ax1 = plt.subplots(1, 1, figsize=(15,10))\n",
    "fig.suptitle('Nsat Histograms for log(lum)=9.7 and 0.2 < z < 0.35 (masked model 4 result)', fontsize=15)\n",
    "fig.subplots_adjust(top=0.93)\n",
    "ax1.hist(low_sum35_mod4, bins=100)\n",
    "# ax1.set_title('Original Null Nsat Histogram (mask)', fontsize=14)\n",
    "ax1.set_xlabel(r'$Number$ $of$ $Satellites$', fontsize=14)\n",
    "ax1.set_ylabel(r'$counts$', fontsize=13)\n",
    "ax1.axvline(x=low_mean35_mod4, color='r')\n",
    "ax1.axvline(x=low_median35_mod4, color='black')\n",
    "ax1.text(0.6, 0.7, 'mean = {0:.4g}'.format(low_mean35_mod4), horizontalalignment='left', verticalalignment='center', transform=ax1.transAxes, fontsize=13, color='r')\n",
    "ax1.text(0.6, 0.6, 'median = {0:.4g}'.format(low_median35_mod4), horizontalalignment='left', verticalalignment='center', transform=ax1.transAxes, fontsize=13)\n",
    "\n",
    "# plt.savefig('/Users/mtownsend/Desktop/MeetingPlots/04Dec2020/original_low_null25_result.pdf')\n",
    "\n",
    "plt.show()"
   ]
  },
  {
   "cell_type": "code",
   "execution_count": 68,
   "metadata": {},
   "outputs": [
    {
     "name": "stdout",
     "output_type": "stream",
     "text": [
      "mean number of satellites is 4.088352330237736\n",
      "median number of satellites is 4.399356353189998\n"
     ]
    },
    {
     "data": {
      "image/png": "[encoded data removed]",
      "text/plain": [
       "<Figure size 1080x720 with 1 Axes>"
      ]
     },
     "metadata": {
      "needs_background": "light"
     },
     "output_type": "display_data"
    }
   ],
   "source": [
    "# sum each Nsat and plot histogram\n",
    "\n",
    "low_sum35_mod5 = []\n",
    "# Sum up number of near neighbors for every LRG\n",
    "for i in range(len(masked_Nsat_low35_mod5)):\n",
    "    low_sum35_mod5.append(np.sum(masked_Nsat_low35_mod5[i]))\n",
    "    \n",
    "low_mean35_mod5 = np.mean(low_sum35_mod5)\n",
    "print(\"mean number of satellites is\", low_mean35_mod5)\n",
    "\n",
    "low_median35_mod5 = np.median(low_sum35_mod5)\n",
    "print(\"median number of satellites is\", low_median35_mod5)\n",
    "\n",
    "fig, ax1 = plt.subplots(1, 1, figsize=(15,10))\n",
    "fig.suptitle('Nsat Histograms for log(lum)=9.7 and 0.2 < z < 0.35 (masked model 5 result)', fontsize=15)\n",
    "fig.subplots_adjust(top=0.93)\n",
    "ax1.hist(low_sum35_mod5, bins=100)\n",
    "# ax1.set_title('Original Null Nsat Histogram (mask)', fontsize=14)\n",
    "ax1.set_xlabel(r'$Number$ $of$ $Satellites$', fontsize=14)\n",
    "ax1.set_ylabel(r'$counts$', fontsize=13)\n",
    "ax1.axvline(x=low_mean35_mod5, color='r')\n",
    "ax1.axvline(x=low_median35_mod5, color='black')\n",
    "ax1.text(0.6, 0.7, 'mean = {0:.4g}'.format(low_mean35_mod5), horizontalalignment='left', verticalalignment='center', transform=ax1.transAxes, fontsize=13, color='r')\n",
    "ax1.text(0.6, 0.6, 'median = {0:.4g}'.format(low_median35_mod5), horizontalalignment='left', verticalalignment='center', transform=ax1.transAxes, fontsize=13)\n",
    "\n",
    "# plt.savefig('/Users/mtownsend/Desktop/MeetingPlots/04Dec2020/original_low_null25_result.pdf')\n",
    "\n",
    "plt.show()"
   ]
  },
  {
   "cell_type": "code",
   "execution_count": 70,
   "metadata": {},
   "outputs": [
    {
     "name": "stdout",
     "output_type": "stream",
     "text": [
      "mean number of satellites is 4.889752330237736\n",
      "median number of satellites is 5.28158442714052\n"
     ]
    },
    {
     "data": {
      "image/png": "[encoded data removed]",
      "text/plain": [
       "<Figure size 1080x720 with 1 Axes>"
      ]
     },
     "metadata": {
      "needs_background": "light"
     },
     "output_type": "display_data"
    }
   ],
   "source": [
    "# sum each Nsat and plot histogram\n",
    "\n",
    "low_sum35_mod6 = []\n",
    "# Sum up number of near neighbors for every LRG\n",
    "for i in range(len(masked_Nsat_low35_mod6)):\n",
    "    low_sum35_mod6.append(np.sum(masked_Nsat_low35_mod6[i]))\n",
    "    \n",
    "low_mean35_mod6 = np.mean(low_sum35_mod6)\n",
    "print(\"mean number of satellites is\", low_mean35_mod6)\n",
    "\n",
    "low_median35_mod6 = np.median(low_sum35_mod6)\n",
    "print(\"median number of satellites is\", low_median35_mod6)\n",
    "\n",
    "fig, ax1 = plt.subplots(1, 1, figsize=(15,10))\n",
    "fig.suptitle('Nsat Histograms for log(lum)=9.7 and 0.2 < z < 0.35 (masked model 6 result)', fontsize=15)\n",
    "fig.subplots_adjust(top=0.93)\n",
    "ax1.hist(low_sum35_mod6, bins=100)\n",
    "# ax1.set_title('Original Null Nsat Histogram (mask)', fontsize=14)\n",
    "ax1.set_xlabel(r'$Number$ $of$ $Satellites$', fontsize=14)\n",
    "ax1.set_ylabel(r'$counts$', fontsize=13)\n",
    "ax1.axvline(x=low_mean35_mod6, color='r')\n",
    "ax1.axvline(x=low_median35_mod6, color='black')\n",
    "ax1.text(0.6, 0.7, 'mean = {0:.4g}'.format(low_mean35_mod6), horizontalalignment='left', verticalalignment='center', transform=ax1.transAxes, fontsize=13, color='r')\n",
    "ax1.text(0.6, 0.6, 'median = {0:.4g}'.format(low_median35_mod6), horizontalalignment='left', verticalalignment='center', transform=ax1.transAxes, fontsize=13)\n",
    "\n",
    "# plt.savefig('/Users/mtownsend/Desktop/MeetingPlots/04Dec2020/original_low_null25_result.pdf')\n",
    "\n",
    "plt.show()"
   ]
  },
  {
   "cell_type": "code",
   "execution_count": 71,
   "metadata": {},
   "outputs": [
    {
     "name": "stdout",
     "output_type": "stream",
     "text": [
      "mean number of satellites is 5.514352330237736\n",
      "median number of satellites is 5.999920612136197\n"
     ]
    },
    {
     "data": {
      "image/png": "[encoded data removed]",
      "text/plain": [
       "<Figure size 1080x720 with 1 Axes>"
      ]
     },
     "metadata": {
      "needs_background": "light"
     },
     "output_type": "display_data"
    }
   ],
   "source": [
    "# sum each Nsat and plot histogram\n",
    "\n",
    "low_sum35_mod7 = []\n",
    "# Sum up number of near neighbors for every LRG\n",
    "for i in range(len(masked_Nsat_low35_mod7)):\n",
    "    low_sum35_mod7.append(np.sum(masked_Nsat_low35_mod7[i]))\n",
    "    \n",
    "low_mean35_mod7 = np.mean(low_sum35_mod7)\n",
    "print(\"mean number of satellites is\", low_mean35_mod7)\n",
    "\n",
    "low_median35_mod7 = np.median(low_sum35_mod7)\n",
    "print(\"median number of satellites is\", low_median35_mod7)\n",
    "\n",
    "fig, ax1 = plt.subplots(1, 1, figsize=(15,10))\n",
    "fig.suptitle('Nsat Histograms for log(lum)=9.7 and 0.2 < z < 0.35 (masked model 7 result)', fontsize=15)\n",
    "fig.subplots_adjust(top=0.93)\n",
    "ax1.hist(low_sum35_mod7, bins=100)\n",
    "# ax1.set_title('Original Null Nsat Histogram (mask)', fontsize=14)\n",
    "ax1.set_xlabel(r'$Number$ $of$ $Satellites$', fontsize=14)\n",
    "ax1.set_ylabel(r'$counts$', fontsize=13)\n",
    "ax1.axvline(x=low_mean35_mod7, color='r')\n",
    "ax1.axvline(x=low_median35_mod7, color='black')\n",
    "ax1.text(0.6, 0.7, 'mean = {0:.4g}'.format(low_mean35_mod7), horizontalalignment='left', verticalalignment='center', transform=ax1.transAxes, fontsize=13, color='r')\n",
    "ax1.text(0.6, 0.6, 'median = {0:.4g}'.format(low_median35_mod7), horizontalalignment='left', verticalalignment='center', transform=ax1.transAxes, fontsize=13)\n",
    "\n",
    "# plt.savefig('/Users/mtownsend/Desktop/MeetingPlots/04Dec2020/original_low_null25_result.pdf')\n",
    "\n",
    "plt.show()"
   ]
  },
  {
   "cell_type": "code",
   "execution_count": 72,
   "metadata": {},
   "outputs": [
    {
     "name": "stdout",
     "output_type": "stream",
     "text": [
      "mean number of satellites is 6.275952330237736\n",
      "median number of satellites is 6.95842393556019\n"
     ]
    },
    {
     "data": {
      "image/png": "[encoded data removed]",
      "text/plain": [
       "<Figure size 1080x720 with 1 Axes>"
      ]
     },
     "metadata": {
      "needs_background": "light"
     },
     "output_type": "display_data"
    }
   ],
   "source": [
    "# sum each Nsat and plot histogram\n",
    "\n",
    "low_sum35_mod8 = []\n",
    "# Sum up number of near neighbors for every LRG\n",
    "for i in range(len(masked_Nsat_low35_mod8)):\n",
    "    low_sum35_mod8.append(np.sum(masked_Nsat_low35_mod8[i]))\n",
    "    \n",
    "low_mean35_mod8 = np.mean(low_sum35_mod8)\n",
    "print(\"mean number of satellites is\", low_mean35_mod8)\n",
    "\n",
    "low_median35_mod8 = np.median(low_sum35_mod8)\n",
    "print(\"median number of satellites is\", low_median35_mod8)\n",
    "\n",
    "fig, ax1 = plt.subplots(1, 1, figsize=(15,10))\n",
    "fig.suptitle('Nsat Histograms for log(lum)=9.7 and 0.2 < z < 0.35 (masked model 8 result)', fontsize=15)\n",
    "fig.subplots_adjust(top=0.93)\n",
    "ax1.hist(low_sum35_mod8, bins=100)\n",
    "# ax1.set_title('Original Null Nsat Histogram (mask)', fontsize=14)\n",
    "ax1.set_xlabel(r'$Number$ $of$ $Satellites$', fontsize=14)\n",
    "ax1.set_ylabel(r'$counts$', fontsize=13)\n",
    "ax1.axvline(x=low_mean35_mod8, color='r')\n",
    "ax1.axvline(x=low_median35_mod8, color='black')\n",
    "ax1.text(0.6, 0.7, 'mean = {0:.4g}'.format(low_mean35_mod8), horizontalalignment='left', verticalalignment='center', transform=ax1.transAxes, fontsize=13, color='r')\n",
    "ax1.text(0.6, 0.6, 'median = {0:.4g}'.format(low_median35_mod8), horizontalalignment='left', verticalalignment='center', transform=ax1.transAxes, fontsize=13)\n",
    "\n",
    "# plt.savefig('/Users/mtownsend/Desktop/MeetingPlots/04Dec2020/original_low_null25_result.pdf')\n",
    "\n",
    "plt.show()"
   ]
  },
  {
   "cell_type": "code",
   "execution_count": null,
   "metadata": {},
   "outputs": [],
   "source": []
  }
 ],
 "metadata": {
  "kernelspec": {
   "display_name": "Python 3",
   "language": "python",
   "name": "python3"
  },
  "language_info": {
   "codemirror_mode": {
    "name": "ipython",
    "version": 3
   },
   "file_extension": ".py",
   "mimetype": "text/x-python",
   "name": "python",
   "nbconvert_exporter": "python",
   "pygments_lexer": "ipython3",
   "version": "3.5.5"
  }
 },
 "nbformat": 4,
 "nbformat_minor": 2
}
