{
 "cells": [
  {
   "cell_type": "code",
   "execution_count": 1,
   "metadata": {},
   "outputs": [],
   "source": [
    "from astropy.io import fits\n",
    "from astropy.table import Table\n",
    "import numpy as np\n",
    "import matplotlib.pylab as plt \n",
    "import matplotlib.lines as mlines\n",
    "from matplotlib.legend import Legend\n",
    "from pythonds.basic.stack import Stack\n",
    "from math import *\n",
    "from sklearn.neighbors import KDTree\n",
    "from lrg_plot_functions import *\n",
    "from lrg_sum_functions import *\n",
    "from cosmo_Calc import *\n",
    "from divideByTwo import *\n",
    "from read_data import *\n",
    "from nearNeighbors import *\n",
    "from scipy import stats\n",
    "from astropy import stats\n",
    "import healpy as hp\n",
    "from localBKG_and_interlopersHEALPix import *\n",
    "# import healpy as hpy\n",
    "from makeCutoutTableFunc import *\n",
    "from plotHistogramProjections3D import *\n",
    "from read_bricks import *\n",
    "from mpl_toolkits.axes_grid1 import make_axes_locatable"
   ]
  },
  {
   "cell_type": "code",
   "execution_count": null,
   "metadata": {},
   "outputs": [],
   "source": [
    "  "
   ]
  }
 ],
 "metadata": {
  "kernelspec": {
   "display_name": "Python 3",
   "language": "python",
   "name": "python3"
  },
  "language_info": {
   "codemirror_mode": {
    "name": "ipython",
    "version": 3
   },
   "file_extension": ".py",
   "mimetype": "text/x-python",
   "name": "python",
   "nbconvert_exporter": "python",
   "pygments_lexer": "ipython3",
   "version": "3.5.5"
  }
 },
 "nbformat": 4,
 "nbformat_minor": 2
}
