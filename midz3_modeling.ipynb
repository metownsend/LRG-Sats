{
 "cells": [
  {
   "cell_type": "code",
   "execution_count": 1,
   "metadata": {},
   "outputs": [],
   "source": [
    "from astropy.io import fits\n",
    "from astropy.table import Table\n",
    "import numpy as np\n",
    "import matplotlib.pylab as plt \n",
    "import matplotlib.lines as mlines\n",
    "from matplotlib.legend import Legend\n",
    "from pythonds.basic.stack import Stack\n",
    "from math import *\n",
    "from sklearn.neighbors import KDTree\n",
    "from lrg_plot_functions import *\n",
    "from lrg_sum_functions import *\n",
    "from cosmo_Calc import *\n",
    "from divideByTwo import *\n",
    "from read_data import *\n",
    "from nearNeighbors import *\n",
    "from scipy import stats\n",
    "from astropy import stats\n",
    "import healpy as hp\n",
    "from localBKG_and_interlopersHEALPix import *\n",
    "# import healpy as hpy\n",
    "from makeCutoutTableFunc import *\n",
    "from plotHistogramProjections3D import *\n",
    "from read_bricks import *\n",
    "from mpl_toolkits.axes_grid1 import make_axes_locatable\n",
    "import random"
   ]
  },
  {
   "cell_type": "code",
   "execution_count": 2,
   "metadata": {},
   "outputs": [],
   "source": [
    "# read in data\n",
    "\n",
    "data_ra = np.load('/Users/mtownsend/Documents/LRG_Data/ra_total.npz')\n",
    "ra_total = data_ra['ra']\n",
    "# print(ra_total.shape)\n",
    "\n",
    "# print('----')\n",
    "\n",
    "data_dec = np.load('/Users/mtownsend/Documents/LRG_Data/dec_total.npz')\n",
    "dec_total = data_dec['dec']\n",
    "# print(dec_total.shape)\n",
    "\n",
    "# print('----')\n",
    "\n",
    "data_gmag = np.load('/Users/mtownsend/Documents/LRG_Data/gmag_total.npz')\n",
    "gmag_total = data_gmag['gmag']\n",
    "# print(gmag_total.shape)\n",
    "\n",
    "# print('----')\n",
    "\n",
    "data_rmag = np.load('/Users/mtownsend/Documents/LRG_Data/rmag_total.npz')\n",
    "rmag_total = data_rmag['rmag']\n",
    "# print(rmag_total.shape)\n",
    "\n",
    "# print('----')\n",
    "\n",
    "data_zmag = np.load('/Users/mtownsend/Documents/LRG_Data/zmag_total.npz')\n",
    "zmag_total = data_zmag['zmag']\n",
    "# print(zmag_total.shape)\n",
    "\n",
    "# print('----')\n",
    "\n",
    "data_grcolor = np.load('/Users/mtownsend/Documents/LRG_Data/grcolor_total.npz')\n",
    "grcolor_total = data_grcolor['grcolor']\n",
    "# print(grcolor_total.shape)\n",
    "\n",
    "# print('----')\n",
    "\n",
    "data_rzcolor = np.load('/Users/mtownsend/Documents/LRG_Data/rzcolor_total.npz')\n",
    "rzcolor_total = data_rzcolor['rzcolor']\n",
    "# print(rzcolor_total.shape)\n"
   ]
  },
  {
   "cell_type": "code",
   "execution_count": 3,
   "metadata": {},
   "outputs": [
    {
     "name": "stdout",
     "output_type": "stream",
     "text": [
      "[154348  83296  43124 ...  70194   4939 470802]\n"
     ]
    }
   ],
   "source": [
    "# read in indices assigned as random pointings\n",
    "\n",
    "data_index_midz3 = np.load('/Users/mtownsend/Documents/LRG_Data/index_midz3.npz')\n",
    "index_midz3 = data_index_midz3['index_midz3']\n",
    "print(index_midz3)\n"
   ]
  },
  {
   "cell_type": "code",
   "execution_count": 6,
   "metadata": {},
   "outputs": [],
   "source": [
    "# create arrays with random pointings and background\n",
    "\n",
    "# make a random data set that I will treat as LRGs\n",
    "random_raLRG = ra_total[index_midz3]\n",
    "random_decLRG = dec_total[index_midz3]\n",
    "random_gmagLRG = gmag_total[index_midz3]\n",
    "random_rmagLRG = rmag_total[index_midz3]\n",
    "random_zmagLRG = zmag_total[index_midz3]\n",
    "random_grcolorLRG = grcolor_total[index_midz3]\n",
    "random_rzcolorLRG = rzcolor_total[index_midz3]\n",
    "\n",
    "# eliminate \"LRGs\" from background catalog\n",
    "random_raBKG = np.delete(ra_total, index_midz3)\n",
    "random_decBKG = np.delete(dec_total, index_midz3)\n",
    "random_gmagBKG = np.delete(gmag_total, index_midz3)\n",
    "random_rmagBKG = np.delete(rmag_total, index_midz3)\n",
    "random_zmagBKG = np.delete(zmag_total, index_midz3)\n",
    "random_grcolorBKG = np.delete(grcolor_total, index_midz3)\n",
    "random_rzcolorBKG = np.delete(rzcolor_total, index_midz3)\n",
    "\n",
    "# print(len(random_raLRG))\n",
    "# print(len(random_raBKG))\n",
    "# print(len(ra_total))\n",
    "# print(len(random_raLRG) + len(random_raBKG))\n",
    "\n",
    "ra_tot = np.concatenate([random_raLRG, random_raBKG])\n",
    "dec_tot = np.concatenate([random_decLRG, random_decBKG])\n",
    "gmag_tot = np.concatenate([random_gmagLRG, random_gmagBKG])\n",
    "rmag_tot = np.concatenate([random_rmagLRG, random_rmagBKG])\n",
    "zmag_tot = np.concatenate([random_zmagLRG, random_zmagBKG])\n",
    "rzcolor_tot = np.concatenate([random_rzcolorLRG, random_rzcolorBKG])\n",
    "grcolor_tot = np.concatenate([random_grcolorLRG, random_grcolorBKG])\n",
    "\n",
    "# print(len(ra_tot))\n",
    "# print(len(dec_tot))\n",
    "# print(len(gmag_tot))\n",
    "# print(len(rmag_tot))\n",
    "# print(len(zmag_tot))\n",
    "# print(len(rzcolor_tot))\n",
    "# print(len(rzcolor_tot))"
   ]
  },
  {
   "cell_type": "code",
   "execution_count": 5,
   "metadata": {},
   "outputs": [],
   "source": [
    "# each random pointing is assiged a redshift from the real distribution of LRG redshifts\n",
    "\n",
    "data_random_z_mid3 = np.load('/Users/mtownsend/Documents/LRG_Data/random_z_mid3.npz')\n",
    "random_z_mid3 = data_random_z_mid3['random_z_mid3']\n",
    "\n",
    "# print(len(random_z_mid3[np.where((random_z_mid3 >=0.2) & (random_z_mid3 < 0.25))]))\n",
    "# print(len(random_z_mid3[np.where((random_z_mid3 >=0.25) & (random_z_mid3 < 0.3))]))\n",
    "# print(len(random_z_mid3[np.where((random_z_mid3 >=0.3) & (random_z_mid3 < 0.35))]))\n",
    "# print(len(random_z_mid3[np.where((random_z_mid3 >=0.35) & (random_z_mid3 < 0.4))]))\n",
    "# print(len(random_z_mid3[np.where((random_z_mid3 >=0.4) & (random_z_mid3 < 0.45))]))\n",
    "# print(len(random_z_mid3[np.where((random_z_mid3 >=0.45) & (random_z_mid3 < 0.5))]))\n",
    "# print(len(random_z_mid3[np.where((random_z_mid3 >=0.5) & (random_z_mid3 < 0.55))]))\n",
    "# print(len(random_z_mid3[np.where((random_z_mid3 >=0.55) & (random_z_mid3 < 0.6))]))\n"
   ]
  },
  {
   "cell_type": "markdown",
   "metadata": {},
   "source": [
    "## Run analysis to find null result"
   ]
  },
  {
   "cell_type": "code",
   "execution_count": 11,
   "metadata": {},
   "outputs": [
    {
     "name": "stdout",
     "output_type": "stream",
     "text": [
      "end cosmoCalc\n"
     ]
    }
   ],
   "source": [
    "DTT_Gyr, age_Gyr, zage_Gyr, DCMR_Mpc, DCMR_Gyr, DA_Mpc, DA_Gyr, kpc_DA, DL_Mpc, DL_Gyr, V_Gpc = cosmoCalcfunc(random_z_mid3)\n",
    "\n",
    "print(\"end cosmoCalc\")\n"
   ]
  },
  {
   "cell_type": "code",
   "execution_count": 12,
   "metadata": {},
   "outputs": [
    {
     "name": "stdout",
     "output_type": "stream",
     "text": [
      "<class 'numpy.ndarray'>\n"
     ]
    }
   ],
   "source": [
    "rz_edges = np.array([-1.8027077, -1.5527076721191406, -1.3027076721191406, -1.0527076721191406, -0.8027076721191406, -0.5527076721191406, -0.3027076721191406, -0.052707672119140625, 0.19729232788085938, 0.4472923278808594, 0.6972923278808594, 0.9472923278808594, 1.1972923278808594, 1.4472923278808594, 1.6972923278808594, 1.9472923278808594, 2.1972923278808594, 2.4472923278808594, 2.6972923278808594, 2.9472923278808594, 3.1972923278808594, 3.4472923278808594, 3.6972923278808594, 3.9472923278808594, 4.197292327880859, 4.447292327880859, 4.697292327880859, 4.947292327880859, 5.197292327880859, 5.447292327880859, 5.697292327880859, 5.947292327880859, 6.197292327880859, 6.447292327880859, 6.697292327880859, 6.947292327880859, 7.197292327880859, 7.447292327880859, 7.697292327880859, 7.947292327880859, 8.19729232788086, 8.44729232788086, 8.69729232788086, 8.94729232788086, 9.19729232788086, 9.44729232788086, 9.69729232788086, 9.94729232788086, 10.19729232788086, 10.44729232788086])\n",
    "gr_edges = np.array([-6.5846786, -6.234678649902344, -5.8846786499023445, -5.534678649902345, -5.184678649902345, -4.8346786499023455, -4.484678649902346, -4.134678649902346, -3.784678649902346, -3.434678649902346, -3.084678649902346, -2.734678649902346, -2.384678649902346, -2.0346786499023457, -1.6846786499023456, -1.3346786499023455, -0.9846786499023455, -0.6346786499023456, -0.2846786499023456, 0.06532135009765438, 0.41532135009765436, 0.7653213500976543, 1.1153213500976542, 1.4653213500976543, 1.8153213500976544, 2.1653213500976545, 2.5153213500976546, 2.8653213500976547, 3.2153213500976547, 3.565321350097655, 3.915321350097655, 4.265321350097655, 4.615321350097655, 4.965321350097654, 5.315321350097654, 5.665321350097654, 6.015321350097653, 6.365321350097653, 6.7153213500976525, 7.065321350097652, 7.415321350097652, 7.7653213500976515, 8.115321350097652, 8.465321350097652, 8.815321350097651, 9.165321350097651, 9.51532135009765, 9.86532135009765, 10.21532135009765, 10.56532135009765])\n",
    "\n",
    "zmaginit = 13.\n",
    "zmagfin = 23.\n",
    "interval = 0.2\n",
    "zmag_num = (zmagfin-zmaginit)/interval\n",
    "zmag_edges, step = np.linspace(zmaginit, zmagfin, num=int(zmag_num), retstep=True)\n",
    "print(type(zmag_edges))\n",
    "\n",
    "\n",
    "H1, nouse_edges = np.histogramdd((rzcolor_tot, grcolor_tot, zmag_tot), bins=(rz_edges, gr_edges, zmag_edges), density=False)\n"
   ]
  },
  {
   "cell_type": "code",
   "execution_count": 13,
   "metadata": {},
   "outputs": [
    {
     "data": {
      "image/png": "[encoded data removed]",
      "text/plain": [
       "<Figure size 417.6x460.8 with 2 Axes>"
      ]
     },
     "metadata": {
      "needs_background": "light"
     },
     "output_type": "display_data"
    },
    {
     "name": "stdout",
     "output_type": "stream",
     "text": [
      "length phi:  519348\n"
     ]
    }
   ],
   "source": [
    "# Make HEALPix map using just RA/Dec; end up with a density plot\n",
    "\n",
    "nside = 1024\n",
    "npixel = hp.nside2npix(nside)\n",
    "\n",
    "# Convert ra/dec into theta/phi\n",
    "theta = []\n",
    "phi = []\n",
    "\n",
    "for i in range(len(ra_tot)):\n",
    "    theta.append(np.radians(90. - dec_tot[i]))\n",
    "    phi.append(np.radians(ra_tot[i]))\n",
    "    \n",
    "m = hp.ang2pix(nside, theta, phi)\n",
    "map_ = np.bincount(m, minlength=npixel)\n",
    "hp.gnomview(map_, xsize=225, rot=(-116.5, 9), flip='geo', cmap='viridis', notext=True, title=\"\")\n",
    "# plt.rcParams.update({'font.size':20})\n",
    "# plt.savefig('/Users/mtownsend/Desktop/survey-density.jpg')\n",
    "# plt.savefig('/Users/mtownsend/Desktop/MeetingPlots/HEALPix-survey-density-v2.pdf')\n",
    "plt.show()\n",
    "\n",
    "print('length phi: ', len(phi))\n",
    "\n",
    "# Convert angles theta and phi to pixel numbers\n",
    "\n",
    "pixnums = hp.ang2pix(nside, theta, phi, nest=True)"
   ]
  },
  {
   "cell_type": "code",
   "execution_count": 14,
   "metadata": {},
   "outputs": [
    {
     "name": "stdout",
     "output_type": "stream",
     "text": [
      "end nearNeighbor\n"
     ]
    }
   ],
   "source": [
    "distance = 0.5 # must be in Mpc\n",
    "\n",
    "# distance_kpc, near, gal_tree, dist, index, nn1 = nearNeighbor(distance, kpc_DA, random_raLRG, random_decLRG, random_raBKG, random_decBKG, random_zmagLRG, random_zmagBKG, random_rzcolorLRG, random_rzcolorBKG, random_grcolorLRG, random_grcolorBKG, nouse_edges)\n",
    "distance_kpc, near, gal_tree, dist, index, nn1 = nearNeighbor(distance, kpc_DA, random_raLRG, random_decLRG, random_raBKG, random_decBKG, random_zmagLRG, random_zmagBKG, random_rzcolorLRG, random_rzcolorBKG, random_grcolorLRG, random_grcolorBKG, nouse_edges)\n",
    "\n",
    "print('end nearNeighbor')\n"
   ]
  },
  {
   "cell_type": "code",
   "execution_count": 2,
   "metadata": {},
   "outputs": [
    {
     "name": "stdout",
     "output_type": "stream",
     "text": [
      "5000\n"
     ]
    }
   ],
   "source": [
    "# save near array\n",
    "\n",
    "# np.savez('/Users/mtownsend/Documents/LRG_Data/null_near_midz3.npz', near=near)\n",
    "# data_model8 = np.load('/Users/mtownsend/Documents/LRG_Data/low_Nsat_model8_25.npz')\n",
    "# low_Nsat25_model8 = data_model8['low_Nsat25_model8']\n",
    "\n",
    "# save indices of near neighbors\n",
    "\n",
    "# np.savez('/Users/mtownsend/Documents/LRG_Data/near_index_null_midz3.npz', index=index)\n",
    "null_near_index = np.load('/Users/mtownsend/Documents/LRG_Data/near_index_null_midz3.npz')\n",
    "near_index = null_near_index['index']\n",
    "print(len(near_index))\n"
   ]
  },
  {
   "cell_type": "code",
   "execution_count": 16,
   "metadata": {},
   "outputs": [
    {
     "name": "stdout",
     "output_type": "stream",
     "text": [
      "end bkg\n"
     ]
    }
   ],
   "source": [
    "inner_dist = 0.4 # in deg\n",
    "outer_dist = 0.5 # in deg\n",
    "\n",
    "Nbkg, indices, omega, localBKG = localBKG_and_interlopersHEALPix(nside, inner_dist, outer_dist, random_raLRG, random_decLRG, pixnums, zmag_tot, rzcolor_tot, grcolor_tot, nouse_edges, distance_kpc, kpc_DA)\n",
    "\n",
    "omega = np.array(omega)\n",
    "\n",
    "print(\"end bkg\")\n"
   ]
  },
  {
   "cell_type": "code",
   "execution_count": 17,
   "metadata": {},
   "outputs": [],
   "source": [
    "# save near array\n",
    "\n",
    "np.savez('/Users/mtownsend/Documents/LRG_Data/null_bkg_midz3.npz', Nbkg=Nbkg)\n",
    "# data_model8 = np.load('/Users/mtownsend/Documents/LRG_Data/low_Nsat_model8_25.npz')\n",
    "# low_Nsat25_model8 = data_model8['low_Nsat25_model8']"
   ]
  },
  {
   "cell_type": "code",
   "execution_count": 18,
   "metadata": {},
   "outputs": [
    {
     "name": "stdout",
     "output_type": "stream",
     "text": [
      "end Nsat\n"
     ]
    }
   ],
   "source": [
    "# calculate Nsat, and Nsat in bins of redshift\n",
    "\n",
    "Nsat = np.array(near) - np.array(Nbkg)\n",
    "\n",
    "# near in bins of redshift\n",
    "\n",
    "near_arr = np.asarray(near)\n",
    "\n",
    "near25 = near_arr[np.where((random_z_mid3 >= 0.2) & (random_z_mid3 < 0.25))]\n",
    "near03 = near_arr[np.where((random_z_mid3 >= 0.25) & (random_z_mid3 < 0.3))]\n",
    "near35 = near_arr[np.where((random_z_mid3 >= 0.3) & (random_z_mid3 < 0.35))]\n",
    "near04 = near_arr[np.where((random_z_mid3 >= 0.35) & (random_z_mid3 < 0.4))]\n",
    "near45 = near_arr[np.where((random_z_mid3 >= 0.4) & (random_z_mid3 < 0.45))]\n",
    "near05 = near_arr[np.where((random_z_mid3 >= 0.45) & (random_z_mid3 < 0.5))]\n",
    "near55 = near_arr[np.where((random_z_mid3 >= 0.5) & (random_z_mid3 < 0.55))]\n",
    "near06 = near_arr[np.where((random_z_mid3 >= 0.55) & (random_z_mid3 < 0.6))]\n",
    "\n",
    "\n",
    "# Nbkg in bins of redshift\n",
    "\n",
    "Nbkg_arr = np.asarray(Nbkg)\n",
    "\n",
    "Nbkg25 = Nbkg_arr[np.where((random_z_mid3 >= 0.2) & (random_z_mid3 < 0.25))]\n",
    "Nbkg03 = Nbkg_arr[np.where((random_z_mid3 >= 0.25) & (random_z_mid3 < 0.3))]\n",
    "Nbkg35 = Nbkg_arr[np.where((random_z_mid3 >= 0.3) & (random_z_mid3 < 0.35))]\n",
    "Nbkg04 = Nbkg_arr[np.where((random_z_mid3 >= 0.35) & (random_z_mid3 < 0.4))]\n",
    "Nbkg45 = Nbkg_arr[np.where((random_z_mid3 >= 0.4) & (random_z_mid3 < 0.45))]\n",
    "Nbkg05 = Nbkg_arr[np.where((random_z_mid3 >= 0.45) & (random_z_mid3 < 0.5))]\n",
    "Nbkg55 = Nbkg_arr[np.where((random_z_mid3 >= 0.5) & (random_z_mid3 < 0.55))]\n",
    "Nbkg06 = Nbkg_arr[np.where((random_z_mid3 >= 0.55) & (random_z_mid3 < 0.6))]\n",
    "\n",
    "\n",
    "# Nsat in bins of redshift\n",
    "\n",
    "Nsat25 = near25 - Nbkg25\n",
    "Nsat03 = near03 - Nbkg03\n",
    "Nsat35 = near35 - Nbkg35\n",
    "Nsat04 = near04 - Nbkg04\n",
    "Nsat45 = near45 - Nbkg45\n",
    "Nsat05 = near05 - Nbkg05\n",
    "Nsat55 = near55 - Nbkg55\n",
    "Nsat06 = near06 - Nbkg06\n",
    "\n",
    "print('end Nsat')\n"
   ]
  },
  {
   "cell_type": "markdown",
   "metadata": {},
   "source": [
    "## Add models to near neighbors null result and calculate Nsat again"
   ]
  },
  {
   "cell_type": "code",
   "execution_count": 19,
   "metadata": {},
   "outputs": [
    {
     "name": "stdout",
     "output_type": "stream",
     "text": [
      "(8, 49, 49)\n"
     ]
    }
   ],
   "source": [
    "# read in mask and initialize function needed to add satellites to null result\n",
    "\n",
    "data_zmag = np.load('/Users/mtownsend/Documents/LRG_Data/midz3_medzmag-8matrices.npz')\n",
    "medzmag = data_zmag['medzmag_low']\n",
    "print(medzmag.shape)\n",
    "medzmag0 = medzmag[0]\n",
    "medzmag1 = medzmag[1]\n",
    "medzmag2 = medzmag[2]\n",
    "medzmag3 = medzmag[3]\n",
    "medzmag4 = medzmag[4]\n",
    "medzmag5 = medzmag[5]\n",
    "medzmag6 = medzmag[6]\n",
    "medzmag7 = medzmag[7]\n",
    "\n",
    "def adding_sats(medzmag, index, rzcolor_total, grcolor_total, zmag_total, rz_edges, gr_edges, lam):\n",
    "    \n",
    "    # index == index of sources found to be 500 kpc from LRG pointing\n",
    "    # medzmag == array of zmags that correspond to luminosity limits for each cell of r-z and g-r color\n",
    "    # rzcolor_total, grcolor_total, zmag_total == 1D arrays with colors and magnitude of all sources\n",
    "    # rz_edges, gr_edges == edges of r-z vs g-r color space\n",
    "    # lam == mean of poisson distribution from which the function draws the number of sources to be added\n",
    "    \n",
    "    import numpy as np\n",
    "    \n",
    "    rz = rzcolor_total[index]\n",
    "    gr = grcolor_total[index]\n",
    "    zmag = zmag_total[index]\n",
    "\n",
    "    candidate_index = []\n",
    "\n",
    "    # This loop finds the galaxies in color-color cells that meet the critera of median_zmag in those cells\n",
    "    for i in range(len(rz_edges) - 1):\n",
    "        for j in range(len(gr_edges) - 1):\n",
    "            for m in range(len(rz)):\n",
    "                if ((rz[m] >= rz_edges[i]) & (rz[m] <= rz_edges[i + 1]) & (gr[m] >= gr_edges[j]) & (gr[m] <= gr_edges[j + 1]) & (zmag[m] <= medzmag[i][j])):\n",
    "                    candidate_index.append(m)\n",
    "#     print('candidate index: ', candidate_index)\n",
    "    # draw number of from gaussian\n",
    "#      N = np.random.normal(loc=1., scale=1., size=1)\n",
    "    N = np.random.poisson(lam=lam, size=1)\n",
    "#     print(N)\n",
    "    num = round(float(N))\n",
    "#     print(num)\n",
    "#     a = np.random.choice(candidate_index, size=int(num), replace=True)\n",
    "    if (len(candidate_index) > 0.):\n",
    "        a = np.random.choice(candidate_index, size=int(num), replace=True)\n",
    "#         print(len(a))\n",
    "        new_rz = np.concatenate((rz,rz[a]))\n",
    "        new_gr = np.concatenate((gr,gr[a]))\n",
    "        new_zmag = np.concatenate((zmag,zmag[a]))\n",
    "    else:\n",
    "        new_rz = rz\n",
    "        new_gr = gr\n",
    "        new_zmag = zmag\n",
    "    \n",
    "    return new_rz, new_gr, new_zmag, candidate_index\n"
   ]
  },
  {
   "cell_type": "code",
   "execution_count": 33,
   "metadata": {},
   "outputs": [
    {
     "data": {
      "image/png": "[encoded data removed]",
      "text/plain": [
       "<Figure size 720x720 with 2 Axes>"
      ]
     },
     "metadata": {
      "needs_background": "light"
     },
     "output_type": "display_data"
    }
   ],
   "source": [
    "medzmag0[medzmag0 == -999] = 0.\n",
    "\n",
    "plt.figure(figsize=(10,10))\n",
    "ax = plt.gca()\n",
    "im = ax.imshow(medzmag0, origin='lower', extent=(gr_edges.min(), gr_edges.max(), rz_edges.min(), rz_edges.max()))\n",
    "divider = make_axes_locatable(ax)\n",
    "cax = divider.append_axes('right', size='5%', pad=0.05)\n",
    "plt.colorbar(im, cax=cax)\n",
    "ax.set_title(\"Median zmag\")\n",
    "# plt.savefig('/Users/mtownsend/Desktop/MeetingPlots/9July2020/a-medzmag-21.64-overplot.pdf')\n",
    "plt.show()"
   ]
  },
  {
   "cell_type": "code",
   "execution_count": 6,
   "metadata": {},
   "outputs": [
    {
     "name": "stdout",
     "output_type": "stream",
     "text": [
      "281\n",
      "256\n",
      "414\n",
      "341\n",
      "567\n",
      "986\n",
      "1188\n",
      "967\n"
     ]
    }
   ],
   "source": [
    "# bin near indices by redshift\n",
    "\n",
    "mid3_nearindex25 = near_index[np.where((random_z_mid3 >= 0.2) & (random_z_mid3 < 0.25))]\n",
    "mid3_nearindex03 = near_index[np.where((random_z_mid3 >= 0.25) & (random_z_mid3 < 0.3))]\n",
    "mid3_nearindex35 = near_index[np.where((random_z_mid3 >= 0.3) & (random_z_mid3 < 0.35))]\n",
    "mid3_nearindex04 = near_index[np.where((random_z_mid3 >= 0.35) & (random_z_mid3 < 0.4))]\n",
    "mid3_nearindex45 = near_index[np.where((random_z_mid3 >= 0.4) & (random_z_mid3 < 0.45))]\n",
    "mid3_nearindex05 = near_index[np.where((random_z_mid3 >= 0.45) & (random_z_mid3 < 0.5))]\n",
    "mid3_nearindex55 = near_index[np.where((random_z_mid3 >= 0.5) & (random_z_mid3 < 0.55))]\n",
    "mid3_nearindex06 = near_index[np.where((random_z_mid3 >= 0.55) & (random_z_mid3 < 0.6))]\n",
    "\n",
    "\n",
    "print(len(mid3_nearindex25))\n",
    "print(len(mid3_nearindex03))\n",
    "print(len(mid3_nearindex35))\n",
    "print(len(mid3_nearindex04))\n",
    "print(len(mid3_nearindex45))\n",
    "print(len(mid3_nearindex05))\n",
    "print(len(mid3_nearindex55))\n",
    "print(len(mid3_nearindex06))\n"
   ]
  },
  {
   "cell_type": "code",
   "execution_count": 22,
   "metadata": {},
   "outputs": [
    {
     "name": "stdout",
     "output_type": "stream",
     "text": [
      "end 25\n",
      "end 03\n",
      "end 35\n",
      "end 04\n",
      "end 45\n",
      "end 05\n",
      "end 55\n",
      "end 06\n"
     ]
    }
   ],
   "source": [
    "# loop through random pointings to get models\n",
    "\n",
    "new_rz25 = []\n",
    "new_gr25 = []\n",
    "new_zmag25 = []\n",
    "new_index25 = []\n",
    "\n",
    "for i in range(len(mid3_nearindex25)):\n",
    "    temp_rz25, temp_gr25, temp_zmag25, temp_index25 = adding_sats(medzmag0, mid3_nearindex25[i], rzcolor_tot, grcolor_tot, zmag_tot, rz_edges, gr_edges, 8.)\n",
    "#     print(i)\n",
    "    new_rz25.append(temp_rz25)\n",
    "    new_gr25.append(temp_gr25)\n",
    "    new_zmag25.append(temp_zmag25)\n",
    "    new_index25.append(temp_index25)\n",
    "    \n",
    "print('end 25')\n",
    "    \n",
    "\n",
    "new_rz03 = []\n",
    "new_gr03 = []\n",
    "new_zmag03 = []\n",
    "new_index03 = []\n",
    "\n",
    "for i in range(len(mid3_nearindex03)):\n",
    "    temp_rz03, temp_gr03, temp_zmag03, temp_index03 = adding_sats(medzmag1, mid3_nearindex03[i], rzcolor_tot, grcolor_tot, zmag_tot, rz_edges, gr_edges, 8.)\n",
    "#     print(i)\n",
    "    new_rz03.append(temp_rz03)\n",
    "    new_gr03.append(temp_gr03)\n",
    "    new_zmag03.append(temp_zmag03)\n",
    "    new_index03.append(temp_index03)\n",
    "\n",
    "print('end 03')\n",
    "    \n",
    "new_rz35 = []\n",
    "new_gr35 = []\n",
    "new_zmag35 = []\n",
    "new_index35 = []\n",
    "\n",
    "for i in range(len(mid3_nearindex35)):\n",
    "    temp_rz35, temp_gr35, temp_zmag35, temp_index35 = adding_sats(medzmag2, mid3_nearindex35[i], rzcolor_tot, grcolor_tot, zmag_tot, rz_edges, gr_edges, 8.)\n",
    "#     print(i)\n",
    "    new_rz35.append(temp_rz35)\n",
    "    new_gr35.append(temp_gr35)\n",
    "    new_zmag35.append(temp_zmag35)\n",
    "    new_index35.append(temp_index35)\n",
    "    \n",
    "print('end 35')\n",
    "    \n",
    "new_rz04 = []\n",
    "new_gr04 = []\n",
    "new_zmag04 = []\n",
    "new_index04 = []\n",
    "\n",
    "for i in range(len(mid3_nearindex04)):\n",
    "    temp_rz04, temp_gr04, temp_zmag04, temp_index04 = adding_sats(medzmag3, mid3_nearindex04[i], rzcolor_tot, grcolor_tot, zmag_tot, rz_edges, gr_edges, 8.)\n",
    "#     print(i)\n",
    "    new_rz04.append(temp_rz04)\n",
    "    new_gr04.append(temp_gr04)\n",
    "    new_zmag04.append(temp_zmag04)\n",
    "    new_index04.append(temp_index04)\n",
    "\n",
    "print('end 04')\n",
    "\n",
    "new_rz45 = []\n",
    "new_gr45 = []\n",
    "new_zmag45 = []\n",
    "new_index45 = []\n",
    "\n",
    "for i in range(len(mid3_nearindex45)):\n",
    "    temp_rz45, temp_gr45, temp_zmag45, temp_index45 = adding_sats(medzmag4, mid3_nearindex45[i], rzcolor_tot, grcolor_tot, zmag_tot, rz_edges, gr_edges, 8.)\n",
    "#     print(i)\n",
    "    new_rz45.append(temp_rz45)\n",
    "    new_gr45.append(temp_gr45)\n",
    "    new_zmag45.append(temp_zmag45)\n",
    "    new_index45.append(temp_index45)\n",
    "\n",
    "print('end 45')\n",
    "    \n",
    "new_rz05 = []\n",
    "new_gr05 = []\n",
    "new_zmag05 = []\n",
    "new_index05 = []\n",
    "\n",
    "for i in range(len(mid3_nearindex05)):\n",
    "    temp_rz05, temp_gr05, temp_zmag05, temp_index05 = adding_sats(medzmag5, mid3_nearindex05[i], rzcolor_tot, grcolor_tot, zmag_tot, rz_edges, gr_edges, 8.)\n",
    "#     print(i)\n",
    "    new_rz05.append(temp_rz05)\n",
    "    new_gr05.append(temp_gr05)\n",
    "    new_zmag05.append(temp_zmag05)\n",
    "    new_index05.append(temp_index05)\n",
    "\n",
    "print('end 05')\n",
    "    \n",
    "new_rz55 = []\n",
    "new_gr55 = []\n",
    "new_zmag55 = []\n",
    "new_index55 = []\n",
    "\n",
    "for i in range(len(mid3_nearindex55)):\n",
    "    temp_rz55, temp_gr55, temp_zmag55, temp_index55 = adding_sats(medzmag6, mid3_nearindex55[i], rzcolor_tot, grcolor_tot, zmag_tot, rz_edges, gr_edges, 8.)\n",
    "#     print(i)\n",
    "    new_rz55.append(temp_rz55)\n",
    "    new_gr55.append(temp_gr55)\n",
    "    new_zmag55.append(temp_zmag55)\n",
    "    new_index55.append(temp_index55)\n",
    "    \n",
    "print('end 55')\n",
    "\n",
    "new_rz06 = []\n",
    "new_gr06 = []\n",
    "new_zmag06 = []\n",
    "new_index06 = []\n",
    "\n",
    "for i in range(len(mid3_nearindex06)):\n",
    "    temp_rz06, temp_gr06, temp_zmag06, temp_index06 = adding_sats(medzmag7, mid3_nearindex06[i], rzcolor_tot, grcolor_tot, zmag_tot, rz_edges, gr_edges, 8.)\n",
    "#     print(i)\n",
    "    new_rz06.append(temp_rz06)\n",
    "    new_gr06.append(temp_gr06)\n",
    "    new_zmag06.append(temp_zmag06)\n",
    "    new_index06.append(temp_index06)\n",
    "\n",
    "print('end 06')\n",
    "    \n"
   ]
  },
  {
   "cell_type": "code",
   "execution_count": 11,
   "metadata": {},
   "outputs": [
    {
     "name": "stdout",
     "output_type": "stream",
     "text": [
      "(96,)\n",
      "(96,)\n"
     ]
    }
   ],
   "source": [
    "# save new colors and magnitudes\n",
    "\n",
    "# np.savez('/Users/mtownsend/Documents/LRG_Data/mid3_grcolor_model8.npz', new_gr25=new_gr25, new_gr03=new_gr03, new_gr35=new_gr35, new_gr04=new_gr04, new_gr45=new_gr45, new_gr05=new_gr05, new_gr55=new_gr55, new_gr06=new_gr06)\n",
    "data_gr25 = np.load('/Users/mtownsend/Documents/LRG_Data/mid3_grcolor_model8.npz')\n",
    "new_gr = data_gr25['new_gr25']\n",
    "\n",
    "# np.savez('/Users/mtownsend/Documents/LRG_Data/mid3_rzcolor_model8.npz', new_rz25=new_rz25, new_rz03=new_rz03, new_rz35=new_rz35, new_rz04=new_rz04, new_rz45=new_rz45, new_rz05=new_rz05, new_rz55=new_rz55, new_rz06=new_rz06)\n",
    "data_rz25 = np.load('/Users/mtownsend/Documents/LRG_Data/mid3_rzcolor_model8.npz')\n",
    "new_rz = data_rz25['new_rz25']\n",
    "\n",
    "# np.savez('/Users/mtownsend/Documents/LRG_Data/mid3_zmag_model8.npz', new_zmag25=new_zmag25, new_zmag03=new_zmag03, new_zmag35=new_zmag35, new_zmag04=new_zmag04, new_zmag45=new_zmag45, new_zmag05=new_zmag05, new_zmag55=new_zmag55, new_zmag06=new_zmag06)\n",
    "data_zmag25 = np.load('/Users/mtownsend/Documents/LRG_Data/mid3_zmag_model8.npz')\n",
    "new_zmag = data_zmag25['new_zmag25']\n",
    "\n",
    "print(new_gr[2].shape)\n",
    "print(np.asarray(mid3_nearindex25[2]).shape)\n"
   ]
  },
  {
   "cell_type": "code",
   "execution_count": 24,
   "metadata": {},
   "outputs": [
    {
     "name": "stdout",
     "output_type": "stream",
     "text": [
      "end 25\n",
      "end 03\n",
      "end 35\n",
      "end 04\n",
      "end 45\n",
      "end 05\n",
      "end 55\n",
      "end 06\n"
     ]
    }
   ],
   "source": [
    "# create new near neighbors arrays for each random pointing\n",
    "\n",
    "# create new 3D histograms with new_rz, new_gr, and new_zmag\n",
    "near25_model8 = []\n",
    "for i in range(len(new_rz25)):\n",
    "    if len(new_rz25[i]) == 0:\n",
    "        hist3d = np.zeros((len(rz_edges) - 1, len(gr_edges) - 1, len(zmag_edges - 1)))\n",
    "        near25_model8.append(hist3d)\n",
    "    else:\n",
    "        hist3d, edges_nouse = np.histogramdd((new_rz25[i], new_gr25[i], new_zmag25[i]), bins=(rz_edges, gr_edges, zmag_edges), density=False)\n",
    "        near25_model8.append(hist3d)\n",
    "        \n",
    "print('end 25')\n",
    "\n",
    "\n",
    "near03_model8 = []\n",
    "for i in range(len(new_rz03)):\n",
    "    if len(new_rz03[i]) == 0:\n",
    "        hist3d = np.zeros((len(rz_edges) - 1, len(gr_edges) - 1, len(zmag_edges - 1)))\n",
    "        near03_model8.append(hist3d)\n",
    "    else:\n",
    "        hist3d, edges_nouse = np.histogramdd((new_rz03[i], new_gr03[i], new_zmag03[i]), bins=(rz_edges, gr_edges, zmag_edges), density=False)\n",
    "        near03_model8.append(hist3d)\n",
    "        \n",
    "print('end 03')\n",
    "\n",
    "\n",
    "near35_model8 = []\n",
    "for i in range(len(new_rz35)):\n",
    "    if len(new_rz35[i]) == 0:\n",
    "        hist3d = np.zeros((len(rz_edges) - 1, len(gr_edges) - 1, len(zmag_edges - 1)))\n",
    "        near35_model8.append(hist3d)\n",
    "    else:\n",
    "        hist3d, edges_nouse = np.histogramdd((new_rz35[i], new_gr35[i], new_zmag35[i]), bins=(rz_edges, gr_edges, zmag_edges), density=False)\n",
    "        near35_model8.append(hist3d)\n",
    "        \n",
    "print('end 35')\n",
    "\n",
    "\n",
    "near04_model8 = []\n",
    "for i in range(len(new_rz04)):\n",
    "    if len(new_rz04[i]) == 0:\n",
    "        hist3d = np.zeros((len(rz_edges) - 1, len(gr_edges) - 1, len(zmag_edges - 1)))\n",
    "        near04_model8.append(hist3d)\n",
    "    else:\n",
    "        hist3d, edges_nouse = np.histogramdd((new_rz04[i], new_gr04[i], new_zmag04[i]), bins=(rz_edges, gr_edges, zmag_edges), density=False)\n",
    "        near04_model8.append(hist3d)\n",
    "        \n",
    "print('end 04')\n",
    "\n",
    "\n",
    "near45_model8 = []\n",
    "for i in range(len(new_rz45)):\n",
    "    if len(new_rz45[i]) == 0:\n",
    "        hist3d = np.zeros((len(rz_edges) - 1, len(gr_edges) - 1, len(zmag_edges - 1)))\n",
    "        near45_model8.append(hist3d)\n",
    "    else:\n",
    "        hist3d, edges_nouse = np.histogramdd((new_rz45[i], new_gr45[i], new_zmag45[i]), bins=(rz_edges, gr_edges, zmag_edges), density=False)\n",
    "        near45_model8.append(hist3d)\n",
    "        \n",
    "print('end 45')\n",
    "\n",
    "\n",
    "near05_model8 = []\n",
    "for i in range(len(new_rz05)):\n",
    "    if len(new_rz05[i]) == 0:\n",
    "        hist3d = np.zeros((len(rz_edges) - 1, len(gr_edges) - 1, len(zmag_edges - 1)))\n",
    "        near05_model8.append(hist3d)\n",
    "    else:\n",
    "        hist3d, edges_nouse = np.histogramdd((new_rz05[i], new_gr05[i], new_zmag05[i]), bins=(rz_edges, gr_edges, zmag_edges), density=False)\n",
    "        near05_model8.append(hist3d)\n",
    "        \n",
    "print('end 05')\n",
    "\n",
    "\n",
    "near55_model8 = []\n",
    "for i in range(len(new_rz55)):\n",
    "    if len(new_rz55[i]) == 0:\n",
    "        hist3d = np.zeros((len(rz_edges) - 1, len(gr_edges) - 1, len(zmag_edges - 1)))\n",
    "        near55_model8.append(hist3d)\n",
    "    else:\n",
    "        hist3d, edges_nouse = np.histogramdd((new_rz55[i], new_gr55[i], new_zmag55[i]), bins=(rz_edges, gr_edges, zmag_edges), density=False)\n",
    "        near55_model8.append(hist3d)\n",
    "        \n",
    "print('end 55')\n",
    "\n",
    "\n",
    "near06_model8 = []\n",
    "for i in range(len(new_rz06)):\n",
    "    if len(new_rz06[i]) == 0:\n",
    "        hist3d = np.zeros((len(rz_edges) - 1, len(gr_edges) - 1, len(zmag_edges - 1)))\n",
    "        near06_model8.append(hist3d)\n",
    "    else:\n",
    "        hist3d, edges_nouse = np.histogramdd((new_rz06[i], new_gr06[i], new_zmag06[i]), bins=(rz_edges, gr_edges, zmag_edges), density=False)\n",
    "        near06_model8.append(hist3d)\n",
    "        \n",
    "print('end 06')\n",
    "\n",
    "\n"
   ]
  },
  {
   "cell_type": "code",
   "execution_count": 25,
   "metadata": {},
   "outputs": [
    {
     "name": "stdout",
     "output_type": "stream",
     "text": [
      "(281, 49, 49, 49)\n",
      "(256, 49, 49, 49)\n",
      "(414, 49, 49, 49)\n",
      "(341, 49, 49, 49)\n",
      "(567, 49, 49, 49)\n",
      "(986, 49, 49, 49)\n",
      "(1188, 49, 49, 49)\n",
      "(967, 49, 49, 49)\n"
     ]
    }
   ],
   "source": [
    "# save high bin model 8 near neighbor array\n",
    "\n",
    "np.savez('/Users/mtownsend/Documents/LRG_Data/mid3_near_model8.npz', near25_model8=near25_model8, near03_model8=near03_model8, near35_model8=near35_model8, near04_model8=near04_model8, near45_model8=near45_model8, near05_model8=near05_model8, near55_model8=near55_model8, near06_model8=near06_model8)\n",
    "# data_model8 = np.load('/Users/mtownsend/Documents/LRG_Data/low_Nsat_model8_25.npz')\n",
    "# low_Nsat25_model8 = data_model8['low_Nsat25_model8']\n",
    "\n",
    "\n",
    "print(np.asarray(near25_model8).shape)\n",
    "print(np.asarray(near03_model8).shape)\n",
    "print(np.asarray(near35_model8).shape)\n",
    "print(np.asarray(near04_model8).shape)\n",
    "print(np.asarray(near45_model8).shape)\n",
    "print(np.asarray(near05_model8).shape)\n",
    "print(np.asarray(near55_model8).shape)\n",
    "print(np.asarray(near06_model8).shape)\n"
   ]
  },
  {
   "cell_type": "code",
   "execution_count": 26,
   "metadata": {},
   "outputs": [
    {
     "name": "stdout",
     "output_type": "stream",
     "text": [
      "(281, 49, 49, 49)\n",
      "(256, 49, 49, 49)\n",
      "(414, 49, 49, 49)\n",
      "(341, 49, 49, 49)\n",
      "(567, 49, 49, 49)\n",
      "(986, 49, 49, 49)\n",
      "(1188, 49, 49, 49)\n",
      "(967, 49, 49, 49)\n"
     ]
    }
   ],
   "source": [
    "# put Nbkg into redshift bins\n",
    "\n",
    "Nbkg_arr = np.asarray(Nbkg)\n",
    "\n",
    "mid3_Nbkg25 = Nbkg_arr[np.where((random_z_mid3 >= 0.2) & (random_z_mid3 < 0.25))]\n",
    "mid3_Nbkg03 = Nbkg_arr[np.where((random_z_mid3 >= 0.25) & (random_z_mid3 < 0.3))]\n",
    "mid3_Nbkg35 = Nbkg_arr[np.where((random_z_mid3 >= 0.3) & (random_z_mid3 < 0.35))]\n",
    "mid3_Nbkg04 = Nbkg_arr[np.where((random_z_mid3 >= 0.35) & (random_z_mid3 < 0.4))]\n",
    "mid3_Nbkg45 = Nbkg_arr[np.where((random_z_mid3 >= 0.4) & (random_z_mid3 < 0.45))]\n",
    "mid3_Nbkg05 = Nbkg_arr[np.where((random_z_mid3 >= 0.45) & (random_z_mid3 < 0.5))]\n",
    "mid3_Nbkg55 = Nbkg_arr[np.where((random_z_mid3 >= 0.5) & (random_z_mid3 < 0.55))]\n",
    "mid3_Nbkg06 = Nbkg_arr[np.where((random_z_mid3 >= 0.55) & (random_z_mid3 < 0.6))]\n",
    "\n",
    "\n",
    "print(mid3_Nbkg25.shape)\n",
    "print(mid3_Nbkg03.shape)\n",
    "print(mid3_Nbkg35.shape)\n",
    "print(mid3_Nbkg04.shape)\n",
    "print(mid3_Nbkg45.shape)\n",
    "print(mid3_Nbkg05.shape)\n",
    "print(mid3_Nbkg55.shape)\n",
    "print(mid3_Nbkg06.shape)\n"
   ]
  },
  {
   "cell_type": "code",
   "execution_count": 27,
   "metadata": {},
   "outputs": [
    {
     "name": "stdout",
     "output_type": "stream",
     "text": [
      "(281, 49, 49, 49)\n",
      "(256, 49, 49, 49)\n",
      "(414, 49, 49, 49)\n",
      "(341, 49, 49, 49)\n",
      "(567, 49, 49, 49)\n",
      "(986, 49, 49, 49)\n",
      "(1188, 49, 49, 49)\n",
      "(967, 49, 49, 49)\n"
     ]
    }
   ],
   "source": [
    "# calculate Nsat for model \n",
    "\n",
    "mid3_Nsat25 = np.array(near25_model8) - mid3_Nbkg25\n",
    "mid3_Nsat03 = np.array(near03_model8) - mid3_Nbkg03\n",
    "mid3_Nsat35 = np.array(near35_model8) - mid3_Nbkg35\n",
    "mid3_Nsat04 = np.array(near04_model8) - mid3_Nbkg04\n",
    "mid3_Nsat45 = np.array(near45_model8) - mid3_Nbkg45\n",
    "mid3_Nsat05 = np.array(near05_model8) - mid3_Nbkg05\n",
    "mid3_Nsat55 = np.array(near55_model8) - mid3_Nbkg55\n",
    "mid3_Nsat06 = np.array(near06_model8) - mid3_Nbkg06\n",
    "\n",
    "print(mid3_Nsat25.shape)\n",
    "print(mid3_Nsat03.shape)\n",
    "print(mid3_Nsat35.shape)\n",
    "print(mid3_Nsat04.shape)\n",
    "print(mid3_Nsat45.shape)\n",
    "print(mid3_Nsat05.shape)\n",
    "print(mid3_Nsat55.shape)\n",
    "print(mid3_Nsat06.shape)\n"
   ]
  },
  {
   "cell_type": "markdown",
   "metadata": {},
   "source": [
    "## Plot and compare null Nsat with model Nsat"
   ]
  },
  {
   "cell_type": "code",
   "execution_count": 29,
   "metadata": {},
   "outputs": [
    {
     "name": "stdout",
     "output_type": "stream",
     "text": [
      "(8, 49, 49, 49)\n"
     ]
    }
   ],
   "source": [
    "# mask Nsat and model Nsat\n",
    "\n",
    "data_smatrix06 = np.load('/Users/mtownsend/Desktop/midz3_smatrix-8matrices.npz')\n",
    "smatrix06 = data_smatrix06['smatrix_low']\n",
    "print(smatrix06.shape)\n",
    "\n",
    "masked_model8_Nsat25 = mid3_Nsat25 * smatrix06[0]\n",
    "masked_og_Nsat25 = Nsat25 * smatrix06[0]\n",
    "\n",
    "masked_model8_Nsat03 = mid3_Nsat03 * smatrix06[1]\n",
    "masked_og_Nsat03 = Nsat03 * smatrix06[1]\n",
    "\n",
    "masked_model8_Nsat35 = mid3_Nsat35 * smatrix06[2]\n",
    "masked_og_Nsat35 = Nsat35 * smatrix06[2]\n",
    "\n",
    "masked_model8_Nsat04 = mid3_Nsat04 * smatrix06[3]\n",
    "masked_og_Nsat04 = Nsat04 * smatrix06[3]\n",
    "\n",
    "masked_model8_Nsat45 = mid3_Nsat45 * smatrix06[4]\n",
    "masked_og_Nsat45 = Nsat45 * smatrix06[4]\n",
    "\n",
    "masked_model8_Nsat05 = mid3_Nsat05 * smatrix06[5]\n",
    "masked_og_Nsat05 = Nsat05 * smatrix06[5]\n",
    "\n",
    "masked_model8_Nsat55 = mid3_Nsat55 * smatrix06[6]\n",
    "masked_og_Nsat55 = Nsat55 * smatrix06[6]\n",
    "\n",
    "masked_model8_Nsat06 = mid3_Nsat06 * smatrix06[7]\n",
    "masked_og_Nsat06 = Nsat06 * smatrix06[7]\n",
    "\n"
   ]
  },
  {
   "cell_type": "code",
   "execution_count": 31,
   "metadata": {},
   "outputs": [
    {
     "name": "stdout",
     "output_type": "stream",
     "text": [
      "mean number of near neighbors is -0.011711606091000335\n",
      "mean number of near neighbors is -0.011711606091000335\n",
      "median number of near neighbors is -0.012729248576355935\n",
      "median number of near neighbors is -0.012729248576355935\n",
      "mean number of near neighbors is 13.070559272756912\n",
      "mean number of near neighbors is 13.070559272756912\n",
      "median number of near neighbors is 10.626437771892856\n",
      "median number of near neighbors is 10.626437771892856\n"
     ]
    },
    {
     "data": {
      "image/png": "[encoded data removed]",
      "text/plain": [
       "<Figure size 1800x1080 with 4 Axes>"
      ]
     },
     "metadata": {
      "needs_background": "light"
     },
     "output_type": "display_data"
    }
   ],
   "source": [
    "# plot Nsat25 and model Nsat25 (masked)\n",
    "\n",
    "masked_og_sum25 = []\n",
    "masked_model8_sum25 = []\n",
    "# Sum up number of near neighbors for every LRG\n",
    "for i in range(len(masked_og_Nsat25)):\n",
    "    masked_og_sum25.append(np.sum(masked_og_Nsat25[i]))\n",
    "    masked_model8_sum25.append(np.sum(masked_model8_Nsat25[i]))\n",
    "\n",
    "masked_og_mean25 = np.mean(masked_og_sum25)\n",
    "print(\"mean number of near neighbors is\", masked_og_mean25)\n",
    "\n",
    "masked_model8_mean25 = np.mean(masked_model8_sum25)\n",
    "print(\"mean number of near neighbors is\", masked_model8_mean25)\n",
    "\n",
    "masked_og_median25 = np.median(masked_og_sum25)\n",
    "print(\"median number of near neighbors is\", masked_og_median25)\n",
    "\n",
    "masked_model8_median25 = np.median(masked_model8_sum25)\n",
    "print(\"median number of near neighbors is\", masked_model8_median25)\n",
    "\n",
    "# plot Nsat25 and model Nsat25 (unmasked)\n",
    "\n",
    "og_sum25 = []\n",
    "model8_sum25 = []\n",
    "# Sum up number of near neighbors for every LRG\n",
    "for i in range(len(Nsat25)):\n",
    "    og_sum25.append(np.sum(Nsat25[i]))\n",
    "    model8_sum25.append(np.sum(mid3_Nsat25[i]))\n",
    "\n",
    "og_mean25 = np.mean(og_sum25)\n",
    "print(\"mean number of near neighbors is\", og_mean25)\n",
    "\n",
    "model8_mean25 = np.mean(model8_sum25)\n",
    "print(\"mean number of near neighbors is\", model8_mean25)\n",
    "\n",
    "og_median25 = np.median(og_sum25)\n",
    "print(\"median number of near neighbors is\", og_median25)\n",
    "\n",
    "model8_median25 = np.median(model8_sum25)\n",
    "print(\"median number of near neighbors is\", model8_median25)\n",
    "\n",
    "fig, ((ax1, ax2), (ax3, ax4)) = plt.subplots(2, 2, figsize=(25,15)) #, sharex=True)\n",
    "fig.suptitle('Nsat Histograms for log(lum)=10.36 and 0.2 < z < 0.25', fontsize=15)\n",
    "fig.subplots_adjust(top=0.93)\n",
    "ax1.hist(masked_og_sum25, bins=50)\n",
    "ax1.set_title('Original Nsat Histogram (mask)', fontsize=14)\n",
    "ax1.set_xlabel(r'$Number$ $of$ $Satellites$', fontsize=13)\n",
    "ax1.set_ylabel(r'$counts$', fontsize=13)\n",
    "ax1.axvline(x=masked_og_mean25, color='r')\n",
    "ax1.axvline(x=masked_og_median25, color='black')\n",
    "ax1.text(0.6, 0.7, 'mean = {0:.4g}'.format(masked_og_mean25), horizontalalignment='left', verticalalignment='center', transform=ax1.transAxes, fontsize=13, color='r')\n",
    "ax1.text(0.6, 0.6, 'median = {0:.4g}'.format(masked_og_median25), horizontalalignment='left', verticalalignment='center', transform=ax1.transAxes, fontsize=13)\n",
    "\n",
    "ax3.hist(masked_model8_sum25, bins=50)\n",
    "ax3.set_title('Model 8 Nsat Histogram (mask)', fontsize=14)\n",
    "ax3.set_xlabel(r'$Number$ $of$ $Satellites$', fontsize=13)\n",
    "ax3.set_ylabel(r'$counts$', fontsize=15)\n",
    "ax3.axvline(x=masked_model8_mean25, color='r')\n",
    "ax3.axvline(x=masked_model8_median25, color='black')\n",
    "ax3.text(0.6, 0.7, 'mean = {0:.4g}'.format(masked_model8_mean25), horizontalalignment='left', verticalalignment='center', transform=ax3.transAxes, fontsize=13, color='r')\n",
    "ax3.text(0.6, 0.6, 'median = {0:.4g}'.format(masked_model8_median25), horizontalalignment='left', verticalalignment='center', transform=ax3.transAxes, fontsize=13)\n",
    "\n",
    "\n",
    "# fig, (ax1, ax2) = plt.subplots(2, 1, figsize=(15,15)) #, sharex=True)\n",
    "# fig.suptitle('Nsat Histograms for log(lum)=10.47 and 0.2 < z < 0.25 (no mask)', fontsize=15)\n",
    "# fig.subplots_adjust(top=0.93)\n",
    "ax2.hist(og_sum25, bins=50)\n",
    "ax2.set_title('Original Nsat Histogram (no mask)', fontsize=14)\n",
    "ax2.set_xlabel(r'$Number$ $of$ $Satellites$', fontsize=13)\n",
    "ax2.set_ylabel(r'$counts$', fontsize=13)\n",
    "ax2.axvline(x=og_mean25, color='r')\n",
    "ax2.axvline(x=og_median25, color='black')\n",
    "ax2.text(0.6, 0.7, 'mean = {0:.4g}'.format(og_mean25), horizontalalignment='left', verticalalignment='center', transform=ax2.transAxes, fontsize=13, color='r')\n",
    "ax2.text(0.6, 0.6, 'median = {0:.4g}'.format(og_median25), horizontalalignment='left', verticalalignment='center', transform=ax2.transAxes, fontsize=13)\n",
    "\n",
    "ax4.hist(model8_sum25, bins=50)\n",
    "ax4.set_title('Model 8 Nsat Histogram (no mask)', fontsize=14)\n",
    "ax4.set_xlabel(r'$Number$ $of$ $Satellites$', fontsize=13)\n",
    "ax4.set_ylabel(r'$counts$', fontsize=15)\n",
    "ax4.axvline(x=model8_mean25, color='r')\n",
    "ax4.axvline(x=model8_median25, color='black')\n",
    "ax4.text(0.6, 0.7, 'mean = {0:.4g}'.format(model8_mean25), horizontalalignment='left', verticalalignment='center', transform=ax4.transAxes, fontsize=13, color='r')\n",
    "ax4.text(0.6, 0.6, 'median = {0:.4g}'.format(model8_median25), horizontalalignment='left', verticalalignment='center', transform=ax4.transAxes, fontsize=13)\n",
    "\n",
    "\n",
    "# plt.savefig('/Users/mtownsend/Desktop/MeetingPlots/04Dec2020/mid3_Nsat_model8_comparison25.pdf')\n",
    "\n",
    "plt.show()"
   ]
  },
  {
   "cell_type": "code",
   "execution_count": null,
   "metadata": {},
   "outputs": [],
   "source": []
  }
 ],
 "metadata": {
  "kernelspec": {
   "display_name": "Python 3",
   "language": "python",
   "name": "python3"
  },
  "language_info": {
   "codemirror_mode": {
    "name": "ipython",
    "version": 3
   },
   "file_extension": ".py",
   "mimetype": "text/x-python",
   "name": "python",
   "nbconvert_exporter": "python",
   "pygments_lexer": "ipython3",
   "version": "3.5.5"
  }
 },
 "nbformat": 4,
 "nbformat_minor": 2
}
