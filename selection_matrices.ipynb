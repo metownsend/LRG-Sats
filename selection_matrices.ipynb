{
 "cells": [
  {
   "cell_type": "code",
   "execution_count": 1,
   "metadata": {},
   "outputs": [],
   "source": [
    "from astropy.io import fits\n",
    "from astropy.table import Table\n",
    "import numpy as np\n",
    "import matplotlib.pylab as plt \n",
    "import matplotlib.lines as mlines\n",
    "from matplotlib.legend import Legend\n",
    "from pythonds.basic.stack import Stack\n",
    "from math import *\n",
    "from sklearn.neighbors import KDTree\n",
    "from lrg_plot_functions import *\n",
    "from lrg_sum_functions import *\n",
    "from cosmo_Calc import *\n",
    "from divideByTwo import *\n",
    "from read_data import *\n",
    "from nearNeighbors import *\n",
    "from scipy import stats\n",
    "from astropy import stats\n",
    "import healpy as hp\n",
    "from localBKG_and_interlopersHEALPix import *\n",
    "# import healpy as hpy\n",
    "from makeCutoutTableFunc import *\n",
    "from plotHistogramProjections3D import *\n",
    "from read_bricks import *\n",
    "from mpl_toolkits.axes_grid1 import make_axes_locatable\n",
    "from median_zmag import *\n",
    "from selection_matrix import * "
   ]
  },
  {
   "cell_type": "code",
   "execution_count": 2,
   "metadata": {},
   "outputs": [
    {
     "name": "stdout",
     "output_type": "stream",
     "text": [
      "done reading in DECaLS bricks\n",
      "done reading in DECaLS bricks\n",
      "end readdata\n"
     ]
    }
   ],
   "source": [
    "# Reads in data files for use in readData.py\n",
    "\n",
    "hdu_sweep1 = fits.open('/Users/mtownsend/anaconda/Data/sweep-140p000-150p005-UVISTA1.fits') # this is one sweep file of the DECaLS data\n",
    "hdu_sweep2 = fits.open('/Users/mtownsend/anaconda/Data/sweep-150p000-160p005-UVISTA2.fits') # this is one sweep file of the DECaLS data\n",
    "\n",
    "UVISTA1_data = hdu_sweep1[1].data\n",
    "UVISTA2_data = hdu_sweep2[1].data\n",
    "\n",
    "ra_LS1, dec_LS1, gflux_LS1, rflux_LS1, zflux_LS1, w1flux_LS1, w2flux_LS1, w3flux_LS1, w4flux_LS1, gflux_ivar_LS1, rflux_ivar_LS1, zflux_ivar_LS1, w1flux_ivar_LS1, w2flux_ivar_LS1, w3flux_ivar_LS1, w4flux_ivar_LS1, mw_transmission_g_LS1, mw_transmission_r_LS1, mw_transmission_z_LS1, mw_transmission_w1_LS1, mw_transmission_w2_LS1, mw_transmission_w3_LS1, mw_transmission_w4_LS1 = readBricks(UVISTA1_data)\n",
    "ra_LS2, dec_LS2, gflux_LS2, rflux_LS2, zflux_LS2, w1flux_LS2, w2flux_LS2, w3flux_LS2, w4flux_LS2, gflux_ivar_LS2, rflux_ivar_LS2, zflux_ivar_LS2, w1flux_ivar_LS2, w2flux_ivar_LS2, w3flux_ivar_LS2, w4flux_ivar_LS2, mw_transmission_g_LS2, mw_transmission_r_LS2, mw_transmission_z_LS2, mw_transmission_w1_LS2, mw_transmission_w2_LS2, mw_transmission_w3_LS2, mw_transmission_w4_LS2 = readBricks(UVISTA2_data)\n",
    "\n",
    "print(\"end readdata\")\n",
    "\n",
    "# IMPORTANT NOTE: LRG data is the same for each."
   ]
  },
  {
   "cell_type": "code",
   "execution_count": 3,
   "metadata": {},
   "outputs": [],
   "source": [
    "# read in UV data\n",
    "\n",
    "data_UV = open('/Users/mtownsend/eazy-photoz/inputs/OUTPUT/UVISTA_master_v4.1/UVISTA_final_v4.1.153-155.rf', 'r')\n",
    "lines_UV = data_UV.readlines()[11:]\n",
    "\n",
    "z = []\n",
    "for line in lines_UV:\n",
    "    p = line.split()\n",
    "    z.append(float(p[1]))\n",
    "\n",
    "z = np.array(z)\n",
    "\n",
    "from astropy.io import ascii\n",
    "data_cat = data_cat = ascii.read(\"/Users/mtownsend/eazy-photoz/inputs/UVISTA_master_v4.1.cat\")  \n",
    "\n",
    "ra = data_cat['ra']\n",
    "dec = data_cat['dec']\n",
    "# z_spec = data_cat['z_spec']\n",
    "use = data_cat['USE']\n",
    "star = data_cat['star']\n",
    "contamination = data_cat['contamination']\n",
    "nan_contam = data_cat['nan_contam']\n",
    "# z = data_cat['z_spec']\n",
    "\n",
    "cut = np.where((use == 1.) & (star == 0.) & (contamination == 0.) & (nan_contam < 3.)) # & (Uflux > 0.) & (Vflux > 0.) & (zflux > 0.)) # & (zp > 0.))\n",
    "\n",
    "ra_UV = ra[cut]\n",
    "dec_UV = dec[cut]\n",
    "z_peak = z[cut]\n",
    "\n"
   ]
  },
  {
   "cell_type": "code",
   "execution_count": 4,
   "metadata": {},
   "outputs": [
    {
     "name": "stdout",
     "output_type": "stream",
     "text": [
      "69987\n"
     ]
    }
   ],
   "source": [
    "gmag_LS1 = 22.5 - 2.5 * np.log10(gflux_LS1/mw_transmission_g_LS1)\n",
    "gmag_LS2 = 22.5 - 2.5 * np.log10(gflux_LS2/mw_transmission_g_LS2)\n",
    "rmag_LS1 = 22.5 - 2.5 * np.log10(rflux_LS1/mw_transmission_r_LS1)\n",
    "rmag_LS2 = 22.5 - 2.5 * np.log10(rflux_LS2/mw_transmission_r_LS2)\n",
    "zmag_LS1 = 22.5 - 2.5 * np.log10(zflux_LS1/mw_transmission_z_LS1)\n",
    "zmag_LS2 = 22.5 - 2.5 * np.log10(zflux_LS2/mw_transmission_z_LS2)\n",
    "\n",
    "ra_LS = np.concatenate([ra_LS1, ra_LS2])\n",
    "dec_LS = np.concatenate([dec_LS1, dec_LS2])\n",
    "gmag_LS = np.concatenate([gmag_LS1, gmag_LS2])\n",
    "rmag_LS = np.concatenate([rmag_LS1, rmag_LS2])\n",
    "zmag_LS = np.concatenate([zmag_LS1, zmag_LS2]) \n",
    "\n",
    "\n",
    "# match sources in UVista and LS catalogs\n",
    "\n",
    "from astropy.coordinates import SkyCoord, match_coordinates_sky                                   \n",
    "from astropy import units as u       \n",
    "\n",
    "UVISTA_cat  = SkyCoord(ra=ra_UV*u.degree, dec=dec_UV*u.degree)\n",
    "\n",
    "my_cat = SkyCoord(ra=ra_LS*u.degree, dec=dec_LS*u.degree) \n",
    "\n",
    "idx_UVISTA, sep2d_UVISTA, dist3d_UVISTA = match_coordinates_sky(UVISTA_cat, my_cat, nthneighbor=1)\n",
    "\n",
    "sep2d_UVISTA_deg = sep2d_UVISTA.deg\n",
    "\n",
    "sep_idx_UVISTA = idx_UVISTA[np.where(sep2d_UVISTA_deg <= 0.0003)]\n",
    "\n",
    "print(len(sep_idx_UVISTA))"
   ]
  },
  {
   "cell_type": "code",
   "execution_count": 5,
   "metadata": {},
   "outputs": [
    {
     "name": "stdout",
     "output_type": "stream",
     "text": [
      "69987\n",
      "69987\n"
     ]
    },
    {
     "name": "stderr",
     "output_type": "stream",
     "text": [
      "/Users/mtownsend/anaconda/envs/astroconda/lib/python3.5/site-packages/ipykernel_launcher.py:23: RuntimeWarning: invalid value encountered in log10\n"
     ]
    }
   ],
   "source": [
    "# calculate rest frame g-band luminosity\n",
    "\n",
    "data_UV = open('/Users/mtownsend/eazy-photoz/inputs/OUTPUT/UV_LS_OUTPUT/UV_LS_main_output.294.rf', 'r')\n",
    "lines_UV = data_UV.readlines()[10:]\n",
    "\n",
    "distmod = []\n",
    "gflux = []\n",
    "redshift = []\n",
    "for line in lines_UV:\n",
    "    p = line.split()\n",
    "    redshift.append(float(p[1]))\n",
    "    distmod.append(float(p[2]))\n",
    "    gflux.append(float(p[5]))\n",
    "\n",
    "DM = np.array(distmod)\n",
    "Gflux = np.array(gflux)\n",
    "zspec = np.array(redshift)\n",
    "\n",
    "# K correction\n",
    "K_correct = -2.5*np.log10((1. + zspec)**-1.)\n",
    "\n",
    "# Absolute magnitude\n",
    "gMag = -2.5*np.log10(Gflux) + 25. - DM - K_correct\n",
    "\n",
    "# Calculate rest frame zmag\n",
    "\n",
    "Msun_z = 4.50\n",
    "Msun_g = 5.05\n",
    "gLum = 10.**((gMag-Msun_g)/(-2.5))\n",
    "\n",
    "log_gLum = np.log10(gLum)\n",
    "\n",
    "print(len(log_gLum))\n",
    "print(len(zspec))\n",
    "\n",
    "# calculate (g-r) and (r-z) colors\n",
    "    \n",
    "grcolor_UVLS_nocut = gmag_LS[sep_idx_UVISTA] - rmag_LS[sep_idx_UVISTA]\n",
    "rzcolor_UVLS_nocut = rmag_LS[sep_idx_UVISTA] - zmag_LS[sep_idx_UVISTA]\n",
    "zmag_UVLS_nocut = zmag_LS[sep_idx_UVISTA]\n",
    "\n",
    "grcolor_UVLS = grcolor_UVLS_nocut[np.where((zmag_UVLS_nocut <= 22.36) & (np.isnan(log_gLum) == False) & (zspec >= 0.2) & (zspec <= 0.65))]\n",
    "rzcolor_UVLS = rzcolor_UVLS_nocut[np.where((zmag_UVLS_nocut <= 22.36) & (np.isnan(log_gLum) == False) & (zspec >= 0.2) & (zspec <= 0.65))]\n",
    "zmag_UVLS = zmag_UVLS_nocut[np.where((zmag_UVLS_nocut <= 22.36) & (np.isnan(log_gLum) == False) & (zspec >= 0.2) & (zspec <= 0.65))]\n",
    "\n",
    "zspec_UVLS = zspec[np.where((zmag_UVLS_nocut <= 22.36) & (np.isnan(log_gLum) == False) & (zspec >= 0.2) & (zspec <= 0.65))]\n",
    "\n",
    "log_gLum_cut = log_gLum[np.where((zmag_UVLS_nocut <= 22.36) & (np.isnan(log_gLum) == False) & (zspec >= 0.2) & (zspec <= 0.65))]\n"
   ]
  },
  {
   "cell_type": "code",
   "execution_count": 6,
   "metadata": {},
   "outputs": [
    {
     "name": "stdout",
     "output_type": "stream",
     "text": [
      "<class 'numpy.ndarray'>\n",
      "<class 'numpy.ndarray'>\n",
      "[0.2  0.25 0.3 ]\n"
     ]
    }
   ],
   "source": [
    "rz_edges = np.array([-1.8027077, -1.5527076721191406, -1.3027076721191406, -1.0527076721191406, -0.8027076721191406, -0.5527076721191406, -0.3027076721191406, -0.052707672119140625, 0.19729232788085938, 0.4472923278808594, 0.6972923278808594, 0.9472923278808594, 1.1972923278808594, 1.4472923278808594, 1.6972923278808594, 1.9472923278808594, 2.1972923278808594, 2.4472923278808594, 2.6972923278808594, 2.9472923278808594, 3.1972923278808594, 3.4472923278808594, 3.6972923278808594, 3.9472923278808594, 4.197292327880859, 4.447292327880859, 4.697292327880859, 4.947292327880859, 5.197292327880859, 5.447292327880859, 5.697292327880859, 5.947292327880859, 6.197292327880859, 6.447292327880859, 6.697292327880859, 6.947292327880859, 7.197292327880859, 7.447292327880859, 7.697292327880859, 7.947292327880859, 8.19729232788086, 8.44729232788086, 8.69729232788086, 8.94729232788086, 9.19729232788086, 9.44729232788086, 9.69729232788086, 9.94729232788086, 10.19729232788086, 10.44729232788086])\n",
    "# zmag_edges = np.array([13.22509, 14.025090026855466, 15.025090026855462, 16.02509002685546, 17.025090026855455, 18.02509002685545, 19.025090026855448, 20.025090026855445, 21.025, 22.025090026855437, 23.025090026855434])\n",
    "gr_edges = np.array([-6.5846786, -6.234678649902344, -5.8846786499023445, -5.534678649902345, -5.184678649902345, -4.8346786499023455, -4.484678649902346, -4.134678649902346, -3.784678649902346, -3.434678649902346, -3.084678649902346, -2.734678649902346, -2.384678649902346, -2.0346786499023457, -1.6846786499023456, -1.3346786499023455, -0.9846786499023455, -0.6346786499023456, -0.2846786499023456, 0.06532135009765438, 0.41532135009765436, 0.7653213500976543, 1.1153213500976542, 1.4653213500976543, 1.8153213500976544, 2.1653213500976545, 2.5153213500976546, 2.8653213500976547, 3.2153213500976547, 3.565321350097655, 3.915321350097655, 4.265321350097655, 4.615321350097655, 4.965321350097654, 5.315321350097654, 5.665321350097654, 6.015321350097653, 6.365321350097653, 6.7153213500976525, 7.065321350097652, 7.415321350097652, 7.7653213500976515, 8.115321350097652, 8.465321350097652, 8.815321350097651, 9.165321350097651, 9.51532135009765, 9.86532135009765, 10.21532135009765, 10.56532135009765])\n",
    "\n",
    "zmaginit = 13.\n",
    "zmagfin = 23.\n",
    "interval = 0.2\n",
    "zmag_num = (zmagfin-zmaginit)/interval\n",
    "zmag_edges, step = np.linspace(zmaginit, zmagfin, num=int(zmag_num), retstep=True)\n",
    "print(type(zmag_edges))\n",
    "\n",
    "Hstar2D, rz_nouse, gr_nouse = np.histogram2d(rzcolor_UVLS, grcolor_UVLS, bins=(rz_edges, gr_edges), density=False)\n",
    "Hstar3D, nouse_edges = np.histogramdd((rzcolor_UVLS, grcolor_UVLS, zmag_UVLS), bins=(rz_edges, gr_edges, zmag_edges), density=False)\n",
    "\n",
    "print(type(Hstar2D))\n",
    "\n",
    "zinit = 0.2\n",
    "zfin = 0.4\n",
    "interval = 0.05\n",
    "# num = (zfin-zinit)/interval\n",
    "num = 3. \n",
    "zrange, step = np.linspace(zinit, zfin, num=int(num), retstep=True)\n",
    "print(zrange)"
   ]
  },
  {
   "cell_type": "code",
   "execution_count": 7,
   "metadata": {},
   "outputs": [
    {
     "name": "stdout",
     "output_type": "stream",
     "text": [
      "(2, 49, 49)\n"
     ]
    }
   ],
   "source": [
    "medianzmag_slice = []\n",
    "medianzmag_upto = []\n",
    "for i in range(len(zrange)-1):\n",
    "    x1 = rzcolor_UVLS[np.where((zspec_UVLS > zrange[i]) & (zspec_UVLS <= zrange[i+1]))]\n",
    "#     x2 = rzcolor_UVLS[np.where(zspec_UVLS <= zrange[i+1])]\n",
    "#     print(len(x))\n",
    "    y1 = grcolor_UVLS[np.where((zspec_UVLS > zrange[i]) & (zspec_UVLS <= zrange[i+1]))]\n",
    "#     y2 = grcolor_UVLS[np.where(zspec_UVLS <= zrange[i+1])]\n",
    "#     print(len(y))\n",
    "    z1 = zmag_UVLS[np.where((zspec_UVLS > zrange[i]) & (zspec_UVLS <= zrange[i+1]))]\n",
    "#     z2 = zmag_UVLS[np.where(zspec_UVLS <= zrange[i+1])]\n",
    "#     print(len(z))\n",
    "    lum1 = log_gLum_cut[np.where((zspec_UVLS > zrange[i]) & (zspec_UVLS <= zrange[i+1]))]\n",
    "#     lum2 = log_gLum_cut[np.where(zspec_UVLS <= zrange[i+1])]\n",
    "#     print(len(lum))\n",
    "#     medzmag = median_zmag(Hstar2D, 10.46, lum, x, y, z, rz_edges, gr_edges)\n",
    "    medzmag_slice = median_zmag(Hstar2D, 9.84, lum1, x1, y1, z1, rz_edges, gr_edges)\n",
    "#     medzmag_upto = median_zmag(Hstar2D, 9.55, lum2, x2, y2, z2, rz_edges, gr_edges)\n",
    "    medianzmag_slice.append(medzmag_slice)\n",
    "#     medianzmag_upto.append(medzmag_upto)\n",
    "    print(i)\n",
    "    \n",
    "# medzmag_high= median_zmag(Hstar2D, 10.46, log_gLum_cut, rzcolor_UVLS, grcolor_UVLS, zmag_UVLS, rz_edges, gr_edges)\n",
    "# medzmag_low = median_zmag(Hstar2D, 9.55, log_gLum_cut, rzcolor_UVLS, grcolor_UVLS, zmag_UVLS, rz_edges, gr_edges)\n",
    "# medzmag_mid1 = median_zmag(Hstar2D, 9.84, log_gLum_cut, rzcolor_UVLS, grcolor_UVLS, zmag_UVLS, rz_edges, gr_edges)\n",
    "# medzmag_mid2 = median_zmag(Hstar2D, 10.24, log_gLum_cut, rzcolor_UVLS, grcolor_UVLS, zmag_UVLS, rz_edges, gr_edges)\n",
    "\n",
    "print(np.asarray(medianzmag_slice).shape)\n"
   ]
  },
  {
   "cell_type": "code",
   "execution_count": null,
   "metadata": {},
   "outputs": [],
   "source": [
    "np.savez('/Users/mtownsend/Desktop/lowz_medzmag-2matrices.npz', medzmag_low=medianzmag_slice)\n",
    "\n",
    "print(np.asarray(medianzmag_slice).shape)\n",
    "data_zmag = np.load('/Users/mtownsend/Desktop/lowz_medzmag-2matrices.npz')\n",
    "zmag = data_zmag['medzmag_low']\n",
    "print(zmag.shape)"
   ]
  },
  {
   "cell_type": "code",
   "execution_count": 10,
   "metadata": {},
   "outputs": [
    {
     "name": "stdout",
     "output_type": "stream",
     "text": [
      "0\n",
      "1\n",
      "(2, 49, 49, 49)\n",
      "(2, 49, 49, 49)\n"
     ]
    }
   ],
   "source": [
    "smatrix_upto = []\n",
    "smatrix_slice = []\n",
    "for i in range(len(zmag)):\n",
    "#     masks_upto = selection_matrix(Hstar3D, zmag_upto[i], zmag_edges)\n",
    "    masks_slice = selection_matrix(Hstar3D, zmag[i], zmag_edges)\n",
    "#     smatrix_upto.append(masks_upto)\n",
    "    smatrix_slice.append(masks_slice)\n",
    "    print(i)\n",
    "\n",
    "\n",
    "# smatrix_high = selection_matrix(Hstar3D, medzmag_high, zmag_edges)\n",
    "# smatrix_low = selection_matrix(Hstar3D, medzmag_low, zmag_edges)\n",
    "# smatrix_mid1 = selection_matrix(Hstar3D, medzmag_mid1, zmag_edges)\n",
    "# smatrix_mid2 = selection_matrix(Hstar3D, medzmag_mid2, zmag_edges)\n",
    "\n",
    "np.savez('/Users/mtownsend/Desktop/lowz_smatrix-2matrices.npz', smatrix_low=smatrix_slice)\n",
    "\n",
    "print(np.asarray(smatrix_slice).shape)\n",
    "data_smatrix = np.load('/Users/mtownsend/Desktop/lowz_smatrix-2matrices.npz')\n",
    "smatrix = data_smatrix['smatrix_low']\n",
    "print(smatrix.shape)"
   ]
  },
  {
   "cell_type": "code",
   "execution_count": null,
   "metadata": {},
   "outputs": [],
   "source": []
  }
 ],
 "metadata": {
  "kernelspec": {
   "display_name": "Python 3",
   "language": "python",
   "name": "python3"
  },
  "language_info": {
   "codemirror_mode": {
    "name": "ipython",
    "version": 3
   },
   "file_extension": ".py",
   "mimetype": "text/x-python",
   "name": "python",
   "nbconvert_exporter": "python",
   "pygments_lexer": "ipython3",
   "version": "3.5.5"
  }
 },
 "nbformat": 4,
 "nbformat_minor": 2
}
