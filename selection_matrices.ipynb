{
 "cells": [
  {
   "cell_type": "code",
   "execution_count": 1,
   "metadata": {},
   "outputs": [],
   "source": [
    "from astropy.io import fits\n",
    "from astropy.table import Table\n",
    "import numpy as np\n",
    "import matplotlib.pylab as plt \n",
    "import matplotlib.lines as mlines\n",
    "from matplotlib.legend import Legend\n",
    "from pythonds.basic.stack import Stack\n",
    "from math import *\n",
    "from sklearn.neighbors import KDTree\n",
    "from lrg_plot_functions import *\n",
    "from lrg_sum_functions import *\n",
    "from cosmo_Calc import *\n",
    "from divideByTwo import *\n",
    "from read_data import *\n",
    "from nearNeighbors import *\n",
    "from scipy import stats\n",
    "from astropy import stats\n",
    "import healpy as hp\n",
    "from localBKG_and_interlopersHEALPix import *\n",
    "# import healpy as hpy\n",
    "from makeCutoutTableFunc import *\n",
    "from plotHistogramProjections3D import *\n",
    "from read_bricks import *\n",
    "from mpl_toolkits.axes_grid1 import make_axes_locatable\n",
    "from median_zmag import *\n",
    "from selection_matrix import * "
   ]
  },
  {
   "cell_type": "code",
   "execution_count": 2,
   "metadata": {},
   "outputs": [
    {
     "name": "stdout",
     "output_type": "stream",
     "text": [
      "done reading in DECaLS bricks\n",
      "done reading in DECaLS bricks\n",
      "end readdata\n",
      "3630554\n"
     ]
    }
   ],
   "source": [
    "# # Reads in data files for use in readData.py\n",
    "\n",
    "# hdu_sweep1 = fits.open('/Users/mtownsend/Documents/LRG_Data/expanded-data/sweep-140p000-150p005-UVISTA1.fits') # this is one sweep file of the DECaLS data\n",
    "# hdu_sweep2 = fits.open('/Users/mtownsend/Documents/LRG_Data/expanded-data/sweep-150p000-160p005-UVISTA2.fits') # this is one sweep file of the DECaLS data\n",
    "\n",
    "# UVISTA1_data = hdu_sweep1[1].data\n",
    "# UVISTA2_data = hdu_sweep2[1].data\n",
    "\n",
    "# ra_LS1, dec_LS1, gflux_LS1, rflux_LS1, zflux_LS1, w1flux_LS1, w2flux_LS1, w3flux_LS1, w4flux_LS1, gflux_ivar_LS1, rflux_ivar_LS1, zflux_ivar_LS1, w1flux_ivar_LS1, w2flux_ivar_LS1, w3flux_ivar_LS1, w4flux_ivar_LS1, mw_transmission_g_LS1, mw_transmission_r_LS1, mw_transmission_z_LS1, mw_transmission_w1_LS1, mw_transmission_w2_LS1, mw_transmission_w3_LS1, mw_transmission_w4_LS1 = readBricks(UVISTA1_data)\n",
    "# ra_LS2, dec_LS2, gflux_LS2, rflux_LS2, zflux_LS2, w1flux_LS2, w2flux_LS2, w3flux_LS2, w4flux_LS2, gflux_ivar_LS2, rflux_ivar_LS2, zflux_ivar_LS2, w1flux_ivar_LS2, w2flux_ivar_LS2, w3flux_ivar_LS2, w4flux_ivar_LS2, mw_transmission_g_LS2, mw_transmission_r_LS2, mw_transmission_z_LS2, mw_transmission_w1_LS2, mw_transmission_w2_LS2, mw_transmission_w3_LS2, mw_transmission_w4_LS2 = readBricks(UVISTA2_data)\n",
    "\n",
    "# print(\"end readdata\")\n",
    "\n",
    "# # IMPORTANT NOTE: LRG data is the same for each.\n",
    "\n",
    "# print(len(ra_LS1) + len(ra_LS2))\n",
    "\n",
    "\n",
    "\n",
    "hdu_sweep1 = fits.open('/Users/mtownsend/Documents/LRG_Data/expanded-data/sweep-140p000-150p005-UVISTA1.fits') # this is one sweep file of the DECaLS data\n",
    "hdu_sweep2 = fits.open('/Users/mtownsend/Documents/LRG_Data/expanded-data/sweep-150p000-160p005-UVISTA2.fits') # this is one sweep file of the DECaLS data\n",
    "\n",
    "UVISTA1_data = hdu_sweep1[1].data\n",
    "UVISTA2_data = hdu_sweep2[1].data\n",
    "\n",
    "ra_LS1, dec_LS1, gflux_LS1, rflux_LS1, zflux_LS1, w1flux_LS1, w2flux_LS1, w3flux_LS1, w4flux_LS1, gflux_ivar_LS1, rflux_ivar_LS1, zflux_ivar_LS1, w1flux_ivar_LS1, w2flux_ivar_LS1, w3flux_ivar_LS1, w4flux_ivar_LS1, mw_transmission_g_LS1, mw_transmission_r_LS1, mw_transmission_z_LS1, mw_transmission_w1_LS1, mw_transmission_w2_LS1, mw_transmission_w3_LS1, mw_transmission_w4_LS1 = readBricks(UVISTA1_data)\n",
    "ra_LS2, dec_LS2, gflux_LS2, rflux_LS2, zflux_LS2, w1flux_LS2, w2flux_LS2, w3flux_LS2, w4flux_LS2, gflux_ivar_LS2, rflux_ivar_LS2, zflux_ivar_LS2, w1flux_ivar_LS2, w2flux_ivar_LS2, w3flux_ivar_LS2, w4flux_ivar_LS2, mw_transmission_g_LS2, mw_transmission_r_LS2, mw_transmission_z_LS2, mw_transmission_w1_LS2, mw_transmission_w2_LS2, mw_transmission_w3_LS2, mw_transmission_w4_LS2 = readBricks(UVISTA2_data)\n",
    "\n",
    "print(\"end readdata\")\n",
    "\n",
    "print(len(ra_LS1) + len(ra_LS2))\n",
    "\n",
    "# 4606780"
   ]
  },
  {
   "cell_type": "code",
   "execution_count": 3,
   "metadata": {},
   "outputs": [
    {
     "name": "stdout",
     "output_type": "stream",
     "text": [
      "166641\n"
     ]
    }
   ],
   "source": [
    "# read in UV data\n",
    "\n",
    "data_UV = open('/Users/mtownsend/eazy-photoz/inputs/OUTPUT/UVISTA_master_v4.1/UVISTA_final_v4.1.153-155.rf', 'r')\n",
    "lines_UV = data_UV.readlines()[11:]\n",
    "\n",
    "z = []\n",
    "for line in lines_UV:\n",
    "    p = line.split()\n",
    "    z.append(float(p[1]))\n",
    "\n",
    "z = np.array(z)\n",
    "\n",
    "from astropy.io import ascii\n",
    "data_cat = data_cat = ascii.read(\"/Users/mtownsend/eazy-photoz/inputs/UVISTA_master_v4.1.cat\")  \n",
    "\n",
    "ra = data_cat['ra']\n",
    "dec = data_cat['dec']\n",
    "# z_spec = data_cat['z_spec']\n",
    "use = data_cat['USE']\n",
    "star = data_cat['star']\n",
    "contamination = data_cat['contamination']\n",
    "nan_contam = data_cat['nan_contam']\n",
    "# z = data_cat['z_spec']\n",
    "\n",
    "cut = np.where((use == 1.) & (star == 0.) & (contamination == 0.) & (nan_contam < 3.)) # & (Uflux > 0.) & (Vflux > 0.) & (zflux > 0.)) # & (zp > 0.))\n",
    "\n",
    "ra_UV = ra[cut]\n",
    "dec_UV = dec[cut]\n",
    "z_peak = z[cut]\n",
    "\n",
    "print(len(ra_UV))\n"
   ]
  },
  {
   "cell_type": "code",
   "execution_count": 4,
   "metadata": {},
   "outputs": [
    {
     "name": "stdout",
     "output_type": "stream",
     "text": [
      "56710\n"
     ]
    }
   ],
   "source": [
    "gmag_LS1 = 22.5 - 2.5 * np.log10(gflux_LS1/mw_transmission_g_LS1)\n",
    "gmag_LS2 = 22.5 - 2.5 * np.log10(gflux_LS2/mw_transmission_g_LS2)\n",
    "rmag_LS1 = 22.5 - 2.5 * np.log10(rflux_LS1/mw_transmission_r_LS1)\n",
    "rmag_LS2 = 22.5 - 2.5 * np.log10(rflux_LS2/mw_transmission_r_LS2)\n",
    "zmag_LS1 = 22.5 - 2.5 * np.log10(zflux_LS1/mw_transmission_z_LS1)\n",
    "zmag_LS2 = 22.5 - 2.5 * np.log10(zflux_LS2/mw_transmission_z_LS2)\n",
    "\n",
    "ra_LS = np.concatenate([ra_LS1, ra_LS2])\n",
    "dec_LS = np.concatenate([dec_LS1, dec_LS2])\n",
    "gmag_LS = np.concatenate([gmag_LS1, gmag_LS2])\n",
    "rmag_LS = np.concatenate([rmag_LS1, rmag_LS2])\n",
    "zmag_LS = np.concatenate([zmag_LS1, zmag_LS2]) \n",
    "\n",
    "\n",
    "# match sources in UVista and LS catalogs\n",
    "\n",
    "from astropy.coordinates import SkyCoord, match_coordinates_sky                                   \n",
    "from astropy import units as u       \n",
    "\n",
    "UVISTA_cat  = SkyCoord(ra=ra_UV*u.degree, dec=dec_UV*u.degree)\n",
    "\n",
    "my_cat = SkyCoord(ra=ra_LS*u.degree, dec=dec_LS*u.degree) \n",
    "\n",
    "idx_UVISTA, sep2d_UVISTA, dist3d_UVISTA = match_coordinates_sky(UVISTA_cat, my_cat, nthneighbor=1)\n",
    "\n",
    "sep2d_UVISTA_deg = sep2d_UVISTA.deg\n",
    "\n",
    "sep_idx_UVISTA = idx_UVISTA[np.where(sep2d_UVISTA_deg <= 0.0003)]\n",
    "\n",
    "print(len(sep_idx_UVISTA))"
   ]
  },
  {
   "cell_type": "code",
   "execution_count": null,
   "metadata": {},
   "outputs": [],
   "source": [
    "# # make a new catalog where \"medium\" bitmasks are not eliminated\n",
    "\n",
    "# mw_transmission_g = np.concatenate([mw_transmission_g_LS1, mw_transmission_g_LS2])\n",
    "# mw_transmission_r = np.concatenate([mw_transmission_r_LS1, mw_transmission_r_LS2])\n",
    "# mw_transmission_z = np.concatenate([mw_transmission_z_LS1, mw_transmission_z_LS2])\n",
    "# mw_transmission_w1 = np.concatenate([mw_transmission_w1_LS1, mw_transmission_w1_LS2])\n",
    "# mw_transmission_w2 = np.concatenate([mw_transmission_w2_LS1, mw_transmission_w2_LS2])\n",
    "# mw_transmission_w3 = np.concatenate([mw_transmission_w3_LS1, mw_transmission_w3_LS2])\n",
    "# mw_transmission_w4 = np.concatenate([mw_transmission_w4_LS1, mw_transmission_w4_LS2])\n",
    "\n",
    "\n",
    "# gflux_PRE = np.concatenate([gflux_LS1, gflux_LS2])\n",
    "# rflux_PRE = np.concatenate([rflux_LS1, rflux_LS2])\n",
    "# zflux_PRE = np.concatenate([zflux_LS1, zflux_LS2])\n",
    "# w1flux_PRE = np.concatenate([w1flux_LS1, w1flux_LS2])\n",
    "# w2flux_PRE = np.concatenate([w2flux_LS1, w2flux_LS2])\n",
    "# w3flux_PRE = np.concatenate([w3flux_LS1, w3flux_LS2])\n",
    "# w4flux_PRE = np.concatenate([w4flux_LS1, w4flux_LS2])\n",
    "\n",
    "# gflux_ivar = np.concatenate([gflux_ivar_LS1, gflux_ivar_LS2])\n",
    "# rflux_ivar = np.concatenate([rflux_ivar_LS1, rflux_ivar_LS2])\n",
    "# zflux_ivar = np.concatenate([zflux_ivar_LS1, zflux_ivar_LS2])\n",
    "# w1flux_ivar = np.concatenate([w1flux_ivar_LS1, w1flux_ivar_LS2])\n",
    "# w2flux_ivar = np.concatenate([w2flux_ivar_LS1, w2flux_ivar_LS2])\n",
    "# w3flux_ivar = np.concatenate([w3flux_ivar_LS1, w3flux_ivar_LS2])\n",
    "# w4flux_ivar = np.concatenate([w4flux_ivar_LS1, w4flux_ivar_LS2])\n",
    "\n",
    "# g_sigma = []\n",
    "# g_sigma = 1./np.sqrt(gflux_ivar)\n",
    "\n",
    "# r_sigma = []\n",
    "# r_sigma = 1./np.sqrt(rflux_ivar)\n",
    "\n",
    "# z_sigma = []\n",
    "# z_sigma = 1./np.sqrt(zflux_ivar)\n",
    "\n",
    "# w1_sigma = []\n",
    "# w1_sigma = 1./np.sqrt(w1flux_ivar)\n",
    "\n",
    "# w2_sigma = []\n",
    "# w2_sigma = 1./np.sqrt(w2flux_ivar)\n",
    "\n",
    "# w3_sigma = []\n",
    "# w3_sigma = 1./np.sqrt(w3flux_ivar)\n",
    "\n",
    "# w4_sigma = []\n",
    "# w4_sigma = 1./np.sqrt(w4flux_ivar)\n",
    "\n",
    "# gflux = gflux_PRE/mw_transmission_g\n",
    "# rflux = rflux_PRE/mw_transmission_r\n",
    "# zflux = zflux_PRE/mw_transmission_z\n",
    "# w1flux = w1flux_PRE/mw_transmission_w1\n",
    "# w2flux = w2flux_PRE/mw_transmission_w2\n",
    "# w3flux = w3flux_PRE/mw_transmission_w3\n",
    "# w4flux = w4flux_PRE/mw_transmission_w4\n",
    "\n",
    "# print(len(gflux))\n",
    "\n",
    "# # np.savetxt('/Users/mtownsend/Desktop/LRGphot.cat', np.column_stack([id_LRG1, gflux_LRG1, rflux_LRG1, zflux_LRG1, w1flux_LRG1, w2flux_LRG1, w3flux_LRG1, w4flux_LRG1, gflux_ivar_LRG1, rflux_ivar_LRG1, zflux_ivar_LRG1, w1_ivar_LRG1, w2_ivar_LRG1, w3_ivar_LRG1, w4_ivar_LRG1, z_LRG1]))\n",
    "# # np.savetxt('/Users/mtownsend/Desktop/LRGphot.cat', np.column_stack([id_LRG, gflux_LRG, rflux_LRG, zflux_LRG, w1flux_LRG, w2flux_LRG, w3flux_LRG, w4flux_LRG, g_sigma, r_sigma, z_sigma, w1_sigma, w2_sigma, w3_sigma, w4_sigma, z_LRG]))\n",
    "\n",
    "\n"
   ]
  },
  {
   "cell_type": "code",
   "execution_count": 5,
   "metadata": {},
   "outputs": [
    {
     "name": "stdout",
     "output_type": "stream",
     "text": [
      "56710\n",
      "56710\n",
      "8.649246\n",
      "-1.876585\n",
      "\n",
      "5.649908\n",
      "-0.53150177\n",
      "\n",
      "22.749905\n",
      "15.661823\n"
     ]
    },
    {
     "name": "stderr",
     "output_type": "stream",
     "text": [
      "/Users/mtownsend/anaconda/envs/astroconda/lib/python3.5/site-packages/ipykernel_launcher.py:23: RuntimeWarning: invalid value encountered in log10\n"
     ]
    }
   ],
   "source": [
    "# calculate rest frame g-band luminosity\n",
    "\n",
    "data_UV = open('/Users/mtownsend/eazy-photoz/inputs/OUTPUT/UV_LS_OUTPUT/UV-LS_main_output.294.rf', 'r')\n",
    "lines_UV = data_UV.readlines()[10:]\n",
    "\n",
    "distmod = []\n",
    "gflux = []\n",
    "redshift = []\n",
    "for line in lines_UV:\n",
    "    p = line.split()\n",
    "    redshift.append(float(p[1]))\n",
    "    distmod.append(float(p[2]))\n",
    "    gflux.append(float(p[5]))\n",
    "\n",
    "DM = np.array(distmod)\n",
    "Gflux = np.array(gflux)\n",
    "zspec = np.array(redshift)\n",
    "\n",
    "# K correction\n",
    "K_correct = -2.5*np.log10((1. + zspec)**-1.)\n",
    "\n",
    "# Absolute magnitude\n",
    "gMag = -2.5*np.log10(Gflux) + 25. - DM - K_correct\n",
    "\n",
    "# Calculate rest frame zmag\n",
    "\n",
    "Msun_z = 4.50\n",
    "Msun_g = 5.05\n",
    "gLum = 10.**((gMag-Msun_g)/(-2.5))\n",
    "\n",
    "log_gLum = np.log10(gLum)\n",
    "\n",
    "print(len(log_gLum))\n",
    "print(len(zspec))\n",
    "\n",
    "# calculate (g-r) and (r-z) colors\n",
    "    \n",
    "grcolor_UVLS_nocut = gmag_LS[sep_idx_UVISTA] - rmag_LS[sep_idx_UVISTA]\n",
    "rzcolor_UVLS_nocut = rmag_LS[sep_idx_UVISTA] - zmag_LS[sep_idx_UVISTA]\n",
    "zmag_UVLS_nocut = zmag_LS[sep_idx_UVISTA]\n",
    "\n",
    "grcolor_UVLS = grcolor_UVLS_nocut[np.where((zmag_UVLS_nocut <= 22.75) & (np.isnan(log_gLum) == False) & (zspec >= 0.2) & (zspec <= 0.65))]\n",
    "rzcolor_UVLS = rzcolor_UVLS_nocut[np.where((zmag_UVLS_nocut <= 22.75) & (np.isnan(log_gLum) == False) & (zspec >= 0.2) & (zspec <= 0.65))]\n",
    "zmag_UVLS = zmag_UVLS_nocut[np.where((zmag_UVLS_nocut <= 22.75) & (np.isnan(log_gLum) == False) & (zspec >= 0.2) & (zspec <= 0.65))]\n",
    "\n",
    "zspec_UVLS = zspec[np.where((zmag_UVLS_nocut <= 22.75) & (np.isnan(log_gLum) == False) & (zspec >= 0.2) & (zspec <= 0.65))]\n",
    "\n",
    "log_gLum_cut = log_gLum[np.where((zmag_UVLS_nocut <= 22.75) & (np.isnan(log_gLum) == False) & (zspec >= 0.2) & (zspec <= 0.65))]\n",
    "\n",
    "\n",
    "print(grcolor_UVLS.max())\n",
    "print(grcolor_UVLS.min())\n",
    "print()\n",
    "print(rzcolor_UVLS.max())\n",
    "print(rzcolor_UVLS.min())\n",
    "print()\n",
    "print(zmag_UVLS.max())\n",
    "print(zmag_UVLS.min())"
   ]
  },
  {
   "cell_type": "code",
   "execution_count": 7,
   "metadata": {},
   "outputs": [
    {
     "name": "stdout",
     "output_type": "stream",
     "text": [
      "<class 'numpy.ndarray'>\n",
      "<class 'numpy.ndarray'>\n",
      "(49, 49)\n",
      "(49, 49, 49)\n"
     ]
    }
   ],
   "source": [
    "# rz_edges = np.array([-1.8027077, -1.5527076721191406, -1.3027076721191406, -1.0527076721191406, -0.8027076721191406, -0.5527076721191406, -0.3027076721191406, -0.052707672119140625, 0.19729232788085938, 0.4472923278808594, 0.6972923278808594, 0.9472923278808594, 1.1972923278808594, 1.4472923278808594, 1.6972923278808594, 1.9472923278808594, 2.1972923278808594, 2.4472923278808594, 2.6972923278808594, 2.9472923278808594, 3.1972923278808594, 3.4472923278808594, 3.6972923278808594, 3.9472923278808594, 4.197292327880859, 4.447292327880859, 4.697292327880859, 4.947292327880859, 5.197292327880859, 5.447292327880859, 5.697292327880859, 5.947292327880859, 6.197292327880859, 6.447292327880859, 6.697292327880859, 6.947292327880859, 7.197292327880859, 7.447292327880859, 7.697292327880859, 7.947292327880859, 8.19729232788086, 8.44729232788086, 8.69729232788086, 8.94729232788086, 9.19729232788086, 9.44729232788086, 9.69729232788086, 9.94729232788086, 10.19729232788086, 10.44729232788086])\n",
    "# zmag_edges = np.array([13.22509, 14.025090026855466, 15.025090026855462, 16.02509002685546, 17.025090026855455, 18.02509002685545, 19.025090026855448, 20.025090026855445, 21.025, 22.025090026855437, 23.025090026855434])\n",
    "# gr_edges = np.array([-6.5846786, -6.234678649902344, -5.8846786499023445, -5.534678649902345, -5.184678649902345, -4.8346786499023455, -4.484678649902346, -4.134678649902346, -3.784678649902346, -3.434678649902346, -3.084678649902346, -2.734678649902346, -2.384678649902346, -2.0346786499023457, -1.6846786499023456, -1.3346786499023455, -0.9846786499023455, -0.6346786499023456, -0.2846786499023456, 0.06532135009765438, 0.41532135009765436, 0.7653213500976543, 1.1153213500976542, 1.4653213500976543, 1.8153213500976544, 2.1653213500976545, 2.5153213500976546, 2.8653213500976547, 3.2153213500976547, 3.565321350097655, 3.915321350097655, 4.265321350097655, 4.615321350097655, 4.965321350097654, 5.315321350097654, 5.665321350097654, 6.015321350097653, 6.365321350097653, 6.7153213500976525, 7.065321350097652, 7.415321350097652, 7.7653213500976515, 8.115321350097652, 8.465321350097652, 8.815321350097651, 9.165321350097651, 9.51532135009765, 9.86532135009765, 10.21532135009765, 10.56532135009765])\n",
    "\n",
    "# rzinit = -1.8027077\n",
    "# rzfin = 10.44729232788086\n",
    "# rz_interval = 0.5\n",
    "# rz_num = (rzfin-rzinit)/rz_interval\n",
    "# rz_edges, step = np.linspace(rzinit, rzfin, num=int(rz_num), retstep=True)\n",
    "# print(len(rz_edges))\n",
    "\n",
    "# grinit = -6.5846786\n",
    "# grfin = 10.56532135009765\n",
    "# gr_interval = 0.5\n",
    "# gr_num = (grfin-grinit)/gr_interval\n",
    "# gr_edges, step = np.linspace(grinit, grfin, num=int(gr_num), retstep=True)\n",
    "# print(len(gr_edges))\n",
    "\n",
    "# zmaginit = 13.\n",
    "# zmagfin = 23.\n",
    "# interval = 0.2\n",
    "# zmag_num = (zmagfin-zmaginit)/interval\n",
    "# zmag_edges, step = np.linspace(zmaginit, zmagfin, num=int(zmag_num), retstep=True)\n",
    "# print(type(zmag_edges))\n",
    "\n",
    "# rz_edges = np.array([-1.8027077, -1.5527076721191406, -1.3027076721191406, -1.0527076721191406, -0.8027076721191406, -0.5527076721191406, -0.3027076721191406, -0.052707672119140625, 0.19729232788085938, 0.4472923278808594, 0.6972923278808594, 0.9472923278808594, 1.1972923278808594, 1.4472923278808594, 1.6972923278808594, 1.9472923278808594, 2.1972923278808594, 2.4472923278808594, 2.6972923278808594, 2.9472923278808594, 3.1972923278808594, 3.4472923278808594, 3.6972923278808594, 3.9472923278808594, 4.197292327880859, 4.447292327880859, 4.697292327880859, 4.947292327880859, 5.197292327880859, 5.447292327880859, 5.697292327880859, 5.947292327880859, 6.197292327880859, 6.447292327880859, 6.697292327880859, 6.947292327880859, 7.197292327880859, 7.447292327880859, 7.697292327880859, 7.947292327880859, 8.19729232788086, 8.44729232788086, 8.69729232788086, 8.94729232788086, 9.19729232788086, 9.44729232788086, 9.69729232788086, 9.94729232788086, 10.19729232788086, 10.44729232788086])\n",
    "# rz_edges_new = np.array([-2.6097374,  -2.34501874, -2.08030008, -1.81558142, -1.55086276, -1.2861441, -1.02142544, -0.75670678, -0.49198812, -0.22726946,  0.03744919,  0.30216785, 0.56688651,  0.83160517,  1.09632383,  1.36104249,  1.62576115,  1.89047981, 2.15519847,  2.41991713,  2.68463579,  2.94935444,  3.2140731,   3.47879176, 3.74351042,  4.00822908,  4.27294774,  4.5376664,   4.80238506,  5.06710372, 5.33182238,  5.59654103,  5.86125969,  6.12597835,  6.39069701,  6.65541567, 6.92013433,  7.18485299,  7.44957165,  7.71429031,  7.97900897,  8.24372763, 8.50844628,  8.77316494,  9.0378836,   9.30260226,  9.56732092,  9.83203958, 10.09675824, 10.3614769])\n",
    "# # zmag_edges = np.array([13.22509, 14.025090026855466, 15.025090026855462, 16.02509002685546, 17.025090026855455, 18.02509002685545, 19.025090026855448, 20.025090026855445, 21.025, 22.025090026855437, 23.025090026855434])\n",
    "# # gr_edges = np.array([-6.5846786, -6.234678649902344, -5.8846786499023445, -5.534678649902345, -5.184678649902345, -4.8346786499023455, -4.484678649902346, -4.134678649902346, -3.784678649902346, -3.434678649902346, -3.084678649902346, -2.734678649902346, -2.384678649902346, -2.0346786499023457, -1.6846786499023456, -1.3346786499023455, -0.9846786499023455, -0.6346786499023456, -0.2846786499023456, 0.06532135009765438, 0.41532135009765436, 0.7653213500976543, 1.1153213500976542, 1.4653213500976543, 1.8153213500976544, 2.1653213500976545, 2.5153213500976546, 2.8653213500976547, 3.2153213500976547, 3.565321350097655, 3.915321350097655, 4.265321350097655, 4.615321350097655, 4.965321350097654, 5.315321350097654, 5.665321350097654, 6.015321350097653, 6.365321350097653, 6.7153213500976525, 7.065321350097652, 7.415321350097652, 7.7653213500976515, 8.115321350097652, 8.465321350097652, 8.815321350097651, 9.165321350097651, 9.51532135009765, 9.86532135009765, 10.21532135009765, 10.56532135009765])\n",
    "# gr_edges = np.array([-6.58467865, -6.21463671, -5.84459476, -5.47455282, -5.10451087, -4.73446893, -4.36442698, -3.99438504, -3.62434309, -3.25430115, -2.8842592,  -2.51421726, -2.14417532, -1.77413337, -1.40409143, -1.03404948, -0.66400754, -0.29396559, 0.07607635,  0.4461183,  0.81616024,  1.18620219,  1.55624413,  1.92628607, 2.29632802,  2.66636996,  3.03641191,  3.40645385,  3.7764958,   4.14653774, 4.51657969,  4.88662163,  5.25666358,  5.62670552,  5.99674746,  6.36678941, 6.73683135,  7.1068733,   7.47691524,  7.84695719,  8.21699913,  8.58704108, 8.95708302,  9.32712497,  9.69716691, 10.06720885, 10.4372508,  10.80729274, 11.17733469, 11.54737663])\n",
    "\n",
    "# zmaginit = 13.\n",
    "# zmagfin = 23.\n",
    "# interval = 0.2\n",
    "# zmag_num = (zmagfin-zmaginit)/interval\n",
    "# zmag_edges, step = np.linspace(zmaginit, zmagfin, num=int(zmag_num), retstep=True)\n",
    "# print(len(zmag_edges))\n",
    "# print(len(rz_edges))\n",
    "# print(len(gr_edges))\n",
    "\n",
    "# rz_edges = np.array([-4.16345787, -3.77797053, -3.39248319, -3.00699584, -2.6215085,  -2.23602116,\n",
    "#  -1.85053382, -1.46504647, -1.07955913, -0.69407179, -0.30858445,  0.0769029,\n",
    "#   0.46239024,  0.84787758,  1.23336492,  1.61885227,  2.00433961,  2.38982695,\n",
    "#   2.77531429,  3.16080163,  3.54628898,  3.93177632,  4.31726366,  4.702751,\n",
    "#   5.08823835,  5.47372569,  5.85921303,  6.24470037,  6.63018772,  7.01567506,\n",
    "#   7.4011624,   7.78664974,  8.17213709,  8.55762443,  8.94311177,  9.32859911,\n",
    "#   9.71408645, 10.0995738,  10.48506114, 10.87054848, 11.25603582, 11.64152317,\n",
    "#  12.02701051, 12.41249785, 12.79798519, 13.18347254, 13.56895988, 13.95444722,\n",
    "#  14.33993456, 14.72542191])\n",
    "\n",
    "# gr_edges = np.array([-11.76210213, -11.13148534, -10.50086854, -9.87025175, -9.23963496,\n",
    "#   -8.60901817,  -7.97840138,  -7.34778459,  -6.7171678,   -6.086551,\n",
    "#   -5.45593421,  -4.82531742,  -4.19470063,  -3.56408384,  -2.93346705,\n",
    "#   -2.30285026,  -1.67223346,  -1.04161667,  -0.41099988,   0.21961691,\n",
    "#    0.8502337,    1.48085049,   2.11146728,   2.74208407,   3.37270087,\n",
    "#    4.00331766,   4.63393445,   5.26455124,   5.89516803,   6.52578482,\n",
    "#    7.15640161,   7.78701841,   8.4176352,    9.04825199,   9.67886878,\n",
    "#   10.30948557,  10.94010236,  11.57071915,  12.20133595,  12.83195274,\n",
    "#   13.46256953,  14.09318632,  14.72380311,  15.3544199,   15.98503669,\n",
    "#   16.61565349,  17.24627028,  17.87688707,  18.50750386,  19.13812065])\n",
    "\n",
    "# zmag_edges = np.array([ 9.63742733,  9.90809207, 10.17875681, 10.44942155, 10.72008629, 10.99075103,\n",
    "#  11.26141577, 11.53208051, 11.80274525, 12.07341,    12.34407474, 12.61473948,\n",
    "#  12.88540422, 13.15606896, 13.4267337,  13.69739844, 13.96806318, 14.23872792,\n",
    "#  14.50939266, 14.7800574,  15.05072214, 15.32138688, 15.59205162, 15.86271636,\n",
    "#  16.1333811,  16.40404584, 16.67471059, 16.94537533, 17.21604007, 17.48670481,\n",
    "#  17.75736955, 18.02803429, 18.29869903, 18.56936377, 18.84002851, 19.11069325,\n",
    "#  19.38135799, 19.65202273, 19.92268747, 20.19335221, 20.46401695, 20.73468169,\n",
    "#  21.00534643, 21.27601118, 21.54667592, 21.81734066, 22.0880054,  22.35867014,\n",
    "#  22.62933488, 22.89999962])\n",
    "\n",
    "rz_edges = np.array([-1.8027077, -1.5527076721191406, -1.3027076721191406, -1.0527076721191406, -0.8027076721191406, -0.5527076721191406, -0.3027076721191406, -0.052707672119140625, 0.19729232788085938, 0.4472923278808594, 0.6972923278808594, 0.9472923278808594, 1.1972923278808594, 1.4472923278808594, 1.6972923278808594, 1.9472923278808594, 2.1972923278808594, 2.4472923278808594, 2.6972923278808594, 2.9472923278808594, 3.1972923278808594, 3.4472923278808594, 3.6972923278808594, 3.9472923278808594, 4.197292327880859, 4.447292327880859, 4.697292327880859, 4.947292327880859, 5.197292327880859, 5.447292327880859, 5.697292327880859, 5.947292327880859, 6.197292327880859, 6.447292327880859, 6.697292327880859, 6.947292327880859, 7.197292327880859, 7.447292327880859, 7.697292327880859, 7.947292327880859, 8.19729232788086, 8.44729232788086, 8.69729232788086, 8.94729232788086, 9.19729232788086, 9.44729232788086, 9.69729232788086, 9.94729232788086, 10.19729232788086, 10.44729232788086])\n",
    "# zmag_edges = np.array([13.22509, 14.025090026855466, 15.025090026855462, 16.02509002685546, 17.025090026855455, 18.02509002685545, 19.025090026855448, 20.025090026855445, 21.025, 22.025090026855437, 23.025090026855434])\n",
    "gr_edges = np.array([-6.5846786, -6.234678649902344, -5.8846786499023445, -5.534678649902345, -5.184678649902345, -4.8346786499023455, -4.484678649902346, -4.134678649902346, -3.784678649902346, -3.434678649902346, -3.084678649902346, -2.734678649902346, -2.384678649902346, -2.0346786499023457, -1.6846786499023456, -1.3346786499023455, -0.9846786499023455, -0.6346786499023456, -0.2846786499023456, 0.06532135009765438, 0.41532135009765436, 0.7653213500976543, 1.1153213500976542, 1.4653213500976543, 1.8153213500976544, 2.1653213500976545, 2.5153213500976546, 2.8653213500976547, 3.2153213500976547, 3.565321350097655, 3.915321350097655, 4.265321350097655, 4.615321350097655, 4.965321350097654, 5.315321350097654, 5.665321350097654, 6.015321350097653, 6.365321350097653, 6.7153213500976525, 7.065321350097652, 7.415321350097652, 7.7653213500976515, 8.115321350097652, 8.465321350097652, 8.815321350097651, 9.165321350097651, 9.51532135009765, 9.86532135009765, 10.21532135009765, 10.56532135009765])\n",
    "\n",
    "zmaginit = 13.\n",
    "zmagfin = 23.\n",
    "interval = 0.2\n",
    "zmag_num = (zmagfin-zmaginit)/interval\n",
    "zmag_edges, step = np.linspace(zmaginit, zmagfin, num=int(zmag_num), retstep=True)\n",
    "print(type(zmag_edges))\n",
    "\n",
    "Hstar2D, rz_nouse, gr_nouse = np.histogram2d(rzcolor_UVLS, grcolor_UVLS, bins=(rz_edges, gr_edges), density=False)\n",
    "Hstar3D, nouse_edges = np.histogramdd((rzcolor_UVLS, grcolor_UVLS, zmag_UVLS), bins=(rz_edges, gr_edges, zmag_edges), density=False)\n",
    "\n",
    "print(type(Hstar2D))\n",
    "print(Hstar2D.shape)\n",
    "print(Hstar3D.shape)\n",
    "\n",
    "# zinit = 0.2\n",
    "# zfin = 0.65\n",
    "# interval = 0.15\n",
    "# # num = (zfin-zinit)/interval\n",
    "# num = 4. \n",
    "# zrange, step = np.linspace(zinit, zfin, num=int(num), retstep=True)\n",
    "# print(zrange)\n",
    "\n"
   ]
  },
  {
   "cell_type": "code",
   "execution_count": 38,
   "metadata": {},
   "outputs": [
    {
     "name": "stdout",
     "output_type": "stream",
     "text": [
      "[0.2  0.35 0.5  0.65]\n"
     ]
    }
   ],
   "source": [
    "zinit = 0.2\n",
    "zfin = 0.65\n",
    "interval = 0.15\n",
    "# num = (zfin-zinit)/interval\n",
    "num = 4. \n",
    "zrange, step = np.linspace(zinit, zfin, num=int(num), retstep=True)\n",
    "print(zrange)"
   ]
  },
  {
   "cell_type": "code",
   "execution_count": 39,
   "metadata": {},
   "outputs": [
    {
     "name": "stdout",
     "output_type": "stream",
     "text": [
      "0\n",
      "1\n",
      "2\n",
      "(3, 49, 49)\n"
     ]
    }
   ],
   "source": [
    "medianzmag_slice = []\n",
    "medianzmag_upto = []\n",
    "medianzmag = [] \n",
    "for i in range(len(zrange)-1):\n",
    "    x1 = rzcolor_UVLS[np.where((zspec_UVLS > zrange[i]) & (zspec_UVLS <= zrange[i+1]))]\n",
    "#     x2 = rzcolor_UVLS[np.where(zspec_UVLS <= zrange[i+1])]\n",
    "#     print(len(x))\n",
    "    y1 = grcolor_UVLS[np.where((zspec_UVLS > zrange[i]) & (zspec_UVLS <= zrange[i+1]))]\n",
    "#     y2 = grcolor_UVLS[np.where(zspec_UVLS <= zrange[i+1])]\n",
    "#     print(len(y))\n",
    "    z1 = zmag_UVLS[np.where((zspec_UVLS > zrange[i]) & (zspec_UVLS <= zrange[i+1]))]\n",
    "#     z2 = zmag_UVLS[np.where(zspec_UVLS <= zrange[i+1])]\n",
    "#     print(len(z))\n",
    "    lum1 = log_gLum_cut[np.where((zspec_UVLS > zrange[i]) & (zspec_UVLS <= zrange[i+1]))]\n",
    "#     lum2 = log_gLum_cut[np.where(zspec_UVLS <= zrange[i+1])]\n",
    "#     print(len(lum))\n",
    "#     medzmag = median_zmag(Hstar2D, 9.5, lum1, x1, y1, z1, rz_edges, gr_edges)\n",
    "#     medzmag = median_zmag(Hstar2D, 9.93, lum1, x1, y1, z1, rz_edges, gr_edges)\n",
    "    medzmag = median_zmag(Hstar2D, 10.27, lum1, x1, y1, z1, rz_edges, gr_edges)\n",
    "    medianzmag.append(medzmag)\n",
    "#     medianzmag_upto.append(medzmag_upto)\n",
    "    print(i)\n",
    "    \n",
    "# medzmag_high= median_zmag(Hstar2D, 10.46, log_gLum_cut, rzcolor_UVLS, grcolor_UVLS, zmag_UVLS, rz_edges_new, gr_edges)\n",
    "# medzmag_low = median_zmag(Hstar2D, 9.7, log_gLum_cut, rzcolor_UVLS, grcolor_UVLS, zmag_UVLS, rz_edges_new, gr_edges)\n",
    "# medzmag_mid1 = median_zmag(Hstar2D, 9.84, log_gLum_cut, rzcolor_UVLS, grcolor_UVLS, zmag_UVLS, rz_edges_new, gr_edges)\n",
    "# medzmag_mid2 = median_zmag(Hstar2D, 10.24, log_gLum_cut, rzcolor_UVLS, grcolor_UVLS, zmag_UVLS, rz_edges_new, gr_edges)\n",
    "\n",
    "print(np.asarray(medianzmag).shape)\n"
   ]
  },
  {
   "cell_type": "code",
   "execution_count": 40,
   "metadata": {},
   "outputs": [
    {
     "name": "stdout",
     "output_type": "stream",
     "text": [
      "(3, 49, 49)\n",
      "(3, 49, 49)\n"
     ]
    }
   ],
   "source": [
    "np.savez('/Users/mtownsend/Desktop/highz_medzmag-3matrices-EDR.npz', medzmag=medianzmag)\n",
    "\n",
    "print(np.asarray(medianzmag).shape)\n",
    "data_zmag = np.load('/Users/mtownsend/Desktop/highz_medzmag-3matrices-EDR.npz')\n",
    "zmag = data_zmag['medzmag']\n",
    "print(zmag.shape)"
   ]
  },
  {
   "cell_type": "code",
   "execution_count": 41,
   "metadata": {},
   "outputs": [
    {
     "name": "stdout",
     "output_type": "stream",
     "text": [
      "0\n",
      "1\n",
      "2\n",
      "(3, 49, 49, 49)\n"
     ]
    }
   ],
   "source": [
    "smatrix_upto = []\n",
    "smatrix_slice = []\n",
    "smatrix = []\n",
    "for i in range(len(zmag)):\n",
    "    masks = selection_matrix(Hstar3D, zmag[i], zmag_edges)\n",
    "    smatrix.append(masks)\n",
    "    print(i)\n",
    "\n",
    "\n",
    "# smatrix_high = selection_matrix(Hstar3D, medzmag_high, zmag_edges)\n",
    "# smatrix_low = selection_matrix(Hstar3D, medzmag_low, zmag_edges)\n",
    "# smatrix_mid1 = selection_matrix(Hstar3D, medzmag_mid1, zmag_edges)\n",
    "# smatrix_mid2 = selection_matrix(Hstar3D, medzmag_mid2, zmag_edges)\n",
    "\n",
    "print(np.asarray(smatrix).shape)"
   ]
  },
  {
   "cell_type": "code",
   "execution_count": 42,
   "metadata": {},
   "outputs": [
    {
     "name": "stdout",
     "output_type": "stream",
     "text": [
      "(3, 49, 49, 49)\n",
      "(3, 49, 49, 49)\n"
     ]
    }
   ],
   "source": [
    "np.savez('/Users/mtownsend/Desktop/highz_smatrix-3matrices-EDR.npz', smatrix=smatrix)\n",
    "\n",
    "print(np.asarray(smatrix).shape)\n",
    "data_smatrix = np.load('/Users/mtownsend/Desktop/highz_smatrix-3matrices-EDR.npz')\n",
    "smatrix = data_smatrix['smatrix']\n",
    "print(smatrix.shape)"
   ]
  },
  {
   "cell_type": "code",
   "execution_count": 43,
   "metadata": {},
   "outputs": [
    {
     "data": {
      "image/png": "[encoded data removed]",
      "text/plain": [
       "<Figure size 720x720 with 2 Axes>"
      ]
     },
     "metadata": {
      "needs_background": "light"
     },
     "output_type": "display_data"
    },
    {
     "data": {
      "image/png": "[encoded data removed]",
      "text/plain": [
       "<Figure size 720x720 with 2 Axes>"
      ]
     },
     "metadata": {
      "needs_background": "light"
     },
     "output_type": "display_data"
    },
    {
     "data": {
      "image/png": "[encoded data removed]",
      "text/plain": [
       "<Figure size 720x720 with 2 Axes>"
      ]
     },
     "metadata": {
      "needs_background": "light"
     },
     "output_type": "display_data"
    },
    {
     "data": {
      "image/png": "[encoded data removed]",
      "text/plain": [
       "<Figure size 720x720 with 2 Axes>"
      ]
     },
     "metadata": {
      "needs_background": "light"
     },
     "output_type": "display_data"
    },
    {
     "data": {
      "image/png": "[encoded data removed]",
      "text/plain": [
       "<Figure size 720x720 with 2 Axes>"
      ]
     },
     "metadata": {
      "needs_background": "light"
     },
     "output_type": "display_data"
    },
    {
     "data": {
      "image/png": "[encoded data removed]",
      "text/plain": [
       "<Figure size 720x720 with 2 Axes>"
      ]
     },
     "metadata": {
      "needs_background": "light"
     },
     "output_type": "display_data"
    }
   ],
   "source": [
    "# data_smatrix = np.load('/Users/mtownsend/Desktop/highz_smatrix-3matrices-newbins.npz')\n",
    "data_smatrix_og = np.load('/Users/mtownsend/Desktop/highz_smatrix-3matrices-v2.npz')\n",
    "data_matrix = np.load('/Users/mtownsend/Desktop/highz_smatrix-3matrices-EDR.npz')\n",
    "\n",
    "\n",
    "# print(data_smatrix)\n",
    "\n",
    "mask = data_smatrix['smatrix']\n",
    "mask0 = mask[0]\n",
    "mask1 = mask[1]\n",
    "mask2 = mask[2]\n",
    "# mask1 = data_smatrix['smatrix1']\n",
    "# mask2 = data_smatrix['smatrix2']\n",
    "# mask3 = data_smatrix['smatrix3']\n",
    "# mask4 = data_smatrix['smatrix4']\n",
    "\n",
    "mask_og = data_smatrix_og['smatrix']\n",
    "# print(mask_og.shape)\n",
    "mask0_og = mask_og[0]\n",
    "mask1_og = mask_og[1]\n",
    "mask2_og = mask_og[2]\n",
    "\n",
    "# print(mask0.shape)\n",
    "# print(mask1.shape)\n",
    "# print(mask2.shape)\n",
    "\n",
    "# mega_mask = mask0 + mask1 + mask2 + mask3 + mask4\n",
    "\n",
    "projectionMask0 = mask0[:, :, :].sum(axis=2)\n",
    "projectionMask1 = mask1[:, :, :].sum(axis=2)\n",
    "projectionMask2 = mask2[:, :, :].sum(axis=2)\n",
    "# projectionMask3 = mask3[:, :, :].sum(axis=2)\n",
    "# projectionMask4 = mask4[:, :, :].sum(axis=2)\n",
    "\n",
    "projectionMask0_og = mask0_og[:, :, :].sum(axis=2)\n",
    "projectionMask1_og = mask1_og[:, :, :].sum(axis=2)\n",
    "projectionMask2_og = mask2_og[:, :, :].sum(axis=2)\n",
    "\n",
    "\n",
    "# print(projectionMask0.shape)\n",
    "# print(projectionMask1.shape)\n",
    "# print(projectionMask2.shape)\n",
    "\n",
    "# projectionMegaMask = mega_mask[:, :, :].sum(axis=2)\n",
    "\n",
    "plt.figure(figsize=(10,10))\n",
    "ax = plt.gca()\n",
    "im = ax.imshow(projectionMask0, origin='lower', extent=(gr_edges.min(), gr_edges.max(), rz_edges.min(), rz_edges.max()))\n",
    "divider = make_axes_locatable(ax)\n",
    "cax = divider.append_axes('right', size='5%', pad=0.05)\n",
    "plt.colorbar(im, cax=cax)\n",
    "ax.set_title(\"Selection Matrix {0:.2f} < z < {1:.2f}\".format(zrange[0], zrange[1]), fontsize=20, pad=20)\n",
    "# ax.set_title(\"Selection Matrix\", fontsize=20, pad=20)\n",
    "ax.set_xlabel('(g-r)',fontsize=20)\n",
    "ax.set_ylabel('(r-z)',fontsize=20)\n",
    "# plt.savefig('/Users/mtownsend/Desktop/MeetingPlots/06Aug2020/low-z-selection_matrix_{0:.2f}-{1:.2f}.pdf'.format(zrange[4], zrange[5]))   \n",
    "plt.show()\n",
    "\n",
    "plt.figure(figsize=(10,10))\n",
    "ax = plt.gca()\n",
    "im = ax.imshow(projectionMask0_og, origin='lower', extent=(gr_edges.min(), gr_edges.max(), rz_edges.min(), rz_edges.max()))\n",
    "divider = make_axes_locatable(ax)\n",
    "cax = divider.append_axes('right', size='5%', pad=0.05)\n",
    "plt.colorbar(im, cax=cax)\n",
    "ax.set_title(\"Selection Matrix {0:.2f} < z < {1:.2f}\".format(zrange[0], zrange[1]), fontsize=20, pad=20)\n",
    "# ax.set_title(\"Selection Matrix\", fontsize=20, pad=20)\n",
    "ax.set_xlabel('(g-r)',fontsize=20)\n",
    "ax.set_ylabel('(r-z)',fontsize=20)\n",
    "# plt.savefig('/Users/mtownsend/Desktop/MeetingPlots/06Aug2020/low-z-selection_matrix_{0:.2f}-{1:.2f}.pdf'.format(zrange[4], zrange[5]))   \n",
    "plt.show()\n",
    "\n",
    "plt.figure(figsize=(10,10))\n",
    "ax = plt.gca()\n",
    "im = ax.imshow(projectionMask1, origin='lower', extent=(gr_edges.min(), gr_edges.max(), rz_edges.min(), rz_edges.max()))\n",
    "divider = make_axes_locatable(ax)\n",
    "cax = divider.append_axes('right', size='5%', pad=0.05)\n",
    "plt.colorbar(im, cax=cax)\n",
    "ax.set_title(\"Selection Matrix {0:.2f} < z < {1:.2f}\".format(zrange[1], zrange[2]), fontsize=20, pad=20)\n",
    "# ax.set_title(\"Selection Matrix\", fontsize=20, pad=20)\n",
    "ax.set_xlabel('(g-r)',fontsize=20)\n",
    "ax.set_ylabel('(r-z)',fontsize=20)\n",
    "# plt.savefig('/Users/mtownsend/Desktop/MeetingPlots/06Aug2020/low-z-selection_matrix_{0:.2f}-{1:.2f}.pdf'.format(zrange[4], zrange[5]))   \n",
    "plt.show()\n",
    "\n",
    "plt.figure(figsize=(10,10))\n",
    "ax = plt.gca()\n",
    "im = ax.imshow(projectionMask1_og, origin='lower', extent=(gr_edges.min(), gr_edges.max(), rz_edges.min(), rz_edges.max()))\n",
    "divider = make_axes_locatable(ax)\n",
    "cax = divider.append_axes('right', size='5%', pad=0.05)\n",
    "plt.colorbar(im, cax=cax)\n",
    "ax.set_title(\"Selection Matrix {0:.2f} < z < {1:.2f}\".format(zrange[1], zrange[2]), fontsize=20, pad=20)\n",
    "# ax.set_title(\"Selection Matrix\", fontsize=20, pad=20)\n",
    "ax.set_xlabel('(g-r)',fontsize=20)\n",
    "ax.set_ylabel('(r-z)',fontsize=20)\n",
    "# plt.savefig('/Users/mtownsend/Desktop/MeetingPlots/06Aug2020/low-z-selection_matrix_{0:.2f}-{1:.2f}.pdf'.format(zrange[4], zrange[5]))   \n",
    "plt.show()\n",
    "\n",
    "plt.figure(figsize=(10,10))\n",
    "ax = plt.gca()\n",
    "im = ax.imshow(projectionMask2, origin='lower', extent=(gr_edges.min(), gr_edges.max(), rz_edges.min(), rz_edges.max()))\n",
    "divider = make_axes_locatable(ax)\n",
    "cax = divider.append_axes('right', size='5%', pad=0.05)\n",
    "plt.colorbar(im, cax=cax)\n",
    "ax.set_title(\"Selection Matrix {0:.2f} < z < {1:.2f}\".format(zrange[1], zrange[2]), fontsize=20, pad=20)\n",
    "# ax.set_title(\"Selection Matrix\", fontsize=20, pad=20)\n",
    "ax.set_xlabel('(g-r)',fontsize=20)\n",
    "ax.set_ylabel('(r-z)',fontsize=20)\n",
    "# plt.savefig('/Users/mtownsend/Desktop/MeetingPlots/06Aug2020/low-z-selection_matrix_{0:.2f}-{1:.2f}.pdf'.format(zrange[4], zrange[5]))   \n",
    "plt.show()\n",
    "\n",
    "plt.figure(figsize=(10,10))\n",
    "ax = plt.gca()\n",
    "im = ax.imshow(projectionMask2_og, origin='lower', extent=(gr_edges.min(), gr_edges.max(), rz_edges.min(), rz_edges.max()))\n",
    "divider = make_axes_locatable(ax)\n",
    "cax = divider.append_axes('right', size='5%', pad=0.05)\n",
    "plt.colorbar(im, cax=cax)\n",
    "ax.set_title(\"Selection Matrix {0:.2f} < z < {1:.2f}\".format(zrange[1], zrange[2]), fontsize=20, pad=20)\n",
    "# ax.set_title(\"Selection Matrix\", fontsize=20, pad=20)\n",
    "ax.set_xlabel('(g-r)',fontsize=20)\n",
    "ax.set_ylabel('(r-z)',fontsize=20)\n",
    "# plt.savefig('/Users/mtownsend/Desktop/MeetingPlots/06Aug2020/low-z-selection_matrix_{0:.2f}-{1:.2f}.pdf'.format(zrange[4], zrange[5]))   \n",
    "plt.show()\n"
   ]
  },
  {
   "cell_type": "code",
   "execution_count": null,
   "metadata": {},
   "outputs": [],
   "source": []
  }
 ],
 "metadata": {
  "kernelspec": {
   "display_name": "Python 3",
   "language": "python",
   "name": "python3"
  },
  "language_info": {
   "codemirror_mode": {
    "name": "ipython",
    "version": 3
   },
   "file_extension": ".py",
   "mimetype": "text/x-python",
   "name": "python",
   "nbconvert_exporter": "python",
   "pygments_lexer": "ipython3",
   "version": "3.5.5"
  }
 },
 "nbformat": 4,
 "nbformat_minor": 2
}
