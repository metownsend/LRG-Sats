{
 "cells": [
  {
   "cell_type": "code",
   "execution_count": 28,
   "metadata": {},
   "outputs": [],
   "source": [
    "from astropy.io import fits\n",
    "from astropy.table import Table\n",
    "import numpy as np\n",
    "import matplotlib.pylab as plt \n",
    "import matplotlib.lines as mlines\n",
    "from matplotlib.legend import Legend\n",
    "from pythonds.basic.stack import Stack\n",
    "from math import *\n",
    "from sklearn.neighbors import KDTree\n",
    "from lrg_plot_functions import *\n",
    "from lrg_sum_functions import *\n",
    "from cosmo_Calc import *\n",
    "from divideByTwo import *\n",
    "from read_data import *\n",
    "from nearNeighbors import *\n",
    "from scipy import stats\n",
    "from astropy import stats\n",
    "import healpy as hp\n",
    "from localBKG_and_interlopersHEALPix import *\n",
    "# import healpy as hpy\n",
    "from makeCutoutTableFunc import *\n",
    "from plotHistogramProjections3D import *"
   ]
  },
  {
   "cell_type": "code",
   "execution_count": 25,
   "metadata": {},
   "outputs": [
    {
     "name": "stdout",
     "output_type": "stream",
     "text": [
      "100100001000000\n",
      "0b10110\n"
     ]
    }
   ],
   "source": [
    "# Function to convert decimal to binary\n",
    "# import sys\n",
    "# __init__.py\n",
    "#!/usr/bin/env python\n",
    "\n",
    "def divideBy2(decNumber):\n",
    "\n",
    "\tfrom pythonds.basic.stack import Stack\n",
    "\timport numpy as np\n",
    "\n",
    "\tnp.vectorize(decNumber)  \n",
    "\tremstack = Stack()\n",
    "\t\n",
    "\tif decNumber == 0: return \"0\"\n",
    "\t\n",
    "\twhile decNumber > 0:\n",
    "\t\trem = decNumber % 2\n",
    "\t\tremstack.push(rem)\n",
    "\t\tdecNumber = decNumber // 2\n",
    "\t\t\n",
    "\tbinString = \"\"\n",
    "\twhile not remstack.isEmpty():\n",
    "\t\tbinString = binString + str(remstack.pop())\n",
    "\t\t\t\n",
    "\treturn binString\n",
    "\n",
    "binary = divideBy2(18496)\n",
    "bi = bin(22)\n",
    "print(binary)\n",
    "print(bi)\n",
    "\n"
   ]
  },
  {
   "cell_type": "code",
   "execution_count": 27,
   "metadata": {},
   "outputs": [
    {
     "name": "stdout",
     "output_type": "stream",
     "text": [
      "110\n",
      "2\n"
     ]
    }
   ],
   "source": [
    "bi = bi[2:]\n",
    "print(bi)\n",
    "\n",
    "print(22 & 2**1)"
   ]
  },
  {
   "cell_type": "code",
   "execution_count": 29,
   "metadata": {},
   "outputs": [],
   "source": [
    "hdu_north = fits.open('/Users/mtownsend/anaconda/Data/survey-dr8-north-specObj-dr14.fits') # this matches SDSS LRGs to MzLS/BASS;\n",
    "                                                                 # ONLY GIVES SOURCES THAT ARE IN SDSS and LEGACY SURVEYS\n",
    "hdu_south = fits.open('//Users/mtownsend/anaconda/Data/survey-dr8-south-specObj-dr14.fits')# this matches SDSS LRGs to DECaLS;\n",
    "                                                                 # ONLY GIVES SOURCES THAT ARE IN SDSS and LEGACY SURVEYS\n",
    "hdu_sdss = fits.open('/Users/mtownsend/anaconda/Data/specObj-dr14.fits') # this is SDSS redshifts etc for LRGs\n",
    "hdu_sweep1 = fits.open('/Users/mtownsend/anaconda/Data/sweep-240p005-250p010-dr8.fits') # this is one sweep file of the DECaLS data\n",
    "hdu_sweep2 = fits.open('/Users/mtownsend/anaconda/Data/sweep-240p010-250p015-dr8.fits') # this is one sweep file of the DECaLS data\n",
    "\n",
    "\n",
    "SpecObj_data_north = hdu_north[1].data\n",
    "SpecObj_data_south = hdu_south[1].data\n",
    "SDSS_data = hdu_sdss[1].data\n",
    "DECaLS_data1 = hdu_sweep1[1].data\n",
    "DECaLS_data2 = hdu_sweep2[1].data"
   ]
  },
  {
   "cell_type": "code",
   "execution_count": 31,
   "metadata": {},
   "outputs": [
    {
     "name": "stdout",
     "output_type": "stream",
     "text": [
      "done reading in SDSS\n"
     ]
    }
   ],
   "source": [
    " # Read in data from SDSS file\n",
    "\n",
    "# Redshift of galaxies according to sdss\n",
    "z = []\n",
    "z = SDSS_data.field('Z')\n",
    "\n",
    "# Unique ID for sources in SDSS\n",
    "specobjid = []\n",
    "specobjid = SDSS_data.field('SPECOBJID')\n",
    "\n",
    "# Class of object\n",
    "gal_class = []\n",
    "gal_class = SDSS_data.field('CLASS')\n",
    "\n",
    "# What survey the data is from\n",
    "survey = []\n",
    "survey = SDSS_data.field('SURVEY')\n",
    "\n",
    "# SPECPRIMARY; set to 1 for primary observation of object, 0 otherwise\n",
    "spec = []\n",
    "spec = SDSS_data.field('SPECPRIMARY')\n",
    "\n",
    "# Bitmask of spectroscopic warning values; need set to 0\n",
    "zwarn_noqso = []\n",
    "zwarn_noqso = SDSS_data.field('ZWARNING_NOQSO')\n",
    "\n",
    "# Spectroscopic classification for certain redshift?\n",
    "class_noqso = []\n",
    "class_noqso = SDSS_data.field('CLASS_NOQSO')\n",
    "\n",
    "# Array for LRG targets\n",
    "targets = []\n",
    "targets = SDSS_data.field('BOSS_TARGET1')\n",
    "\n",
    "# Array for tile number (cut for LOWZ LRGs is tile >= 10324)\n",
    "tile = []\n",
    "tile = SDSS_data.field('TILE')\n",
    "\n",
    "# Array for chunk number (cut for CMASS is chunk != 'boss1' or 'boss2'\n",
    "chunk = []\n",
    "chunk = SDSS_data.field('CHUNK')\n",
    "\n",
    "print('done reading in SDSS')\n"
   ]
  },
  {
   "cell_type": "code",
   "execution_count": 56,
   "metadata": {},
   "outputs": [
    {
     "name": "stdout",
     "output_type": "stream",
     "text": [
      "4851200\n",
      "1406221\n",
      "4851200\n"
     ]
    }
   ],
   "source": [
    "lrg = []\n",
    "for i in range(len(targets)):\n",
    "    if ((targets[i] & 2**0)!=0 or (targets[i] & 2**1)!=0):\n",
    "        lrg.append(1)\n",
    "    else:\n",
    "        lrg.append(0)\n",
    "\n",
    "lrg = np.array(lrg)\n",
    "print(len(lrg))\n",
    "print(len(lrg[np.where(lrg != 0)]))\n",
    "\n",
    "print(len(targets))\n",
    "\n",
    "# print(targets[1844200] & 2**0)\n",
    "# print(targets[1844200] & 2**1)"
   ]
  },
  {
   "cell_type": "code",
   "execution_count": null,
   "metadata": {},
   "outputs": [],
   "source": []
  }
 ],
 "metadata": {
  "kernelspec": {
   "display_name": "Python 3",
   "language": "python",
   "name": "python3"
  },
  "language_info": {
   "codemirror_mode": {
    "name": "ipython",
    "version": 3
   },
   "file_extension": ".py",
   "mimetype": "text/x-python",
   "name": "python",
   "nbconvert_exporter": "python",
   "pygments_lexer": "ipython3",
   "version": "3.5.5"
  }
 },
 "nbformat": 4,
 "nbformat_minor": 2
}
