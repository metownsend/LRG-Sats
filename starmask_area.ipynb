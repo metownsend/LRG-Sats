{
 "cells": [
  {
   "cell_type": "code",
   "execution_count": 1,
   "metadata": {},
   "outputs": [],
   "source": [
    "from astropy.io import fits\n",
    "from astropy.table import Table\n",
    "import numpy as np\n",
    "import matplotlib.pylab as plt \n",
    "import matplotlib.lines as mlines\n",
    "from matplotlib.legend import Legend\n",
    "from pythonds.basic.stack import Stack\n",
    "from math import *\n",
    "from sklearn.neighbors import KDTree\n",
    "from lrg_plot_functions import *\n",
    "from lrg_sum_functions import *\n",
    "from cosmo_Calc import *\n",
    "from divideByTwo import *\n",
    "from read_data import *\n",
    "from nearNeighbors import *\n",
    "from scipy import stats\n",
    "from astropy import stats\n",
    "import healpy as hp\n",
    "from localBKG_and_interlopersHEALPix import *\n",
    "# import healpy as hpy\n",
    "from makeCutoutTableFunc import *\n",
    "from plotHistogramProjections3D import *\n",
    "from read_bricks import *\n",
    "from mpl_toolkits.axes_grid1 import make_axes_locatable\n",
    "import random"
   ]
  },
  {
   "cell_type": "code",
   "execution_count": 2,
   "metadata": {},
   "outputs": [],
   "source": [
    "# read in randoms files\n",
    "\n",
    "hdu0 = fits.open('/Users/mtownsend/anaconda/Data/randoms-1-0.fits')\n",
    "# hdu1 = fits.open('/Users/mtownsend/anaconda/Data/randoms-1-1.fits')\n",
    "# hdu2 = fits.open('/Users/mtownsend/anaconda/Data/randoms-1-2.fits')\n",
    "# hdu3 = fits.open('/Users/mtownsend/anaconda/Data/randoms-1-3.fits')\n",
    "# hdu4 = fits.open('/Users/mtownsend/anaconda/Data/randoms-1-  .fits')\n",
    "# hdu5 = fits.open('/Users/mtownsend/anaconda/Data/randoms-1-  .fits')\n",
    "# hdu6 = fits.open('/Users/mtownsend/anaconda/Data/randoms-1-  .fits')\n",
    "# hdu7 = fits.open('/Users/mtownsend/anaconda/Data/randoms-1-7.fits')\n",
    "# hdu8 = fits.open('/Users/mtownsend/anaconda/Data/randoms-1-  .fits')\n",
    "# hdu9 = fits.open('/Users/mtownsend/anaconda/Data/randoms-1-  .fits')\n",
    "# hdu10 = fits.open('/Users/mtownsend/anaconda/Data/randoms-1-10.fits')\n",
    "# hdu11 = fits.open('/Users/mtownsend/anaconda/Data/randoms-1-11.fits')\n",
    "# hdu12 = fits.open('/Users/mtownsend/anaconda/Data/randoms-1-  .fits')\n",
    "# hdu13 = fits.open('/Users/mtownsend/anaconda/Data/randoms-1-  .fits')\n",
    "# hdu14 = fits.open('/Users/mtownsend/anaconda/Data/randoms-1-  .fits')\n",
    "# hdu15 = fits.open('/Users/mtownsend/anaconda/Data/randoms-1-15.fits')\n",
    "# hdu16 = fits.open('/Users/mtownsend/anaconda/Data/randoms-1-  .fits')\n",
    "# hdu17 = fits.open('/Users/mtownsend/anaconda/Data/randoms-1-  .fits')\n",
    "# hdu18 = fits.open('/Users/mtownsend/anaconda/Data/randoms-1-  .fits')\n",
    "# hdu19 = fits.open('/Users/mtownsend/anaconda/Data/randoms-1-  .fits')\n",
    "\n",
    "\n",
    "data0 = hdu0[1].data\n",
    "# data1 = hdu1[1].data\n",
    "# data2 = hdu2[1].data\n",
    "# data3 = hdu3[1].data\n",
    "# data4 = hdu4[1].data\n",
    "# data5 = hdu5[1].data\n",
    "# data6 = hdu6[1].data\n",
    "# data7 = hdu7[1].data\n",
    "# data8 = hdu8[1].data\n",
    "# data9 = hdu9[1].data\n",
    "# data10 = hdu10[1].data\n",
    "# data11 = hdu11[1].data\n",
    "# data12 = hdu12[1].data\n",
    "# data13 = hdu13[1].data\n",
    "# data14 = hdu14[1].data\n",
    "# data15 = hdu15[1].data\n",
    "# data16 = hdu16[1].data\n",
    "# data17 = hdu17[1].data\n",
    "# data18 = hdu18[1].data\n",
    "# data19 = hdu19[1].data"
   ]
  },
  {
   "cell_type": "code",
   "execution_count": 3,
   "metadata": {},
   "outputs": [],
   "source": [
    "# create ra/dec arrays with only sources with relevant maskbits selected\n",
    "\n",
    "ra0_all = []\n",
    "dec0_ALL = []\n",
    "ra0_ALL = data0.field('RA')\n",
    "dec0_ALL = data0.field('DEC')\n",
    "\n",
    "maskbits0_ALL = []\n",
    "maskbits0_ALL = data0.field('maskbits')\n",
    "\n",
    "hpixel0_ALL = []\n",
    "hpixel0_ALL = data0.field('HPXPIXEL')\n",
    "\n",
    "\n",
    "# ra1_all = []\n",
    "# dec1_ALL = []\n",
    "# ra1_ALL = data1.field('RA')\n",
    "# dec1_ALL = data1.field('DEC')\n",
    "\n",
    "\n",
    "# ra2_all = []\n",
    "# dec2_ALL = []\n",
    "# ra2_ALL = data2.field('RA')\n",
    "# dec2_ALL = data2.field('DEC')\n",
    "\n",
    "\n",
    "# ra3_all = []\n",
    "# dec3_ALL = []\n",
    "# ra3_ALL = data3.field('RA')\n",
    "# dec3_ALL = data3.field('DEC')\n",
    "\n",
    "\n",
    "# ra4_all = []\n",
    "# dec4_ALL = []\n",
    "# ra4_ALL = data4.field('RA')\n",
    "# dec4_ALL = data4.field('DEC')\n",
    "\n",
    "\n",
    "# ra5_all = []\n",
    "# dec5_ALL = []\n",
    "# ra5_ALL = data5.field('RA')\n",
    "# dec5_ALL = data5.field('DEC')\n",
    "\n",
    "\n",
    "# ra6_all = []\n",
    "# dec6_ALL = []\n",
    "# ra6_ALL = data6.field('RA')\n",
    "# dec6_ALL = data6.field('DEC')\n",
    "\n",
    "\n",
    "# ra7_all = []\n",
    "# dec7_ALL = []\n",
    "# ra7_ALL = data7.field('RA')\n",
    "# dec7_ALL = data7.field('DEC')\n",
    "\n",
    "\n",
    "# ra8_all = []\n",
    "# dec8_ALL = []\n",
    "# ra8_ALL = data8.field('RA')\n",
    "# dec8_ALL = data8.field('DEC')\n",
    "\n",
    "\n",
    "# ra9_all = []\n",
    "# dec9_ALL = []\n",
    "# ra9_ALL = data9.field('RA')\n",
    "# dec9_ALL = data9.field('DEC')\n",
    "\n",
    "\n",
    "# ra10_all = []\n",
    "# dec10_ALL = []\n",
    "# ra10_ALL = data10.field('RA')\n",
    "# dec10_ALL = data10.field('DEC')\n",
    "\n",
    "\n",
    "# ra11_all = []\n",
    "# dec11_ALL = []\n",
    "# ra11_ALL = data11.field('RA')\n",
    "# dec11_ALL = data11.field('DEC')\n",
    "\n",
    "\n",
    "# ra12_all = []\n",
    "# dec12_ALL = []\n",
    "# ra12_ALL = data12.field('RA')\n",
    "# dec12_ALL = data12.field('DEC')\n",
    "\n",
    "\n",
    "# ra13_all = []\n",
    "# dec13_ALL = []\n",
    "# ra13_ALL = data13.field('RA')\n",
    "# dec13_ALL = data13.field('DEC')\n",
    "\n",
    "\n",
    "# ra14_all = []\n",
    "# dec14_ALL = []\n",
    "# ra14_ALL = data14.field('RA')\n",
    "# dec14_ALL = data14.field('DEC')\n",
    "\n",
    "\n",
    "# ra15_all = []\n",
    "# dec15_ALL = []\n",
    "# ra15_ALL = data15.field('RA')\n",
    "# dec15_ALL = data15.field('DEC')\n",
    "\n",
    "\n",
    "# ra16_all = []\n",
    "# dec16_ALL = []\n",
    "# ra16_ALL = data16.field('RA')\n",
    "# dec16_ALL = data16.field('DEC')\n",
    "\n",
    "\n",
    "# ra17_all = []\n",
    "# dec17_ALL = []\n",
    "# ra17_ALL = data17.field('RA')\n",
    "# dec17_ALL = data17.field('DEC')\n",
    "\n",
    "\n",
    "# ra18_all = []\n",
    "# dec18_ALL = []\n",
    "# ra18_ALL = data18.field('RA')\n",
    "# dec18_ALL = data18.field('DEC')\n",
    "\n",
    "\n",
    "# ra19_all = []\n",
    "# dec19_ALL = []\n",
    "# ra19_ALL = data19.field('RA')\n",
    "# dec19_ALL = data19.field('DEC')\n",
    "\n",
    "\n"
   ]
  },
  {
   "cell_type": "code",
   "execution_count": 4,
   "metadata": {},
   "outputs": [
    {
     "name": "stdout",
     "output_type": "stream",
     "text": [
      "2932747\n",
      "2932747\n",
      "2932747\n"
     ]
    }
   ],
   "source": [
    "# CUT = ((ra0_ALL >= 241) & (ra0_ALL <= 246) & (dec0_ALL >= 6.5) & (dec0_ALL <= 11.5) & (((maskbits0_ALL & 2**1)!=0) | ((maskbits0_ALL & 2**11)!=0) | ((maskbits0_ALL & 2**12)!=0) | ((maskbits0_ALL & 2**13)!=0)))\n",
    "CUT = ((((maskbits0_ALL & 2**1)!=0) | ((maskbits0_ALL & 2**11)!=0) | ((maskbits0_ALL & 2**12)!=0) | ((maskbits0_ALL & 2**13)!=0)))\n",
    "\n",
    "\n",
    "print(len(ra0_ALL[CUT]))\n",
    "print(len(dec0_ALL[CUT]))\n",
    "\n",
    "ra = ra0_ALL[CUT]\n",
    "dec = dec0_ALL[CUT]\n",
    "hpixel = hpixel0_ALL[CUT]\n",
    "print(len(hpixel))\n"
   ]
  },
  {
   "cell_type": "code",
   "execution_count": 13,
   "metadata": {},
   "outputs": [
    {
     "data": {
      "image/png": "[encoded data removed]",
      "text/plain": [
       "<Figure size 612x388.8 with 2 Axes>"
      ]
     },
     "metadata": {
      "needs_background": "light"
     },
     "output_type": "display_data"
    },
    {
     "name": "stdout",
     "output_type": "stream",
     "text": [
      "length phi:  51738616\n",
      "6320697\n",
      "51738616\n"
     ]
    }
   ],
   "source": [
    "# make HEALPix map with every source\n",
    "\n",
    "# Make HEALPix map using just RA/Dec; end up with a density plot\n",
    "\n",
    "nside = 1024\n",
    "# nside = 64\n",
    "npixel = hp.nside2npix(nside)\n",
    "# print(npixel)\n",
    "\n",
    "# Convert ra/dec into theta/phi\n",
    "theta = []\n",
    "phi = []\n",
    "\n",
    "for i in range(len(ra0_ALL)):\n",
    "    theta.append(np.radians(90. - dec0_ALL[i]))\n",
    "    phi.append(np.radians(ra0_ALL[i]))\n",
    "    \n",
    "m = hp.ang2pix(nside, theta, phi)\n",
    "map_ = np.bincount(m, minlength=npixel)\n",
    "# hp.gnomview(map_, xsize=225, rot=(-116.5, 9), flip='geo', cmap='viridis', notext=True, title=\"\")\n",
    "hp.mollview(map_, xsize=225, rot=(-116.5, 9), flip='geo', cmap='viridis', notext=True, title=\"\")\n",
    "plt.rcParams.update({'font.size':16})\n",
    "plt.title('HEALPix Map for All Randoms')\n",
    "plt.savefig('/Users/mtownsend/Desktop/MeetingPlots/22Jan2021/HEALPix-ALL.jpg')\n",
    "# plt.savefig('/Users/mtownsend/Desktop/MeetingPlots/22Jan2021/HEALPix-ALL.pdf')\n",
    "plt.show()\n",
    "\n",
    "print('length phi: ', len(phi))\n",
    "\n",
    "# Convert angles theta and phi to pixel numbers\n",
    "\n",
    "pixnums = hp.ang2pix(nside, theta, phi, nest=True)\n",
    "print(len(np.unique(pixnums)))\n",
    "print(len(pixnums))\n",
    "# print(hp.npix2nside(npixel))"
   ]
  },
  {
   "cell_type": "code",
   "execution_count": 14,
   "metadata": {},
   "outputs": [
    {
     "data": {
      "image/png": "[encoded data removed]",
      "text/plain": [
       "<Figure size 612x388.8 with 2 Axes>"
      ]
     },
     "metadata": {
      "needs_background": "light"
     },
     "output_type": "display_data"
    },
    {
     "name": "stdout",
     "output_type": "stream",
     "text": [
      "length phi:  2932747\n",
      "1683424\n",
      "2932747\n"
     ]
    }
   ],
   "source": [
    "# make HEALPix map with only sources with relevant maskbits selected\n",
    "\n",
    "# Make HEALPix map using just RA/Dec; end up with a density plot\n",
    "\n",
    "nside = 1024\n",
    "# nside = 64\n",
    "npixel = hp.nside2npix(nside)\n",
    "# print(npixel)\n",
    "\n",
    "# Convert ra/dec into theta/phi\n",
    "theta = []\n",
    "phi = []\n",
    "\n",
    "for i in range(len(ra)):\n",
    "    theta.append(np.radians(90. - dec[i]))\n",
    "    phi.append(np.radians(ra[i]))\n",
    "    \n",
    "m = hp.ang2pix(nside, theta, phi)\n",
    "map_ = np.bincount(m, minlength=npixel)\n",
    "# hp.gnomview(map_, xsize=225, rot=(-116.5, 9), flip='geo', cmap='viridis', notext=True, title=\"\")\n",
    "hp.mollview(map_, xsize=225, rot=(-116.5, 9), flip='geo', cmap='viridis', notext=True, title=\"\")\n",
    "plt.rcParams.update({'font.size':16})\n",
    "plt.title('HEALPix Map for Bitmask Randoms')\n",
    "plt.savefig('/Users/mtownsend/Desktop/MeetingPlots/22Jan2021/HEALPix-bitmasks.jpg')\n",
    "# plt.savefig('/Users/mtownsend/Desktop/MeetingPlots/22Jan2021/HEALPix-bitmasks.pdf')\n",
    "plt.show()\n",
    "\n",
    "print('length phi: ', len(phi))\n",
    "\n",
    "# Convert angles theta and phi to pixel numbers\n",
    "\n",
    "pixnums_cut = hp.ang2pix(nside, theta, phi, nest=True)\n",
    "print(len(np.unique(pixnums_cut)))\n",
    "print(len(pixnums_cut))\n",
    "# print(hp.npix2nside(npixel))"
   ]
  },
  {
   "cell_type": "code",
   "execution_count": 8,
   "metadata": {},
   "outputs": [
    {
     "name": "stdout",
     "output_type": "stream",
     "text": [
      "0.0032784908016061202\n"
     ]
    }
   ],
   "source": [
    "# calculate pixel area\n",
    "\n",
    "pix_area = hp.nside2pixarea(nside, degrees=True)\n",
    "\n",
    "print(pix_area)\n",
    "\n",
    "# print(len(np.unique(hpixel)))\n",
    "# print(len(hpixel))\n",
    "# print(len(np.unique(hpixel0_ALL)))"
   ]
  },
  {
   "cell_type": "code",
   "execution_count": 9,
   "metadata": {},
   "outputs": [
    {
     "name": "stdout",
     "output_type": "stream",
     "text": [
      "5519.090099202981\n",
      "20722.3469742394\n",
      "26.63351842368017\n"
     ]
    }
   ],
   "source": [
    "# calculate the area covered by maskbit sources\n",
    "\n",
    "total_area = len(np.unique(pixnums)) * pix_area\n",
    "area = len(np.unique(pixnums_cut)) * pix_area\n",
    "\n",
    "print(area)\n",
    "print(total_area)\n",
    "\n",
    "print((area / total_area)*100.)"
   ]
  },
  {
   "cell_type": "code",
   "execution_count": null,
   "metadata": {},
   "outputs": [],
   "source": []
  }
 ],
 "metadata": {
  "kernelspec": {
   "display_name": "Python 3",
   "language": "python",
   "name": "python3"
  },
  "language_info": {
   "codemirror_mode": {
    "name": "ipython",
    "version": 3
   },
   "file_extension": ".py",
   "mimetype": "text/x-python",
   "name": "python",
   "nbconvert_exporter": "python",
   "pygments_lexer": "ipython3",
   "version": "3.5.5"
  }
 },
 "nbformat": 4,
 "nbformat_minor": 2
}
