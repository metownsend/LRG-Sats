{
 "cells": [
  {
   "cell_type": "code",
   "execution_count": 1,
   "metadata": {},
   "outputs": [],
   "source": [
    "from astropy.io import fits\n",
    "from astropy.table import Table\n",
    "import numpy as np\n",
    "import matplotlib.pylab as plt \n",
    "import matplotlib.lines as mlines\n",
    "from matplotlib.legend import Legend\n",
    "from pythonds.basic.stack import Stack\n",
    "from math import *\n",
    "from sklearn.neighbors import KDTree\n",
    "from lrg_plot_functions import *\n",
    "from lrg_sum_functions import *\n",
    "from cosmo_Calc import *\n",
    "from divideByTwo import *\n",
    "from read_data import *\n",
    "from nearNeighbors import *\n",
    "from scipy import stats\n",
    "from astropy import stats\n",
    "import healpy as hp\n",
    "from localBKG_and_interlopersHEALPix import *\n",
    "# import healpy as hpy\n",
    "from makeCutoutTableFunc import *\n",
    "from plotHistogramProjections3D import *\n",
    "from read_bricks import *\n",
    "from mpl_toolkits.axes_grid1 import make_axes_locatable\n"
   ]
  },
  {
   "cell_type": "code",
   "execution_count": 2,
   "metadata": {},
   "outputs": [
    {
     "name": "stdout",
     "output_type": "stream",
     "text": [
      "done reading in DECaLS bricks\n",
      "done reading in DECaLS bricks\n",
      "end readdata\n"
     ]
    }
   ],
   "source": [
    "# Reads in data files for use in readData.py\n",
    "\n",
    "hdu_sweep1 = fits.open('/Users/mtownsend/anaconda/Data/sweep-140p000-150p005-UVISTA1.fits') # this is one sweep file of the DECaLS data\n",
    "hdu_sweep2 = fits.open('/Users/mtownsend/anaconda/Data/sweep-150p000-160p005-UVISTA2.fits') # this is one sweep file of the DECaLS data\n",
    "\n",
    "UVISTA1_data = hdu_sweep1[1].data\n",
    "UVISTA2_data = hdu_sweep2[1].data\n",
    "\n",
    "ra_LS1, dec_LS1, gflux_LS1, rflux_LS1, zflux_LS1, w1flux_LS1, w2flux_LS1, w3flux_LS1, w4flux_LS1, gflux_ivar_LS1, rflux_ivar_LS1, zflux_ivar_LS1, w1flux_ivar_LS1, w2flux_ivar_LS1, w3flux_ivar_LS1, w4flux_ivar_LS1, mw_transmission_g_LS1, mw_transmission_r_LS1, mw_transmission_z_LS1, mw_transmission_w1_LS1, mw_transmission_w2_LS1, mw_transmission_w3_LS1, mw_transmission_w4_LS1 = readBricks(UVISTA1_data)\n",
    "ra_LS2, dec_LS2, gflux_LS2, rflux_LS2, zflux_LS2, w1flux_LS2, w2flux_LS2, w3flux_LS2, w4flux_LS2, gflux_ivar_LS2, rflux_ivar_LS2, zflux_ivar_LS2, w1flux_ivar_LS2, w2flux_ivar_LS2, w3flux_ivar_LS2, w4flux_ivar_LS2, mw_transmission_g_LS2, mw_transmission_r_LS2, mw_transmission_z_LS2, mw_transmission_w1_LS2, mw_transmission_w2_LS2, mw_transmission_w3_LS2, mw_transmission_w4_LS2 = readBricks(UVISTA2_data)\n",
    "\n",
    "print(\"end readdata\")\n",
    "\n",
    "# IMPORTANT NOTE: LRG data is the same for each."
   ]
  },
  {
   "cell_type": "code",
   "execution_count": 3,
   "metadata": {},
   "outputs": [
    {
     "data": {
      "image/png": "[encoded data removed]",
      "text/plain": [
       "<Figure size 432x288 with 1 Axes>"
      ]
     },
     "metadata": {
      "needs_background": "light"
     },
     "output_type": "display_data"
    },
    {
     "name": "stdout",
     "output_type": "stream",
     "text": [
      "166641\n"
     ]
    }
   ],
   "source": [
    "# read in UV data\n",
    "\n",
    "data_UV = open('/Users/mtownsend/eazy-photoz/inputs/OUTPUT/UVISTA_master_v4.1/UVISTA_final_v4.1.153-155.rf', 'r')\n",
    "lines_UV = data_UV.readlines()[11:]\n",
    "\n",
    "z = []\n",
    "for line in lines_UV:\n",
    "    p = line.split()\n",
    "    z.append(float(p[1]))\n",
    "\n",
    "z = np.array(z)\n",
    "\n",
    "from astropy.io import ascii\n",
    "data_cat = odata_cat = ascii.read(\"/Users/mtownsend/eazy-photoz/inputs/UVISTA_master_v4.1.cat\")  \n",
    "\n",
    "ra = data_cat['ra']\n",
    "dec = data_cat['dec']\n",
    "# z_spec = data_cat['z_spec']\n",
    "use = data_cat['USE']\n",
    "star = data_cat['star']\n",
    "contamination = data_cat['contamination']\n",
    "nan_contam = data_cat['nan_contam']\n",
    "# z = data_cat['z_spec']\n",
    "\n",
    "cut = np.where((use == 1.) & (star == 0.) & (contamination == 0.) & (nan_contam < 3.)) # & (Uflux > 0.) & (Vflux > 0.) & (zflux > 0.)) # & (zp > 0.))\n",
    "\n",
    "ra_UV = ra[cut]\n",
    "dec_UV = dec[cut]\n",
    "z_peak = z[cut]\n",
    "\n",
    "plt.scatter(ra_UV,dec_UV)\n",
    "plt.show()\n",
    "\n",
    "print(len(z_peak))\n"
   ]
  },
  {
   "cell_type": "code",
   "execution_count": 4,
   "metadata": {},
   "outputs": [
    {
     "name": "stdout",
     "output_type": "stream",
     "text": [
      "69987\n"
     ]
    }
   ],
   "source": [
    "gmag_LS1 = 22.5 - 2.5 * np.log10(gflux_LS1/mw_transmission_g_LS1)\n",
    "gmag_LS2 = 22.5 - 2.5 * np.log10(gflux_LS2/mw_transmission_g_LS2)\n",
    "rmag_LS1 = 22.5 - 2.5 * np.log10(rflux_LS1/mw_transmission_r_LS1)\n",
    "rmag_LS2 = 22.5 - 2.5 * np.log10(rflux_LS2/mw_transmission_r_LS2)\n",
    "zmag_LS1 = 22.5 - 2.5 * np.log10(zflux_LS1/mw_transmission_z_LS1)\n",
    "zmag_LS2 = 22.5 - 2.5 * np.log10(zflux_LS2/mw_transmission_z_LS2)\n",
    "\n",
    "ra_LS = np.concatenate([ra_LS1, ra_LS2])\n",
    "dec_LS = np.concatenate([dec_LS1, dec_LS2])\n",
    "gmag_LS = np.concatenate([gmag_LS1, gmag_LS2])\n",
    "rmag_LS = np.concatenate([rmag_LS1, rmag_LS2])\n",
    "zmag_LS = np.concatenate([zmag_LS1, zmag_LS2]) \n",
    "\n",
    "\n",
    "# match sources in UVista and LS catalogs\n",
    "\n",
    "from astropy.coordinates import SkyCoord, match_coordinates_sky                                   \n",
    "from astropy import units as u       \n",
    "\n",
    "UVISTA_cat  = SkyCoord(ra=ra_UV*u.degree, dec=dec_UV*u.degree)\n",
    "\n",
    "my_cat = SkyCoord(ra=ra_LS*u.degree, dec=dec_LS*u.degree) \n",
    "\n",
    "idx_UVISTA, sep2d_UVISTA, dist3d_UVISTA = match_coordinates_sky(UVISTA_cat, my_cat, nthneighbor=1)\n",
    "\n",
    "sep2d_UVISTA_deg = sep2d_UVISTA.deg\n",
    "\n",
    "sep_idx_UVISTA = idx_UVISTA[np.where(sep2d_UVISTA_deg <= 0.0003)]\n",
    "\n",
    "print(len(sep_idx_UVISTA))"
   ]
  },
  {
   "cell_type": "code",
   "execution_count": 5,
   "metadata": {},
   "outputs": [
    {
     "name": "stdout",
     "output_type": "stream",
     "text": [
      "69987\n",
      "69987\n"
     ]
    },
    {
     "name": "stderr",
     "output_type": "stream",
     "text": [
      "/Users/mtownsend/anaconda/envs/astroconda/lib/python3.5/site-packages/ipykernel_launcher.py:23: RuntimeWarning: invalid value encountered in log10\n"
     ]
    }
   ],
   "source": [
    "# calculate rest frame g-band luminosity\n",
    "\n",
    "data_UV = open('/Users/mtownsend/eazy-photoz/inputs/OUTPUT/UV_LS_OUTPUT/UV_LS_main_output.294.rf', 'r')\n",
    "lines_UV = data_UV.readlines()[10:]\n",
    "\n",
    "distmod = []\n",
    "gflux = []\n",
    "redshift = []\n",
    "for line in lines_UV:\n",
    "    p = line.split()\n",
    "    redshift.append(float(p[1]))\n",
    "    distmod.append(float(p[2]))\n",
    "    gflux.append(float(p[5]))\n",
    "\n",
    "DM = np.array(distmod)\n",
    "Gflux = np.array(gflux)\n",
    "zspec = np.array(redshift)\n",
    "\n",
    "# K correction\n",
    "K_correct = -2.5*np.log10((1. + zspec)**-1.)\n",
    "\n",
    "# Absolute magnitude\n",
    "gMag = -2.5*np.log10(Gflux) + 25. - DM - K_correct\n",
    "\n",
    "# Calculate rest frame zmag\n",
    "\n",
    "Msun_z = 4.50\n",
    "Msun_g = 5.05\n",
    "gLum = 10.**((gMag-Msun_g)/(-2.5))\n",
    "\n",
    "log_gLum = np.log10(gLum)\n",
    "\n",
    "print(len(log_gLum))\n",
    "print(len(zspec))\n",
    "\n",
    "# calculate (g-r) and (r-z) colors\n",
    "    \n",
    "grcolor_UVLS_nocut = gmag_LS[sep_idx_UVISTA] - rmag_LS[sep_idx_UVISTA]\n",
    "rzcolor_UVLS_nocut = rmag_LS[sep_idx_UVISTA] - zmag_LS[sep_idx_UVISTA]\n",
    "zmag_UVLS_nocut = zmag_LS[sep_idx_UVISTA]\n",
    "\n",
    "grcolor_UVLS = grcolor_UVLS_nocut[np.where((zmag_UVLS_nocut <= 22.36) & (np.isnan(log_gLum) == False))]\n",
    "rzcolor_UVLS = rzcolor_UVLS_nocut[np.where((zmag_UVLS_nocut <= 22.36) & (np.isnan(log_gLum) == False))]\n",
    "zmag_UVLS = zmag_UVLS_nocut[np.where((zmag_UVLS_nocut <= 22.36) & (np.isnan(log_gLum) == False))]\n",
    "\n",
    "zspec_UVLS = zspec[np.where((zmag_UVLS_nocut <= 22.36) & (np.isnan(log_gLum) == False))]\n",
    "\n",
    "log_gLum_cut = log_gLum[np.where((zmag_UVLS_nocut <= 22.36) & (np.isnan(log_gLum) == False))]"
   ]
  },
  {
   "cell_type": "code",
   "execution_count": 141,
   "metadata": {},
   "outputs": [],
   "source": [
    "\n",
    "\n",
    "# def making_masks(H1, lum_limit, x, y, z, lum, xedges, yedges, zedges):\n",
    "def making_masks(H2D, H3D, lum_limit, x, y, z, lum, xedges, yedges, zedges):\n",
    "    \n",
    "    # lum_limit == luminosity threshold\n",
    "    # x,y,z == arrays involved in the 3D histogram\n",
    "    # lum = luminosity array; same size as x (or y or z)\n",
    "    # xedges,yedges,zedges = boundaries to search for x,y,z\n",
    "    \n",
    "    import numpy as np\n",
    "    \n",
    "    temp = []\n",
    "    medzmag = np.zeros_like(H2D, dtype=float)\n",
    "#     indexlist = np.zeros((2,2,2),dtype=list)\n",
    "\n",
    "    # This loop finds the observed zmag that cooresponds to the luminosity limit for each cell in color-color space\n",
    "    for i in range(len(xedges)-1):\n",
    "        for j in range(len(yedges)-1):\n",
    "            for m in range(len(x)):\n",
    "                if ((x[m] >= xedges[i]) & (x[m] <= xedges[i+1]) & (y[m] >= yedges[j]) & (y[m] <= yedges[j+1])):\n",
    "#                     print('index: ', m)\n",
    "#                     print('luminosity: ', lum[m])\n",
    "#                     print('zmag: ', z[m])\n",
    "#                     print(\"---\")\n",
    "                    if (abs(lum[m]-lum_limit) < 5):\n",
    "                        temp.append(z[m])\n",
    "#                         print(temp)\n",
    "#                         print(lum[m])\n",
    "#                         print(z[m])\n",
    "#                         print('----')\n",
    "                    if (len(temp) > 0.):\n",
    "#                         print('temp: ', temp)\n",
    "                        medzmag[i][j] = np.median(list(temp))\n",
    "#                         print('median zmag: ', medzmag[i][j])\n",
    "#                         print('----')\n",
    "#                     else:\n",
    "#                         medzmag[i][j] = -999.\n",
    "#                 else:\n",
    "#                     medzmag[i][j] = -999.\n",
    "#         print('temp before: ', temp)\n",
    "        temp = []\n",
    "#         print('temp after: ', temp)       \n",
    "    median_zmag_array = medzmag\n",
    "#     print(test_array)\n",
    "#     print('----')\n",
    "    \n",
    "    mask_array = np.empty_like(H3D)\n",
    "    \n",
    "    # This loop finds the cells in color-color space that are brighter in the observed zmag than the median zmag\n",
    "    # and makes a mask of 1s and 0s\n",
    "    for i in range(len(mask_array)):\n",
    "#     print(mask_array[i])\n",
    "#     print(edges2[i+1])\n",
    "#     print('----')\n",
    "        for j in range(len(mask_array[i])):\n",
    "            for k in range(len(mask_array[i][j])):\n",
    "                if (median_zmag_array[j][k] >= zedges[i+1]):\n",
    "                    mask_array[i][j][k] = 1\n",
    "#                     print('i = ',i)\n",
    "#                     print('j = ', j)\n",
    "#                     print('k = ', k)\n",
    "#                     print(mask_array[i][j][k])\n",
    "#                     print('----')\n",
    "                else:\n",
    "                    mask_array[i][j][k] = 0\n",
    "#                     print('i = ', i)\n",
    "#                     print('j = ', j)\n",
    "#                     print('k = ', k)\n",
    "#                     print(mask_array[i][j][k])\n",
    "#                     print('----')\n",
    "\n",
    "    return median_zmag_array, mask_array\n",
    "\n"
   ]
  },
  {
   "cell_type": "code",
   "execution_count": 142,
   "metadata": {},
   "outputs": [
    {
     "name": "stdout",
     "output_type": "stream",
     "text": [
      "[0.6130295  0.7076664  0.84783363 0.75674057 1.5850754  1.1830883\n",
      " 0.6979141  0.37179184 0.46722794]\n",
      "----\n",
      "[0.81728554 1.0516987  1.1747913  1.3463879  1.9448185  1.0748081\n",
      " 1.1068363  0.8576355  0.8841877 ]\n",
      "----\n",
      "[15.991329 19.427385 20.14302  17.68172  19.704905 21.307852 21.852356\n",
      " 21.78076  20.158253]\n",
      "----\n",
      "[ 9.75777398 10.12609622  8.70326401 12.67248766  8.46771826 11.45241506\n",
      " 10.26012346  9.69102928 10.26223049]\n",
      "----\n",
      "\n",
      "\n"
     ]
    }
   ],
   "source": [
    "rzcolor = rzcolor_UVLS[0:9]\n",
    "print(rzcolor)\n",
    "print('----')\n",
    "grcolor = grcolor_UVLS[0:9]\n",
    "print(grcolor)\n",
    "print('----')\n",
    "zmag = zmag_UVLS[0:9]\n",
    "print(zmag)\n",
    "print('----')\n",
    "lum = log_gLum_cut[0:9]\n",
    "print(lum)\n",
    "print('----')\n",
    "print()\n",
    "print()\n",
    "\n",
    "Htest3D, edges = np.histogramdd((rzcolor, grcolor, zmag), bins=(2,2,2), density=False)\n",
    "Htest2D, rz_edges, gr_edges = np.histogram2d(rzcolor, grcolor, bins=(2,2), density=False)\n",
    "\n",
    "# print(Htest3D)\n",
    "\n",
    "# print(edges[0])\n",
    "# print('zmag edges: ', edges[1])\n",
    "# print(edges[2])\n",
    "# print('---')\n",
    "# print(rz_edges)\n",
    "# print(gr_edges)\n",
    "\n",
    "\n",
    "# medzmag, mask_array = making_masks(Htest2D, Htest3D, 10., rzcolor, grcolor, zmag, lum, rz_edges, gr_edges, edges[1]) #, edges[2])\n",
    "\n",
    "# print(mask_array)\n",
    "# print('----')\n",
    "# print(medzmag)\n",
    "\n",
    "# print(mask_array.shape)\n",
    "# print(mask_array)\n",
    "# print(mask_array[0][0])\n",
    "\n",
    "rz_edges = np.array([-1.8027077, -1.5527076721191406, -1.3027076721191406, -1.0527076721191406, -0.8027076721191406, -0.5527076721191406, -0.3027076721191406, -0.052707672119140625, 0.19729232788085938, 0.4472923278808594, 0.6972923278808594, 0.9472923278808594, 1.1972923278808594, 1.4472923278808594, 1.6972923278808594, 1.9472923278808594, 2.1972923278808594, 2.4472923278808594, 2.6972923278808594, 2.9472923278808594, 3.1972923278808594, 3.4472923278808594, 3.6972923278808594, 3.9472923278808594, 4.197292327880859, 4.447292327880859, 4.697292327880859, 4.947292327880859, 5.197292327880859, 5.447292327880859, 5.697292327880859, 5.947292327880859, 6.197292327880859, 6.447292327880859, 6.697292327880859, 6.947292327880859, 7.197292327880859, 7.447292327880859, 7.697292327880859, 7.947292327880859, 8.19729232788086, 8.44729232788086, 8.69729232788086, 8.94729232788086, 9.19729232788086, 9.44729232788086, 9.69729232788086, 9.94729232788086, 10.19729232788086, 10.44729232788086])\n",
    "zmag_edges = np.array([13.22509, 13.425090026855468, 13.625090026855467, 13.825090026855467, 14.025090026855466, 14.225090026855465, 14.425090026855464, 14.625090026855464, 14.825090026855463, 15.025090026855462, 15.225090026855462, 15.425090026855461, 15.62509002685546, 15.82509002685546, 16.02509002685546, 16.225090026855458, 16.425090026855457, 16.625090026855457, 16.825090026855456, 17.025090026855455, 17.225090026855455, 17.425090026855454, 17.625090026855453, 17.825090026855452, 18.02509002685545, 18.22509002685545, 18.42509002685545, 18.62509002685545, 18.82509002685545, 19.025090026855448, 19.225090026855447, 19.425090026855447, 19.625090026855446, 19.825090026855445, 20.025090026855445, 20.225090026855444, 20.425090026855443, 20.625090026855442, 20.82509002685544, 21.02509002685544, 21.22509002685544, 21.42509002685544, 21.62509002685544, 21.825090026855438, 22.025090026855437, 22.225090026855437, 22.425090026855436, 22.625090026855435, 22.825090026855435, 23.025090026855434])\n",
    "gr_edges = np.array([-6.5846786, -6.234678649902344, -5.8846786499023445, -5.534678649902345, -5.184678649902345, -4.8346786499023455, -4.484678649902346, -4.134678649902346, -3.784678649902346, -3.434678649902346, -3.084678649902346, -2.734678649902346, -2.384678649902346, -2.0346786499023457, -1.6846786499023456, -1.3346786499023455, -0.9846786499023455, -0.6346786499023456, -0.2846786499023456, 0.06532135009765438, 0.41532135009765436, 0.7653213500976543, 1.1153213500976542, 1.4653213500976543, 1.8153213500976544, 2.1653213500976545, 2.5153213500976546, 2.8653213500976547, 3.2153213500976547, 3.565321350097655, 3.915321350097655, 4.265321350097655, 4.615321350097655, 4.965321350097654, 5.315321350097654, 5.665321350097654, 6.015321350097653, 6.365321350097653, 6.7153213500976525, 7.065321350097652, 7.415321350097652, 7.7653213500976515, 8.115321350097652, 8.465321350097652, 8.815321350097651, 9.165321350097651, 9.51532135009765, 9.86532135009765, 10.21532135009765, 10.56532135009765])\n",
    "\n",
    "Hstar3D, nouse_edges = np.histogramdd((rzcolor_UVLS, grcolor_UVLS, zmag_UVLS), bins=(rz_edges, gr_edges, zmag_edges), density=False)\n",
    "Hstar2D, rz_nouse, gr_nouse = np.histogram2d(rzcolor_UVLS, grcolor_UVLS, bins=(rz_edges, gr_edges), density=False)\n",
    "\n",
    "medzmag, mask_array = making_masks(Hstar2D, Hstar3D, 10.46, rzcolor, grcolor, zmag, lum, rz_edges, gr_edges, zmag_edges) #, edges[2])\n",
    "\n",
    "# print(mask_array)\n",
    "# print('----')\n",
    "# print(medzmag)\n",
    "\n",
    "# zinit = 0.2\n",
    "# zfin = 0.65\n",
    "# zinterval = 0.05\n",
    "# znum = (zfin-zinit)/zinterval\n",
    "# zrange, zstep = np.linspace(0.2, 0.65, num=int(znum), retstep=True)\n",
    "# print(zrange)\n",
    "# print(zstep)\n",
    "\n",
    "# masks = []\n",
    "# median_zmag = []\n",
    "# for i in range(len(zrange)-1):\n",
    "#     x = rzcolor_UVLS[np.where((zspec_UVLS > zrange[i]) & (zspec_UVLS <= zrange[i+1]))]\n",
    "#     y = grcolor_UVLS[np.where((zspec_UVLS > zrange[i]) & (zspec_UVLS <= zrange[i+1]))]\n",
    "#     z = zmag_UVLS[np.where((zspec_UVLS > zrange[i]) & (zspec_UVLS <= zrange[i+1]))]\n",
    "#     lum = log_gLum_cut[np.where((zspec_UVLS > zrange[i]) & (zspec_UVLS <= zrange[i+1]))]\n",
    "#     median_zmag_array, mask_array = making_masks(Hstar2D, Hstar3D, 10.46, x, y, z, lum, rz_edges, gr_edges, zmag_edges)\n",
    "#     median_zmag.append(median_zmag_array)\n",
    "#     masks.append(mask_array)\n",
    "#     print(i)\n",
    "\n"
   ]
  },
  {
   "cell_type": "code",
   "execution_count": 106,
   "metadata": {},
   "outputs": [
    {
     "name": "stdout",
     "output_type": "stream",
     "text": [
      "50\n",
      "50\n",
      "50\n",
      "(49, 49, 49)\n",
      "(49, 49)\n",
      "49\n",
      "49\n",
      "49\n"
     ]
    }
   ],
   "source": [
    "print(len(rz_edges))\n",
    "print(len(gr_edges))\n",
    "print(len(zmag_edges))\n",
    "\n",
    "print(Hstar3D.shape)\n",
    "print(Hstar2D.shape)\n",
    "print(len(Hstar3D))\n",
    "print(len(Hstar3D[0]))\n",
    "print(len(Hstar3D[0][0]))\n"
   ]
  },
  {
   "cell_type": "code",
   "execution_count": 77,
   "metadata": {},
   "outputs": [],
   "source": [
    "import numpy as np\n",
    "\n",
    "# print(masks[0])\n",
    "# print(masks[0].shape)\n",
    "mask0 = masks[0]\n",
    "mask1 = masks[1]\n",
    "mask2 = masks[2]\n",
    "mask3 = masks[3]\n",
    "mask4 = masks[4]\n",
    "mask5 = masks[5]\n",
    "mask6 = masks[6]\n",
    "mask7 = masks[7]\n",
    "\n",
    "# # f = open('Users/mtownsend/Desktop/masks.npz', 'w')\n",
    "np.savez('/Users/mtownsend/Desktop/new_masks-v1.npz', mask0=mask0, mask1=mask1, mask2=mask2, mask3=mask3, mask4=mask4, mask5=mask5, mask6=mask6, mask7=mask7)\n",
    "# # f.close()\n",
    "\n",
    "data_masks = np.load('/Users/mtownsend/Desktop/new_masks-v1.npz')\n",
    "# print(data['mask0'])\n",
    "\n",
    "\n",
    "medzmag0 = median_zmag[0]\n",
    "medzmag1 = median_zmag[1]\n",
    "medzmag2 = median_zmag[2]\n",
    "medzmag3 = median_zmag[3]\n",
    "medzmag4 = median_zmag[4]\n",
    "medzmag5 = median_zmag[5]\n",
    "medzmag6 = median_zmag[6]\n",
    "medzmag7 = median_zmag[7]\n",
    "\n",
    "\n",
    "np.savez('/Users/mtownsend/Desktop/median-zmag-v1.npz', medzmag0=medzmag0, medzmag1=medzmag1, medzmag2=medzmag2, medzmag3=medzmag3, medzmag4=medzmag4, medzmag5=medzmag5, medzmag6=medzmag6, medzmag7=medzmag7)\n",
    "data_zmag = np.load('/Users/mtownsend/Desktop/median-zmag-v1.npz')\n"
   ]
  },
  {
   "cell_type": "code",
   "execution_count": 154,
   "metadata": {},
   "outputs": [
    {
     "name": "stdout",
     "output_type": "stream",
     "text": [
      "<class 'numpy.ndarray'>\n",
      "<class 'numpy.ndarray'>\n"
     ]
    },
    {
     "data": {
      "image/png": "[encoded data removed]",
      "text/plain": [
       "<Figure size 720x720 with 2 Axes>"
      ]
     },
     "metadata": {
      "needs_background": "light"
     },
     "output_type": "display_data"
    },
    {
     "data": {
      "image/png": "[encoded data removed]",
      "text/plain": [
       "<Figure size 720x720 with 2 Axes>"
      ]
     },
     "metadata": {
      "needs_background": "light"
     },
     "output_type": "display_data"
    }
   ],
   "source": [
    "# d0 = data_masks['mask0']\n",
    "# d1 = data_masks['mask1']\n",
    "# d2 = data_masks['mask2']\n",
    "# d3 = data_masks['mask3']\n",
    "# d4 = data_masks['mask4']\n",
    "# d5 = data_masks['mask5']\n",
    "# d6 = data_masks['mask6']\n",
    "# d7 = data_masks['mask7']\n",
    "\n",
    "# print(d0.shape)\n",
    "# print(len(data))\n",
    "\n",
    "# zmag0 = data_zmag['medzmag0']\n",
    "# zmag1 = data_zmag['medzmag1']\n",
    "# zmag2 = data_zmag['medzmag2']\n",
    "# zmag3 = data_zmag['medzmag3']\n",
    "# zmag4 = data_zmag['medzmag4']\n",
    "# zmag5 = data_zmag['medzmag5']\n",
    "# zmag6 = data_zmag['medzmag6']\n",
    "# zmag7 = data_zmag['medzmag7']\n",
    "\n",
    "print(type(Hstar3D))\n",
    "print(type(mask_array))\n",
    "\n",
    "projectionHstar = Hstar3D[:, :, :].sum(axis=1) \n",
    "projectionMask = mask_array[:, :, :].sum(axis=2)\n",
    "\n",
    "# plt.figure(figsize=(10,10))\n",
    "# ax = plt.gca()\n",
    "# im = ax.imshow(Hstar2D, origin='lower', extent=(rz_edges.min(), rz_edges.max(), gr_edges.min(), gr_edges.max()))\n",
    "# divider = make_axes_locatable(ax)\n",
    "# cax = divider.append_axes('right', size='5%', pad=0.05)\n",
    "# plt.colorbar(im, cax=cax)\n",
    "# # ax.set_title(\"Mask\".format(i))\n",
    "# #     ax.set_ylim([-0.6,5.5])\n",
    "# # ax.set_xlabel('zmag',fontsize=20)\n",
    "# # ax.set_ylabel('r-z',fontsize=20)\n",
    "# #     plt.savefig('/Users/mtownsend/Desktop/MeetingPlots/14May2020/lum_lowz_slice7/mask7-{}-v1.pdf'.format(i))   \n",
    "# plt.show()\n",
    "\n",
    "plt.figure(figsize=(10,10))\n",
    "ax = plt.gca()\n",
    "im = ax.imshow(projectionHstar, origin='lower', extent=(rz_edges.min(), rz_edges.max(), gr_edges.min(), gr_edges.max()))\n",
    "divider = make_axes_locatable(ax)\n",
    "cax = divider.append_axes('right', size='5%', pad=0.05)\n",
    "plt.colorbar(im, cax=cax)\n",
    "ax.set_title(\"Mask\".format(i))\n",
    "#     ax.set_ylim([-0.6,5.5])\n",
    "# ax.set_xlabel('zmag',fontsize=20)\n",
    "# ax.set_ylabel('r-z',fontsize=20)\n",
    "#     plt.savefig('/Users/mtownsend/Desktop/MeetingPlots/14May2020/lum_lowz_slice7/mask7-{}-v1.pdf'.format(i))   \n",
    "plt.show()\n",
    "\n",
    "plt.figure(figsize=(10,10))\n",
    "ax = plt.gca()\n",
    "im = ax.imshow(projectionMask, origin='lower', extent=(rz_edges.min(), rz_edges.max(), gr_edges.min(), gr_edges.max()))\n",
    "divider = make_axes_locatable(ax)\n",
    "cax = divider.append_axes('right', size='5%', pad=0.05)\n",
    "plt.colorbar(im, cax=cax)\n",
    "ax.set_title(\"Mask\".format(i))\n",
    "#     ax.set_ylim([-0.6,5.5])\n",
    "# ax.set_xlabel('zmag',fontsize=20)\n",
    "# ax.set_ylabel('r-z',fontsize=20)\n",
    "#     plt.savefig('/Users/mtownsend/Desktop/MeetingPlots/14May2020/lum_lowz_slice7/mask7-{}-v1.pdf'.format(i))   \n",
    "plt.show()\n",
    "\n",
    "\n",
    "\n",
    "# projections assuming histogram was made with the order rzcolor, zmag, grcolor\n",
    "# rz_v_zmag = H1[:, :, :].sum(axis=2)\n",
    "# # rz_vs_zmag = np.fliplr(rz_v_zmag)\n",
    "# gr_v_zmag = H1[:, :, :].sum(axis=0)\n",
    "# # gr_vs_zmag = np.flipud(gr_v_zmag.T)\n",
    "# gr_v_rz = H1[:, :, :].sum(axis=1)\n",
    "# # gr_vs_rz = np.flipud(gr_v_rz.T)"
   ]
  },
  {
   "cell_type": "code",
   "execution_count": 19,
   "metadata": {
    "scrolled": false
   },
   "outputs": [
    {
     "name": "stdout",
     "output_type": "stream",
     "text": [
      "[ 9.  10.5 12. ]\n",
      "[[[1. 2.]\n",
      "  [3. 4.]]\n",
      "\n",
      " [[5. 6.]\n",
      "  [7. 8.]]]\n",
      "\n",
      "\n",
      "\n",
      "[[1. 2.]\n",
      " [3. 4.]]\n",
      "10.5\n",
      "----\n",
      "1\n",
      "15\n",
      "9\n",
      "11\n",
      "[[5. 6.]\n",
      " [7. 8.]]\n",
      "12.0\n",
      "----\n",
      "1\n",
      "15\n",
      "9\n",
      "11\n",
      "\n",
      "\n",
      "[[[1. 0.]\n",
      "  [1. 0.]]\n",
      "\n",
      " [[1. 0.]\n",
      "  [1. 1.]]]\n"
     ]
    }
   ],
   "source": [
    "# test1 = np.array([1,2])\n",
    "# test2 = np.array([3,4])\n",
    "# test3 = np.array([5,6])\n",
    "# test3D, edges = np.histogramdd((test1, test2, test3), bins=(2,2,2), density=False)\n",
    "# # print(test3D)\n",
    "# # print('----')\n",
    "# test = np.array([[1,5],[9,3]])\n",
    "# print(test)\n",
    "# print('----')\n",
    "# # print(edges[0])\n",
    "# # print(edges[1])\n",
    "# # print(edges[2])\n",
    "\n",
    "# edges0 = edges[0]\n",
    "# edges1 = edges[1]\n",
    "# edges2 = edges[2]\n",
    "# print(len(test3D))\n",
    "\n",
    "\n",
    "# for i in range(len(test3D)):\n",
    "#     for j in range(len(test3D[i])):\n",
    "# #         print(test[i][j])\n",
    "#         for k in range(len(test3D[i][j])):\n",
    "# #             print(test[i][j])\n",
    "# #             print(k)\n",
    "# #             print('----')\n",
    "# #             if test3D[i][j][k] < test[i][j]:\n",
    "#             if edges2[k+1] <= test[i][j]:\n",
    "#                 print('less than/equal to test')\n",
    "#                 print(edges2[k+1])\n",
    "#                 print(test[i][j])\n",
    "# #                 print(test3D[i][j][k])\n",
    "#                 test3D[i][j][k] = 1.\n",
    "#             else:\n",
    "#                 print('more than test')\n",
    "#                 print(edges2[k+1])\n",
    "#                 print(test[i][j])\n",
    "# #                 print(test3D[i][j][k])\n",
    "#                 test3D[i][j][k] = 0.\n",
    "                \n",
    "# print(test3D)\n",
    "# print('----')\n",
    "# print(test3D[0][0][1])\n",
    "# print(test3D[1][0][0])\n",
    "\n",
    "test_1 = np.array([1,2,3,4])\n",
    "test_2 = np.array([5,6,7,8])\n",
    "test_3 = np.array([9,10,11,12])\n",
    "# test_array = np.array([test_1, test_2])\n",
    "# print(test_array)\n",
    "test_array3D, edges = np.histogramdd((test_1, test_2, test_3), bins=(2,2,2), density=False)\n",
    "# print(test_array3D)\n",
    "# print('----')\n",
    "# print(edges[0])\n",
    "# print(edges[1])\n",
    "print(edges[2])\n",
    "\n",
    "edges2 = edges[2]\n",
    "\n",
    "test_array3D[0][0][0] = 1\n",
    "test_array3D[0][0][1] = 2\n",
    "test_array3D[0][1][0] = 3\n",
    "test_array3D[0][1][1] = 4\n",
    "\n",
    "test_array3D[1][0][0] = 5\n",
    "test_array3D[1][0][1] = 6\n",
    "test_array3D[1][1][0] = 7\n",
    "test_array3D[1][1][1] = 8\n",
    "\n",
    "print(test_array3D)\n",
    "\n",
    "print()\n",
    "print()\n",
    "print()\n",
    "\n",
    "# print(test_array3D[0][0][0])\n",
    "# print(test_array3D[1][0])\n",
    "\n",
    "test = np.array([[1,15],[9,11]])\n",
    "\n",
    "for i in range(len(test_array3D)):\n",
    "    print(test_array3D[i])\n",
    "    print(edges2[i+1])\n",
    "    print('----')\n",
    "    for j in range(len(test_array3D[i])):\n",
    "        for k in range(len(test_array3D[i][j])):\n",
    "            if (test[j][k] <= edges2[i+1]):\n",
    "                print(test[j][k])\n",
    "                test_array3D[i][j][k] = 1\n",
    "            else:\n",
    "                print(test[j][k])\n",
    "                test_array3D[i][j][k] = 0\n",
    "\n",
    "\n",
    "print()\n",
    "print()\n",
    "print(test_array3D)\n"
   ]
  },
  {
   "cell_type": "code",
   "execution_count": 8,
   "metadata": {},
   "outputs": [
    {
     "name": "stdout",
     "output_type": "stream",
     "text": [
      "[0.6130295  0.7076664  0.84783363 0.75674057 1.5850754  1.1830883\n",
      " 0.6979141  0.37179184 0.46722794]\n",
      "----\n",
      "[0.81728554 1.0516987  1.1747913  1.3463879  1.9448185  1.0748081\n",
      " 1.1068363  0.8576355  0.8841877 ]\n",
      "----\n",
      "[15.991329 19.427385 20.14302  17.68172  19.704905 21.307852 21.852356\n",
      " 21.78076  20.158253]\n",
      "----\n",
      "[ 9.75777398 10.12609622  8.70326401 12.67248766  8.46771826 11.45241506\n",
      " 10.26012346  9.69102928 10.26223049]\n",
      "----\n",
      "[15.99132919 17.94500478 19.89868037 21.85235596]\n",
      "12.672487664863018\n",
      "17.68172\n",
      "----\n",
      "11.452415056900758\n",
      "21.307852\n",
      "----\n",
      "[[999. 999. 999.]\n",
      " [999. 999. 999.]\n",
      " [999. 999. 999.]]\n",
      "----\n",
      "[[[0. 0. 0.]\n",
      "  [0. 0. 0.]\n",
      "  [0. 0. 0.]]\n",
      "\n",
      " [[0. 0. 0.]\n",
      "  [0. 0. 0.]\n",
      "  [0. 0. 0.]]\n",
      "\n",
      " [[0. 0. 0.]\n",
      "  [0. 0. 0.]\n",
      "  [0. 0. 0.]]]\n"
     ]
    }
   ],
   "source": [
    "rzcolor = rzcolor_UVLS[0:9]\n",
    "print(rzcolor)\n",
    "print('----')\n",
    "grcolor = grcolor_UVLS[0:9]\n",
    "print(grcolor)\n",
    "print('----')\n",
    "zmag = zmag_UVLS[0:9]\n",
    "print(zmag)\n",
    "print('----')\n",
    "lum = log_gLum_cut[0:9]\n",
    "print(lum)\n",
    "print('----')\n",
    "\n",
    "\n",
    "Htest3D, edges = np.histogramdd((rzcolor, zmag, grcolor), bins=(3,3,3), density=False)\n",
    "Htest2D, rz_edges, gr_edges = np.histogram2d(rzcolor, grcolor, bins=(3,3), density=False)\n",
    "\n",
    "# print(Htest3D)\n",
    "\n",
    "# print(edges[0])\n",
    "print(edges[1])\n",
    "# print(edges[2])\n",
    "# print('---')\n",
    "# print(rz_edges)\n",
    "# print(gr_edges)\n",
    "\n",
    "\n",
    "mask_array = making_masks(Htest2D, Htest3D, 12., rzcolor, grcolor, zmag, lum, rz_edges, gr_edges, edges[1]) #, edges[2])\n",
    "\n",
    "# print(mask_array.shape)\n",
    "print(mask_array)\n",
    "# print(mask_array[0][0])\n",
    "\n",
    "# medzmag = np.zeros_like(Htest2D, dtype=float)\n",
    "# for i in range(len(xedges)-1):\n",
    "#         for j in range(len(yedges)-1): \n",
    "#             index = np.where((rzcolor >= xedges[i]) & (rzcolor <= xedges[i+1]) & (grcolor >= yedges[j]) & (grcolor <= yedges[j+1]))\n",
    "# #             print(np.where((rzcolor >= xedges[i]) & (rzcolor <= xedges[i+1]) & (grcolor >= yedges[j]) & (grcolor <= yedges[j+1])))\n",
    "#             print(zmag[index])\n",
    "#             print(\"----\")\n",
    "#             for k in range(len(index)):\n",
    "#                 if (abs(lum[index[k]]-10) < 1.):\n",
    "#                     temp.append(lum[m])\n",
    "#                     print(temp)\n",
    "# #                         print(lum[m])\n",
    "#                     if (len(temp) > 0.):\n",
    "#                         medzmag[i][j] = np.median(list(temp))\n",
    "#                     else:\n",
    "#                         medzmag[i][j] = 0.\n",
    "            \n",
    "# print(medzmag)\n"
   ]
  },
  {
   "cell_type": "markdown",
   "metadata": {},
   "source": [
    "# This is where I run the analysis and test the masks"
   ]
  },
  {
   "cell_type": "code",
   "execution_count": 6,
   "metadata": {},
   "outputs": [
    {
     "name": "stdout",
     "output_type": "stream",
     "text": [
      "done reading in SDSS\n",
      "done reading in DECaLS-SDSS matched file\n",
      "done creating unique IDs for matched file\n",
      "done making LRG only cut\n",
      "done reading in DECaLS bricks\n",
      "length of id_ALL:  4488579\n",
      "done creating unique IDs for brick file\n",
      "done identifying LRGs in survey brick\n",
      "631147\n",
      "done making survey cuts\n",
      "done reading in SDSS\n",
      "done reading in DECaLS-SDSS matched file\n",
      "done creating unique IDs for matched file\n",
      "done making LRG only cut\n",
      "done reading in DECaLS bricks\n",
      "length of id_ALL:  4076998\n",
      "done creating unique IDs for brick file\n",
      "done identifying LRGs in survey brick\n",
      "249137\n",
      "done making survey cuts\n",
      "end readdata\n"
     ]
    }
   ],
   "source": [
    "# Reads in data files for use in readData.py\n",
    "\n",
    "hdu_north = fits.open('/Users/mtownsend/anaconda/Data/survey-dr8-north-specObj-dr14.fits') # this matches SDSS LRGs to MzLS/BASS;\n",
    "                                                                 # ONLY GIVES SOURCES THAT ARE IN SDSS and LEGACY SURVEYS\n",
    "hdu_south = fits.open('/Users/mtownsend/anaconda/Data/survey-dr8-south-specObj-dr14.fits')# this matches SDSS LRGs to DECaLS;\n",
    "                                                                 # ONLY GIVES SOURCES THAT ARE IN SDSS and LEGACY SURVEYS\n",
    "hdu_sdss = fits.open('/Users/mtownsend/anaconda/Data/specObj-dr14.fits') # this is SDSS redshifts etc for LRGs\n",
    "hdu_sweep1 = fits.open('/Users/mtownsend/anaconda/Data/sweep-240p005-250p010-dr8.fits') # this is one sweep file of the DECaLS data\n",
    "hdu_sweep2 = fits.open('/Users/mtownsend/anaconda/Data/sweep-240p010-250p015-dr8.fits') # this is one sweep file of the DECaLS data\n",
    "\n",
    "SpecObj_data_north = hdu_north[1].data\n",
    "SpecObj_data_south = hdu_south[1].data\n",
    "SDSS_data = hdu_sdss[1].data\n",
    "DECaLS_data1 = hdu_sweep1[1].data\n",
    "DECaLS_data2 = hdu_sweep2[1].data\n",
    "\n",
    "id_LRG1, plate_LRG1, fiberid_LRG1, specobjid_LRG1, ra_LRG1, dec_LRG1, ra_BKG1, dec_BKG1, z_LRG1, gflux_LRG1, rflux_LRG1, zflux_LRG1, w1flux_LRG1, w2flux_LRG1, w3flux_LRG1, w4flux_LRG1, gflux_BKG1, rflux_BKG1, zflux_BKG1, w1flux_BKG1, w2flux_BKG1, w3flux_BKG1, w4flux_BKG1, gflux_ivar_LRG1, rflux_ivar_LRG1, zflux_ivar_LRG1, w1flux_ivar_LRG1, w2flux_ivar_LRG1, w3flux_ivar_LRG1, w4flux_ivar_LRG1, gflux_ivar_BKG1, rflux_ivar_BKG1, zflux_ivar_BKG1, w1flux_ivar_BKG1, w2flux_ivar_BKG1, w3flux_ivar_BKG1, w4flux_ivar_BKG1, mw_transmission_g_LRG1, mw_transmission_r_LRG1, mw_transmission_z_LRG1, mw_transmission_g_BKG1, mw_transmission_r_BKG1, mw_transmission_z_BKG1, mw_transmission_w1_LRG1, mw_transmission_w2_LRG1, mw_transmission_w3_LRG1, mw_transmission_w4_LRG1, mw_transmission_w1_BKG1, mw_transmission_w2_BKG1, mw_transmission_w3_BKG1, mw_transmission_w4_BKG1 = readData(SpecObj_data_south, SDSS_data, DECaLS_data1)\n",
    "id_LRG2, plate_LRG2, fiberid_LRG2, specobjid_LRG2, ra_LRG2, dec_LRG2, ra_BKG2, dec_BKG2, z_LRG2, gflux_LRG2, rflux_LRG2, zflux_LRG2, w1flux_LRG2, w2flux_LRG2, w3flux_LRG2, w4flux_LRG2, gflux_BKG2, rflux_BKG2, zflux_BKG2, w1flux_BKG2, w2flux_BKG2, w3flux_BKG2, w4flux_BKG2, gflux_ivar_LRG2, rflux_ivar_LRG2, zflux_ivar_LRG2, w1flux_ivar_LRG2, w2flux_ivar_LRG2, w3flux_ivar_LRG2, w4flux_ivar_LRG2, gflux_ivar_BKG2, rflux_ivar_BKG2, zflux_ivar_BKG2, w1flux_ivar_BKG2, w2flux_ivar_BKG2, w3flux_ivar_BKG2, w4flux_ivar_BKG2, mw_transmission_g_LRG2, mw_transmission_r_LRG2, mw_transmission_z_LRG2, mw_transmission_g_BKG2, mw_transmission_r_BKG2, mw_transmission_z_BKG2, mw_transmission_w1_LRG2, mw_transmission_w2_LRG2, mw_transmission_w3_LRG2, mw_transmission_w4_LRG2, mw_transmission_w1_BKG2, mw_transmission_w2_BKG2, mw_transmission_w3_BKG2, mw_transmission_w4_BKG2 = readData(SpecObj_data_south, SDSS_data, DECaLS_data2)\n",
    "\n",
    "\n",
    "print(\"end readdata\")\n",
    "\n",
    "# IMPORTANT NOTE: LRG data is the same for each.\n"
   ]
  },
  {
   "cell_type": "code",
   "execution_count": 7,
   "metadata": {},
   "outputs": [
    {
     "name": "stdout",
     "output_type": "stream",
     "text": [
      "2037\n",
      "1823\n"
     ]
    },
    {
     "data": {
      "image/png": "[encoded data removed]",
      "text/plain": [
       "<Figure size 432x288 with 1 Axes>"
      ]
     },
     "metadata": {
      "needs_background": "light"
     },
     "output_type": "display_data"
    }
   ],
   "source": [
    "# calculate LRG magnitudes\n",
    "\n",
    "gmag_LRG_nocuts = 22.5 - 2.5 * np.log10(gflux_LRG1/mw_transmission_g_LRG1)\n",
    "rmag_LRG_nocuts = 22.5 - 2.5 * np.log10(rflux_LRG1/mw_transmission_r_LRG1)\n",
    "zmag_LRG_nocuts = 22.5 - 2.5 * np.log10(zflux_LRG1/mw_transmission_z_LRG1)\n",
    "\n",
    "print(len(zmag_LRG_nocuts))\n",
    "\n",
    "# calculate BKG magnitudes\n",
    "\n",
    "gmag_BKG1 = 22.5 - 2.5 * np.log10(gflux_BKG1)\n",
    "gmag_BKG2 = 22.5 - 2.5 * np.log10(gflux_BKG2)\n",
    "rmag_BKG1 = 22.5 - 2.5 * np.log10(rflux_BKG1)\n",
    "rmag_BKG2 = 22.5 - 2.5 * np.log10(rflux_BKG2)\n",
    "zmag_BKG1 = 22.5 - 2.5 * np.log10(zflux_BKG1)\n",
    "zmag_BKG2 = 22.5 - 2.5 * np.log10(zflux_BKG2)\n",
    "\n",
    "gmag_BKG_nocuts = np.concatenate([gmag_BKG1, gmag_BKG2])\n",
    "rmag_BKG_nocuts = np.concatenate([rmag_BKG1, rmag_BKG2])\n",
    "zmag_BKG_nocuts = np.concatenate([zmag_BKG1, zmag_BKG2])\n",
    "  \n",
    "    \n",
    "# zmag_cut_test = np.concatenate([zmag_LRG_nocuts, zmag_BKG])\n",
    "    \n",
    "# calculate LRG (g-r) and (r-z) colors\n",
    "    \n",
    "grcolor_LRG_nocuts = gmag_LRG_nocuts - rmag_LRG_nocuts\n",
    "rzcolor_LRG_nocuts = rmag_LRG_nocuts - zmag_LRG_nocuts\n",
    "    \n",
    "# calculate BKG (g-r) and (r-z) colors\n",
    "    \n",
    "grcolor_BKG_nocuts = gmag_BKG_nocuts - rmag_BKG_nocuts\n",
    "rzcolor_BKG_nocuts = rmag_BKG_nocuts - zmag_BKG_nocuts\n",
    "\n",
    "# create full list of LRG attributes\n",
    "\n",
    "ra_LRG_nocuts = ra_LRG1\n",
    "ra_BKG_nocuts = np.concatenate([ra_BKG1, ra_BKG2])\n",
    "dec_LRG_nocuts = dec_LRG1\n",
    "dec_BKG_nocuts = np.concatenate([dec_BKG1, dec_BKG2])\n",
    "z_LRG_nocuts = z_LRG1\n",
    "id_LRG_nocuts = id_LRG1\n",
    "\n",
    "ra_nocuts = np.concatenate([ra_LRG_nocuts, ra_BKG_nocuts])\n",
    "dec_nocuts = np.concatenate([dec_LRG_nocuts, dec_BKG_nocuts])\n",
    "\n",
    "# cut for zmag brighter than 22.36\n",
    "\n",
    "ra_LRG_temp = ra_LRG_nocuts[np.where((z_LRG_nocuts >= 0.2) & (z_LRG_nocuts <= 0.65) & (zmag_LRG_nocuts <= 22.36))]\n",
    "dec_LRG_temp = dec_LRG_nocuts[np.where((z_LRG_nocuts >= 0.2) & (z_LRG_nocuts <= 0.65) & (zmag_LRG_nocuts <= 22.36))]\n",
    "id_LRG_temp = id_LRG_nocuts[np.where((z_LRG_nocuts >= 0.2) & (z_LRG_nocuts <= 0.65) & (zmag_LRG_nocuts <= 22.36))]\n",
    "z_LRG_temp = z_LRG_nocuts[np.where((z_LRG_nocuts >= 0.2) & (z_LRG_nocuts <= 0.65) & (zmag_LRG_nocuts <= 22.36))]\n",
    "gmag_LRG_temp = gmag_LRG_nocuts[np.where((z_LRG_nocuts >= 0.2) & (z_LRG_nocuts <= 0.65) & (zmag_LRG_nocuts <= 22.36))]\n",
    "rmag_LRG_temp = rmag_LRG_nocuts[np.where((z_LRG_nocuts >= 0.2) & (z_LRG_nocuts <= 0.65) & (zmag_LRG_nocuts <= 22.36))]\n",
    "zmag_LRG_temp = zmag_LRG_nocuts[np.where((z_LRG_nocuts >= 0.2) & (z_LRG_nocuts <= 0.65) & (zmag_LRG_nocuts <= 22.36))]\n",
    "grcolor_LRG_temp = grcolor_LRG_nocuts[np.where((z_LRG_nocuts >= 0.2) & (z_LRG_nocuts <= 0.65) & (zmag_LRG_nocuts <= 22.36))]\n",
    "rzcolor_LRG_temp = rzcolor_LRG_nocuts[np.where((z_LRG_nocuts >= 0.2) & (z_LRG_nocuts <= 0.65) & (zmag_LRG_nocuts <= 22.36))]\n",
    "\n",
    "# calculate rest-frame magnitudes\n",
    "\n",
    "# K_correct = -2.5*np.log10((1. + z_LRG_temp)**-1.)\n",
    "# Mz = zmag_LRG_temp - DM_arr - K_correct\n",
    "# Lz = 10.**((Mz-Msun_z)/(-2.5))\n",
    "# log_Lz = np.log10(Lz)\n",
    "\n",
    "ra_LRG = ra_LRG_temp #[np.where(log_Lz > 10.5)]\n",
    "dec_LRG = dec_LRG_temp # [np.where(log_Lz > 10.5)]\n",
    "id_LRG = id_LRG_temp # [np.where(log_Lz > 10.5)]\n",
    "z_LRG = z_LRG_temp # [np.where(log_Lz > 10.5)]\n",
    "\n",
    "# plate_LRG = plate_LRG1[np.where((z_LRG_nocuts >= 0.2) & (z_LRG_nocuts <= 0.65) & (zmag_LRG_nocuts <= 22.36))]\n",
    "# fiberid_LRG = fiberid_LRG1[np.where((z_LRG_nocuts >= 0.2) & (z_LRG_nocuts <= 0.65) & (zmag_LRG_nocuts <= 22.36))]\n",
    "\n",
    "gmag_LRG = gmag_LRG_temp # [np.where(log_Lz > 10.5)]\n",
    "rmag_LRG = rmag_LRG_temp # [np.where(log_Lz > 10.5)]\n",
    "zmag_LRG = zmag_LRG_temp # [np.where(log_Lz > 10.5)]\n",
    "grcolor_LRG = grcolor_LRG_temp # [np.where(log_Lz > 10.5)]\n",
    "rzcolor_LRG = rzcolor_LRG_temp# [np.where(log_Lz > 10.5)]\n",
    "\n",
    "ra_BKG = ra_BKG_nocuts[np.where(zmag_BKG_nocuts <= 22.36)]\n",
    "dec_BKG = dec_BKG_nocuts[np.where(zmag_BKG_nocuts <= 22.36)]\n",
    "\n",
    "gmag_BKG = gmag_BKG_nocuts[np.where(zmag_BKG_nocuts <= 22.36)]\n",
    "rmag_BKG = rmag_BKG_nocuts[np.where(zmag_BKG_nocuts <= 22.36)]\n",
    "zmag_BKG = zmag_BKG_nocuts[np.where(zmag_BKG_nocuts <= 22.36)]\n",
    "grcolor_BKG = grcolor_BKG_nocuts[np.where(zmag_BKG_nocuts <= 22.36)]\n",
    "rzcolor_BKG = rzcolor_BKG_nocuts[np.where(zmag_BKG_nocuts <= 22.36)]\n",
    "\n",
    "# combine LRG and BKG lists\n",
    "\n",
    "ra = np.concatenate([ra_LRG, ra_BKG])\n",
    "dec = np.concatenate([dec_LRG, dec_BKG])\n",
    "\n",
    "gmag = np.concatenate([gmag_LRG, gmag_BKG])\n",
    "rmag = np.concatenate([rmag_LRG, rmag_BKG])\n",
    "zmag = np.concatenate([zmag_LRG, zmag_BKG])\n",
    "\n",
    "grcolor = np.concatenate([grcolor_LRG, grcolor_BKG]) \n",
    "rzcolor = np.concatenate([rzcolor_LRG, rzcolor_BKG]) \n",
    "\n",
    "print(len(ra_LRG))\n",
    "\n",
    "\n",
    "plt.scatter(zmag_UVLS, rzcolor_UVLS, s=1, c='indigo', label=\"UVISTA\")\n",
    "plt.scatter(zmag, rzcolor, s=1, c='lightblue', alpha=0.2, label='Legacy Survey')\n",
    "plt.gca().invert_xaxis()\n",
    "plt.title(\"CMD for UVISTA and Legacy Survey\")\n",
    "plt.xlabel(r'$z-mag$', fontsize=20)\n",
    "plt.ylabel(r'$(r-z)$ $color$', fontsize=20)\n",
    "plt.legend(loc='upper right', markerscale=3)\n",
    "# plt.savefig('/Users/mtownsend/Desktop/compareCMDs/UVISTA_and_LS_CMD-v1.pdf')\n",
    "\n",
    "plt.show()\n"
   ]
  },
  {
   "cell_type": "code",
   "execution_count": 8,
   "metadata": {},
   "outputs": [
    {
     "name": "stdout",
     "output_type": "stream",
     "text": [
      "end cosmoCalc\n"
     ]
    }
   ],
   "source": [
    "DTT_Gyr, age_Gyr, zage_Gyr, DCMR_Mpc, DCMR_Gyr, DA_Mpc, DA_Gyr, kpc_DA, DL_Mpc, DL_Gyr, V_Gpc = cosmoCalcfunc(z_LRG)\n",
    "\n",
    "print(\"end cosmoCalc\")"
   ]
  },
  {
   "cell_type": "code",
   "execution_count": 15,
   "metadata": {},
   "outputs": [],
   "source": [
    "rz_edges = [-1.8027077, -1.5527076721191406, -1.3027076721191406, -1.0527076721191406, -0.8027076721191406, -0.5527076721191406, -0.3027076721191406, -0.052707672119140625, 0.19729232788085938, 0.4472923278808594, 0.6972923278808594, 0.9472923278808594, 1.1972923278808594, 1.4472923278808594, 1.6972923278808594, 1.9472923278808594, 2.1972923278808594, 2.4472923278808594, 2.6972923278808594, 2.9472923278808594, 3.1972923278808594, 3.4472923278808594, 3.6972923278808594, 3.9472923278808594, 4.197292327880859, 4.447292327880859, 4.697292327880859, 4.947292327880859, 5.197292327880859, 5.447292327880859, 5.697292327880859, 5.947292327880859, 6.197292327880859, 6.447292327880859, 6.697292327880859, 6.947292327880859, 7.197292327880859, 7.447292327880859, 7.697292327880859, 7.947292327880859, 8.19729232788086, 8.44729232788086, 8.69729232788086, 8.94729232788086, 9.19729232788086, 9.44729232788086, 9.69729232788086, 9.94729232788086, 10.19729232788086, 10.44729232788086]\n",
    "zmag_edges = [13.22509, 13.425090026855468, 13.625090026855467, 13.825090026855467, 14.025090026855466, 14.225090026855465, 14.425090026855464, 14.625090026855464, 14.825090026855463, 15.025090026855462, 15.225090026855462, 15.425090026855461, 15.62509002685546, 15.82509002685546, 16.02509002685546, 16.225090026855458, 16.425090026855457, 16.625090026855457, 16.825090026855456, 17.025090026855455, 17.225090026855455, 17.425090026855454, 17.625090026855453, 17.825090026855452, 18.02509002685545, 18.22509002685545, 18.42509002685545, 18.62509002685545, 18.82509002685545, 19.025090026855448, 19.225090026855447, 19.425090026855447, 19.625090026855446, 19.825090026855445, 20.025090026855445, 20.225090026855444, 20.425090026855443, 20.625090026855442, 20.82509002685544, 21.02509002685544, 21.22509002685544, 21.42509002685544, 21.62509002685544, 21.825090026855438, 22.025090026855437, 22.225090026855437, 22.425090026855436, 22.625090026855435, 22.825090026855435, 23.025090026855434]\n",
    "gr_edges = [-6.5846786, -6.234678649902344, -5.8846786499023445, -5.534678649902345, -5.184678649902345, -4.8346786499023455, -4.484678649902346, -4.134678649902346, -3.784678649902346, -3.434678649902346, -3.084678649902346, -2.734678649902346, -2.384678649902346, -2.0346786499023457, -1.6846786499023456, -1.3346786499023455, -0.9846786499023455, -0.6346786499023456, -0.2846786499023456, 0.06532135009765438, 0.41532135009765436, 0.7653213500976543, 1.1153213500976542, 1.4653213500976543, 1.8153213500976544, 2.1653213500976545, 2.5153213500976546, 2.8653213500976547, 3.2153213500976547, 3.565321350097655, 3.915321350097655, 4.265321350097655, 4.615321350097655, 4.965321350097654, 5.315321350097654, 5.665321350097654, 6.015321350097653, 6.365321350097653, 6.7153213500976525, 7.065321350097652, 7.415321350097652, 7.7653213500976515, 8.115321350097652, 8.465321350097652, 8.815321350097651, 9.165321350097651, 9.51532135009765, 9.86532135009765, 10.21532135009765, 10.56532135009765]\n",
    "\n",
    "H1, nouse_edges = np.histogramdd((rzcolor, zmag, grcolor), bins=(rz_edges, zmag_edges, gr_edges), density=False)\n",
    "\n"
   ]
  },
  {
   "cell_type": "code",
   "execution_count": 16,
   "metadata": {},
   "outputs": [
    {
     "data": {
      "image/png": "[encoded data removed]",
      "text/plain": [
       "<Figure size 417.6x460.8 with 2 Axes>"
      ]
     },
     "metadata": {
      "needs_background": "light"
     },
     "output_type": "display_data"
    },
    {
     "name": "stdout",
     "output_type": "stream",
     "text": [
      "length phi:  519348\n"
     ]
    }
   ],
   "source": [
    "# Make HEALPix map using just RA/Dec; end up with a density plot\n",
    "\n",
    "nside = 1024\n",
    "npixel = hp.nside2npix(nside)\n",
    "\n",
    "# Convert ra/dec into theta/phi\n",
    "theta = []\n",
    "phi = []\n",
    "\n",
    "for i in range(len(ra)):\n",
    "    theta.append(np.radians(90. - dec[i]))\n",
    "    phi.append(np.radians(ra[i]))\n",
    "    \n",
    "m = hp.ang2pix(nside, theta, phi)\n",
    "map_ = np.bincount(m, minlength=npixel)\n",
    "hp.gnomview(map_, xsize=225, rot=(-116.5, 9), flip='geo', cmap='viridis', notext=True, title=\"\")\n",
    "# plt.rcParams.update({'font.size':20})\n",
    "# plt.savefig('/Users/mtownsend/Desktop/survey-density.jpg')\n",
    "# plt.savefig('/Users/mtownsend/Desktop/MeetingPlots/HEALPix-survey-density-v2.pdf')\n",
    "plt.show()\n",
    "\n",
    "print('length phi: ', len(phi))\n",
    "\n",
    "# Convert angles theta and phi to pixel numbers\n",
    "\n",
    "pixnums = hp.ang2pix(nside, theta, phi, nest=True)\n"
   ]
  },
  {
   "cell_type": "code",
   "execution_count": 17,
   "metadata": {},
   "outputs": [
    {
     "name": "stdout",
     "output_type": "stream",
     "text": [
      "end nearNeighbor\n"
     ]
    }
   ],
   "source": [
    "distance = 0.5 # must be in Mpc\n",
    "\n",
    "distance_kpc, near, gal_tree, dist, index, nn1 = nearNeighbor(distance, kpc_DA, ra_LRG, dec_LRG, ra_BKG, dec_BKG, zmag_LRG, zmag_BKG, rzcolor_LRG, rzcolor_BKG, grcolor_LRG, grcolor_BKG, nouse_edges)\n",
    "\n",
    "print('end nearNeighbor')\n"
   ]
  },
  {
   "cell_type": "code",
   "execution_count": 18,
   "metadata": {},
   "outputs": [
    {
     "name": "stdout",
     "output_type": "stream",
     "text": [
      "mean number of near neighbors is 47.37410861217773\n",
      "median number of near neighbors is 41.0\n",
      "standard deviation of near neighbor is 23.851534505334982\n",
      "standard error is 0.5587816536680068\n"
     ]
    },
    {
     "data": {
      "image/png": "[encoded data removed]",
      "text/plain": [
       "<Figure size 720x576 with 1 Axes>"
      ]
     },
     "metadata": {
      "needs_background": "light"
     },
     "output_type": "display_data"
    }
   ],
   "source": [
    "totalNear(near)\n",
    "\n",
    "plt.show()"
   ]
  },
  {
   "cell_type": "code",
   "execution_count": 13,
   "metadata": {},
   "outputs": [
    {
     "name": "stdout",
     "output_type": "stream",
     "text": [
      "end bkg\n"
     ]
    }
   ],
   "source": [
    "inner_dist = 0.4 # in deg\n",
    "outer_dist = 0.5 # in deg\n",
    "\n",
    "Nbkg, indices, omega, localBKG = localBKG_and_interlopersHEALPix(nside, inner_dist, outer_dist, ra_LRG, dec_LRG, pixnums, zmag, rzcolor, grcolor, nouse_edges, distance_kpc, kpc_DA)\n",
    "\n",
    "omega = np.array(omega)\n",
    "\n",
    "print(\"end bkg\")"
   ]
  },
  {
   "cell_type": "code",
   "execution_count": 14,
   "metadata": {},
   "outputs": [
    {
     "name": "stdout",
     "output_type": "stream",
     "text": [
      "mean number of interlopers is 0.0\n",
      "median number of interlopers is 0.0\n",
      "standard deviation of interloper is 0.0\n",
      "standard error is 0.0\n"
     ]
    },
    {
     "data": {
      "image/png": "[encoded data removed]",
      "text/plain": [
       "<Figure size 720x576 with 1 Axes>"
      ]
     },
     "metadata": {
      "needs_background": "light"
     },
     "output_type": "display_data"
    }
   ],
   "source": [
    "totalNbkg(Nbkg)\n",
    "\n",
    "plt.show()\n",
    "\n",
    "Nbkg = np.array(Nbkg)"
   ]
  },
  {
   "cell_type": "code",
   "execution_count": null,
   "metadata": {},
   "outputs": [],
   "source": [
    "Nsat = np.array(near) - np.array(Nbkg)\n",
    "\n",
    "print(Nsat[0].shape)\n",
    "print(\"end Nsat\")"
   ]
  },
  {
   "cell_type": "code",
   "execution_count": null,
   "metadata": {},
   "outputs": [],
   "source": [
    "totalNsat(Nsat)\n",
    "\n",
    "# plt.savefig('/Users/mtownsend/Desktop/maskedNsat.jpg')\n",
    "plt.show()"
   ]
  },
  {
   "cell_type": "code",
   "execution_count": null,
   "metadata": {},
   "outputs": [],
   "source": [
    "# make a dictionary of Nsat in different redshift slices\n",
    "\n",
    "# defines redshift slices\n",
    "zinit = 0.2\n",
    "zfin = 0.65\n",
    "interval = 0.05\n",
    "num = (zfin-zinit)/interval\n",
    "zrange, step = np.linspace(zinit, zfin, num=int(num), retstep=True)\n",
    "print(zrange)\n",
    "\n",
    "NsatDict = {}\n",
    "keys = range(len(zrange)-1)\n",
    "for i in keys:\n",
    "    NsatDict[i] = Nsat[np.where((z_LRG > zrange[i]) & (z_LRG < zrange[i+1]))]\n",
    "#     Dict[i] = zrange[i]\n",
    "\n",
    "maskDict = {}\n",
    "for i in range(len(zrange)-1):\n",
    "    maskDict[i] = masks[i]\n",
    "\n",
    "print(len(NsatDict))\n",
    "print(len(maskDict))"
   ]
  },
  {
   "cell_type": "code",
   "execution_count": null,
   "metadata": {},
   "outputs": [],
   "source": [
    "\n",
    "newNsat = {}\n",
    "for i in range(len(maskDict)):\n",
    "    newNsat[i] = NsatDict[i] * maskDict[i]\n",
    "    \n",
    "print(len(newNsat[0]))\n",
    "print(len(newNsat[1]))\n",
    "print(len(newNsat[2]))\n",
    "print(len(newNsat[3]))\n",
    "print(len(newNsat[4]))\n",
    "print(len(newNsat[5]))\n",
    "print(len(newNsat[6]))\n",
    "print(len(newNsat[7]))\n",
    "\n",
    "    \n",
    "maskedNsat = []\n",
    "for i in range(len(newNsat)):\n",
    "    for j in range(len(NsatDict[i])):\n",
    "        maskedNsat.append(newNsat[i][j])\n",
    "    \n",
    "print(len(maskedNsat))"
   ]
  },
  {
   "cell_type": "code",
   "execution_count": null,
   "metadata": {},
   "outputs": [],
   "source": [
    "newNsat0 = newNsat[0]\n",
    "newNsat1 = newNsat[1]\n",
    "newNsat2 = newNsat[2]\n",
    "newNsat3 = newNsat[3]\n",
    "newNsat4 = newNsat[4]\n",
    "newNsat5 = newNsat[5]\n",
    "newNsat6 = newNsat[6]\n",
    "newNsat7 = newNsat[7]\n"
   ]
  },
  {
   "cell_type": "code",
   "execution_count": null,
   "metadata": {},
   "outputs": [],
   "source": [
    "totalNsat(maskedNsat)\n",
    "\n",
    "# plt.savefig('/Users/mtownsend/Desktop/maskedNsat.jpg')\n",
    "plt.show()"
   ]
  },
  {
   "cell_type": "code",
   "execution_count": null,
   "metadata": {},
   "outputs": [],
   "source": [
    "totalNsat(newNsat0)\n",
    "\n",
    "# plt.savefig('/Users/mtownsend/Desktop/maskedNsat0.jpg')\n",
    "plt.show()"
   ]
  },
  {
   "cell_type": "code",
   "execution_count": null,
   "metadata": {},
   "outputs": [],
   "source": [
    "totalNsat(newNsat1)\n",
    "\n",
    "# plt.savefig('/Users/mtownsend/Desktop/maskedNsat1.jpg')\n",
    "plt.show()"
   ]
  },
  {
   "cell_type": "code",
   "execution_count": null,
   "metadata": {},
   "outputs": [],
   "source": [
    "totalNsat(newNsat2)\n",
    "\n",
    "# plt.savefig('/Users/mtownsend/Desktop/maskedNsat2.jpg')\n",
    "plt.show()"
   ]
  },
  {
   "cell_type": "code",
   "execution_count": null,
   "metadata": {},
   "outputs": [],
   "source": [
    "totalNsat(newNsat3)\n",
    "\n",
    "# plt.savefig('/Users/mtownsend/Desktop/maskedNsat3.jpg')\n",
    "plt.show()"
   ]
  },
  {
   "cell_type": "code",
   "execution_count": null,
   "metadata": {},
   "outputs": [],
   "source": [
    "totalNsat(newNsat4)\n",
    "\n",
    "# plt.savefig('/Users/mtownsend/Desktop/maskedNsat4.jpg')\n",
    "plt.show()"
   ]
  },
  {
   "cell_type": "code",
   "execution_count": null,
   "metadata": {},
   "outputs": [],
   "source": [
    "totalNsat(newNsat5)\n",
    "\n",
    "# plt.savefig('/Users/mtownsend/Desktop/maskedNsat5.jpg')\n",
    "plt.show()"
   ]
  },
  {
   "cell_type": "code",
   "execution_count": null,
   "metadata": {},
   "outputs": [],
   "source": [
    "totalNsat(newNsat6)\n",
    "\n",
    "# plt.savefig('/Users/mtownsend/Desktop/maskedNsat6.jpg')\n",
    "plt.show()"
   ]
  },
  {
   "cell_type": "code",
   "execution_count": null,
   "metadata": {},
   "outputs": [],
   "source": [
    "totalNsat(newNsat7)\n",
    "\n",
    "# plt.savefig('/Users/mtownsend/Desktop/maskedNsat7.jpg')\n",
    "plt.show()"
   ]
  }
 ],
 "metadata": {
  "kernelspec": {
   "display_name": "Python 3",
   "language": "python",
   "name": "python3"
  },
  "language_info": {
   "codemirror_mode": {
    "name": "ipython",
    "version": 3
   },
   "file_extension": ".py",
   "mimetype": "text/x-python",
   "name": "python",
   "nbconvert_exporter": "python",
   "pygments_lexer": "ipython3",
   "version": "3.5.5"
  }
 },
 "nbformat": 4,
 "nbformat_minor": 2
}
