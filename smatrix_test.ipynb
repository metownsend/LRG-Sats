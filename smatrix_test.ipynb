{
 "cells": [
  {
   "cell_type": "code",
   "execution_count": 8,
   "metadata": {},
   "outputs": [],
   "source": [
    "import matplotlib.pylab as plt \n",
    "import matplotlib.lines as mlines\n",
    "from matplotlib.legend import Legend\n",
    "import numpy as np\n",
    "from mpl_toolkits.axes_grid1 import make_axes_locatable\n"
   ]
  },
  {
   "cell_type": "code",
   "execution_count": 28,
   "metadata": {},
   "outputs": [
    {
     "name": "stdout",
     "output_type": "stream",
     "text": [
      "<class 'numpy.ndarray'>\n",
      "(49, 49, 49)\n",
      "(49, 49, 49)\n",
      "(49, 49, 49)\n",
      "(49, 49, 49)\n",
      "(49, 49, 49)\n"
     ]
    }
   ],
   "source": [
    "rz_edges = np.array([-1.8027077, -1.5527076721191406, -1.3027076721191406, -1.0527076721191406, -0.8027076721191406, -0.5527076721191406, -0.3027076721191406, -0.052707672119140625, 0.19729232788085938, 0.4472923278808594, 0.6972923278808594, 0.9472923278808594, 1.1972923278808594, 1.4472923278808594, 1.6972923278808594, 1.9472923278808594, 2.1972923278808594, 2.4472923278808594, 2.6972923278808594, 2.9472923278808594, 3.1972923278808594, 3.4472923278808594, 3.6972923278808594, 3.9472923278808594, 4.197292327880859, 4.447292327880859, 4.697292327880859, 4.947292327880859, 5.197292327880859, 5.447292327880859, 5.697292327880859, 5.947292327880859, 6.197292327880859, 6.447292327880859, 6.697292327880859, 6.947292327880859, 7.197292327880859, 7.447292327880859, 7.697292327880859, 7.947292327880859, 8.19729232788086, 8.44729232788086, 8.69729232788086, 8.94729232788086, 9.19729232788086, 9.44729232788086, 9.69729232788086, 9.94729232788086, 10.19729232788086, 10.44729232788086])\n",
    "# zmag_edges = np.array([13.22509, 14.025090026855466, 15.025090026855462, 16.02509002685546, 17.025090026855455, 18.02509002685545, 19.025090026855448, 20.025090026855445, 21.025, 22.025090026855437, 23.025090026855434])\n",
    "gr_edges = np.array([-6.5846786, -6.234678649902344, -5.8846786499023445, -5.534678649902345, -5.184678649902345, -4.8346786499023455, -4.484678649902346, -4.134678649902346, -3.784678649902346, -3.434678649902346, -3.084678649902346, -2.734678649902346, -2.384678649902346, -2.0346786499023457, -1.6846786499023456, -1.3346786499023455, -0.9846786499023455, -0.6346786499023456, -0.2846786499023456, 0.06532135009765438, 0.41532135009765436, 0.7653213500976543, 1.1153213500976542, 1.4653213500976543, 1.8153213500976544, 2.1653213500976545, 2.5153213500976546, 2.8653213500976547, 3.2153213500976547, 3.565321350097655, 3.915321350097655, 4.265321350097655, 4.615321350097655, 4.965321350097654, 5.315321350097654, 5.665321350097654, 6.015321350097653, 6.365321350097653, 6.7153213500976525, 7.065321350097652, 7.415321350097652, 7.7653213500976515, 8.115321350097652, 8.465321350097652, 8.815321350097651, 9.165321350097651, 9.51532135009765, 9.86532135009765, 10.21532135009765, 10.56532135009765])\n",
    "\n",
    "zmaginit = 13.\n",
    "zmagfin = 23.\n",
    "interval = 0.2\n",
    "zmag_num = (zmagfin-zmaginit)/interval\n",
    "zmag_edges, step = np.linspace(zmaginit, zmagfin, num=int(zmag_num), retstep=True)\n",
    "print(type(zmag_edges))\n",
    "\n",
    "\n",
    "data_zmag = np.load('/Users/mtownsend/Desktop/middle-z-1-selection_matrix-v1.npz')\n",
    "# data_smatrix = np.load('/Users/mtownsend/Desktop/highz_mask_test1.npz')\n",
    "data_smatrix = np.load('/Users/mtownsend/Desktop/high-z_selection_matrix-v3.npz')\n",
    "\n",
    "# data = data_smatrix['smatrix']\n",
    "# mask0 = data[0]\n",
    "# mask1 = data[1]\n",
    "# mask2 = data[2]\n",
    "# mask3 = data[3]\n",
    "# mask4 = data[4]\n",
    "\n",
    "# print(mask0.shape)\n",
    "# print(mask1.shape)\n",
    "# print(mask2.shape)\n",
    "# print(mask3.shape)\n",
    "# print(mask4.shape)\n",
    "\n",
    "mask0 = data_smatrix['smatrix0']\n",
    "mask1 = data_smatrix['smatrix1']\n",
    "mask2 = data_smatrix['smatrix2']\n",
    "mask3 = data_smatrix['smatrix3']\n",
    "mask4 = data_smatrix['smatrix4']\n",
    "\n",
    "mega_mask = mask0 + mask1 + mask2 + mask3 + mask4\n",
    "\n",
    "projectionMask0 = mask0[:, :, :].sum(axis=2)\n",
    "projectionMask1 = mask1[:, :, :].sum(axis=2)\n",
    "projectionMask2 = mask2[:, :, :].sum(axis=2)\n",
    "projectionMask3 = mask3[:, :, :].sum(axis=2)\n",
    "projectionMask4 = mask4[:, :, :].sum(axis=2)\n",
    "\n",
    "projectionMegaMask = mega_mask[:, :, :].sum(axis=2)\n"
   ]
  },
  {
   "cell_type": "code",
   "execution_count": 32,
   "metadata": {},
   "outputs": [
    {
     "data": {
      "image/png": "[encoded data removed]",
      "text/plain": [
       "<Figure size 720x720 with 2 Axes>"
      ]
     },
     "metadata": {
      "needs_background": "light"
     },
     "output_type": "display_data"
    }
   ],
   "source": [
    "plt.figure(figsize=(10,10))\n",
    "ax = plt.gca()\n",
    "im = ax.imshow(projectionMegaMask, origin='lower', extent=(gr_edges.min(), gr_edges.max(), rz_edges.min(), rz_edges.max()))\n",
    "divider = make_axes_locatable(ax)\n",
    "cax = divider.append_axes('right', size='5%', pad=0.05)\n",
    "plt.colorbar(im, cax=cax)\n",
    "# ax.set_title(\"Median zmag\")\n",
    "# plt.savefig('/Users/mtownsend/Desktop/MeetingPlots/9July2020/a-medzmag-21.64-overplot.pdf')\n",
    "plt.show()\n",
    "\n",
    "# plt.figure(figsize=(10,10))\n",
    "# ax = plt.gca()\n",
    "# im = ax.imshow(medzmag4, origin='lower', extent=(gr_edges.min(), gr_edges.max(), rz_edges.min(), rz_edges.max()))\n",
    "# divider = make_axes_locatable(ax)\n",
    "# cax = divider.append_axes('right', size='5%', pad=0.05)\n",
    "# plt.colorbar(im, cax=cax)\n",
    "# ax.set_title(\"Median zmag\")\n",
    "# # plt.savefig('/Users/mtownsend/Desktop/MeetingPlots/9July2020/a-medzmag-21.64-overplot.pdf')\n",
    "# plt.show()\n"
   ]
  },
  {
   "cell_type": "code",
   "execution_count": null,
   "metadata": {},
   "outputs": [],
   "source": []
  }
 ],
 "metadata": {
  "kernelspec": {
   "display_name": "Python 3",
   "language": "python",
   "name": "python3"
  },
  "language_info": {
   "codemirror_mode": {
    "name": "ipython",
    "version": 3
   },
   "file_extension": ".py",
   "mimetype": "text/x-python",
   "name": "python",
   "nbconvert_exporter": "python",
   "pygments_lexer": "ipython3",
   "version": "3.5.5"
  }
 },
 "nbformat": 4,
 "nbformat_minor": 2
}
