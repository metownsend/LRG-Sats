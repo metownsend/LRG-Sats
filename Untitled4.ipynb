{
 "cells": [
  {
   "cell_type": "code",
   "execution_count": null,
   "metadata": {},
   "outputs": [],
   "source": [
    "import nummpy as np"
   ]
  },
  {
   "cell_type": "code",
   "execution_count": null,
   "metadata": {},
   "outputs": [],
   "source": [
    "def median_zmag(H2D, lum_limit, lum, x, y, z, xedges, yedges):\n",
    "    # For use with selection_matrix.py\n",
    "    # lum_limit == log(luminosity threshold)\n",
    "    # x,y,z == arrays involved in the 3D histogram\n",
    "    # lum = log luminosity array; same size as x (or y or z)\n",
    "    # xedges,yedges = boundaries to search for x,y\n",
    "\n",
    "    import numpy as np\n",
    "\n",
    "    temp = []\n",
    "    medzmag = np.full_like(H2D, -999., dtype=float)\n",
    "\n",
    "    # This loop finds the observed zmag that cooresponds to the luminosity limit for each cell in color-color space\n",
    "    for i in range(len(xedges) - 1):\n",
    "        for j in range(len(yedges) - 1):\n",
    "            for m in range(len(x)):\n",
    "                if ((x[m] >= xedges[i]) & (x[m] <= xedges[i + 1]) & (y[m] >= yedges[j]) & (y[m] <= yedges[j + 1])):\n",
    "                    if (abs(lum[m] - lum_limit) < 0.2):\n",
    "                        temp.append(z[m])\n",
    "                    if (len(temp) > 0.):\n",
    "                        medzmag[i][j] = np.median(list(temp))\n",
    "\n",
    "        temp = []\n",
    "\n",
    "    return medzmag"
   ]
  }
 ],
 "metadata": {
  "kernelspec": {
   "display_name": "Python 3",
   "language": "python",
   "name": "python3"
  },
  "language_info": {
   "codemirror_mode": {
    "name": "ipython",
    "version": 3
   },
   "file_extension": ".py",
   "mimetype": "text/x-python",
   "name": "python",
   "nbconvert_exporter": "python",
   "pygments_lexer": "ipython3",
   "version": "3.5.5"
  }
 },
 "nbformat": 4,
 "nbformat_minor": 2
}
